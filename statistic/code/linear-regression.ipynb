{
 "cells": [
  {
   "cell_type": "markdown",
   "metadata": {},
   "source": [
    "\n",
    "1.For dataset “gifted.csv”: \n",
    "\n",
    "------------------------------------------------\n",
    "1.1 Construct different linear regression models using “step” function with Y = __score__ in test of analytical skills as a dependent variable, and independent variables:fatheriq，motheriq，speak，count，read，edutv，cartoons\n",
    "\n",
    "1.2 Verify if the coefficients of linear regression model are significant.  \n",
    "\n",
    "1.3 Choose the best model using AIC statistics. \n",
    "\n",
    "1.4 Test if the linear regression model is significant in general.  \n",
    "--------------------------------------------\n",
    "\n",
    "data requirements:\n",
    "\n",
    "1.5 Test the homoscedasticity of the model. (Гомоскедастичность - постоянная изменчивость остатков на всех уровнях независимой переменной)\n",
    "\n",
    "- H0: $D_{e_1} = D_{e_2} = ... = D_{e_i}$ - homoscedasticity\n",
    "- H1: $D_{e_1} \\neq D_{e_2} \\neq ... \\neq D_{e_i}$ - heteroscedasticity\n",
    "- Using test Breusch-Pagan \n",
    "\n",
    "---------------------------------------------------------\n",
    "1.6 Test the autocorrelation of residuals. \n",
    "\n",
    "-------------------------------------------------------\n",
    "\n",
    "1.7 Test multicollinearity.\n",
    "\n",
    "---------------------------------------------------------\n",
    "1.8 Test the normality of residuals. \n",
    "\n",
    "1.9 Use Box-Cox transformation to improve the model. \n",
    "\n",
    "1.10 What is the “best” model? Advantages and disadvantages of the best model? \n",
    "\n",
    "--------------------------------------\n",
    "\n"
   ]
  },
  {
   "cell_type": "code",
   "execution_count": 1,
   "metadata": {
    "vscode": {
     "languageId": "r"
    }
   },
   "outputs": [
    {
     "data": {
      "text/html": [
       "<table class=\"dataframe\">\n",
       "<caption>A data.frame: 3 × 8</caption>\n",
       "<thead>\n",
       "\t<tr><th></th><th scope=col>score</th><th scope=col>fatheriq</th><th scope=col>motheriq</th><th scope=col>speak</th><th scope=col>count</th><th scope=col>read</th><th scope=col>edutv</th><th scope=col>cartoons</th></tr>\n",
       "\t<tr><th></th><th scope=col>&lt;int&gt;</th><th scope=col>&lt;int&gt;</th><th scope=col>&lt;int&gt;</th><th scope=col>&lt;int&gt;</th><th scope=col>&lt;int&gt;</th><th scope=col>&lt;dbl&gt;</th><th scope=col>&lt;dbl&gt;</th><th scope=col>&lt;dbl&gt;</th></tr>\n",
       "</thead>\n",
       "<tbody>\n",
       "\t<tr><th scope=row>1</th><td>159</td><td>115</td><td>117</td><td>18</td><td>26</td><td>1.9</td><td>3.00</td><td>2.00</td></tr>\n",
       "\t<tr><th scope=row>2</th><td>164</td><td>117</td><td>113</td><td>20</td><td>37</td><td>2.5</td><td>1.75</td><td>3.25</td></tr>\n",
       "\t<tr><th scope=row>3</th><td>154</td><td>115</td><td>118</td><td>20</td><td>32</td><td>2.2</td><td>2.75</td><td>2.50</td></tr>\n",
       "</tbody>\n",
       "</table>\n"
      ],
      "text/latex": [
       "A data.frame: 3 × 8\n",
       "\\begin{tabular}{r|llllllll}\n",
       "  & score & fatheriq & motheriq & speak & count & read & edutv & cartoons\\\\\n",
       "  & <int> & <int> & <int> & <int> & <int> & <dbl> & <dbl> & <dbl>\\\\\n",
       "\\hline\n",
       "\t1 & 159 & 115 & 117 & 18 & 26 & 1.9 & 3.00 & 2.00\\\\\n",
       "\t2 & 164 & 117 & 113 & 20 & 37 & 2.5 & 1.75 & 3.25\\\\\n",
       "\t3 & 154 & 115 & 118 & 20 & 32 & 2.2 & 2.75 & 2.50\\\\\n",
       "\\end{tabular}\n"
      ],
      "text/markdown": [
       "\n",
       "A data.frame: 3 × 8\n",
       "\n",
       "| <!--/--> | score &lt;int&gt; | fatheriq &lt;int&gt; | motheriq &lt;int&gt; | speak &lt;int&gt; | count &lt;int&gt; | read &lt;dbl&gt; | edutv &lt;dbl&gt; | cartoons &lt;dbl&gt; |\n",
       "|---|---|---|---|---|---|---|---|---|\n",
       "| 1 | 159 | 115 | 117 | 18 | 26 | 1.9 | 3.00 | 2.00 |\n",
       "| 2 | 164 | 117 | 113 | 20 | 37 | 2.5 | 1.75 | 3.25 |\n",
       "| 3 | 154 | 115 | 118 | 20 | 32 | 2.2 | 2.75 | 2.50 |\n",
       "\n"
      ],
      "text/plain": [
       "  score fatheriq motheriq speak count read edutv cartoons\n",
       "1 159   115      117      18    26    1.9  3.00  2.00    \n",
       "2 164   117      113      20    37    2.5  1.75  3.25    \n",
       "3 154   115      118      20    32    2.2  2.75  2.50    "
      ]
     },
     "metadata": {},
     "output_type": "display_data"
    },
    {
     "data": {
      "text/html": [
       "<table class=\"dataframe\">\n",
       "<caption>A data.frame: 3 × 8</caption>\n",
       "<thead>\n",
       "\t<tr><th></th><th scope=col>score</th><th scope=col>fatheriq</th><th scope=col>motheriq</th><th scope=col>speak</th><th scope=col>count</th><th scope=col>read</th><th scope=col>edutv</th><th scope=col>cartoons</th></tr>\n",
       "\t<tr><th></th><th scope=col>&lt;int&gt;</th><th scope=col>&lt;int&gt;</th><th scope=col>&lt;int&gt;</th><th scope=col>&lt;int&gt;</th><th scope=col>&lt;int&gt;</th><th scope=col>&lt;dbl&gt;</th><th scope=col>&lt;dbl&gt;</th><th scope=col>&lt;dbl&gt;</th></tr>\n",
       "</thead>\n",
       "<tbody>\n",
       "\t<tr><th scope=row>34</th><td>162</td><td>119</td><td>113</td><td>23</td><td>28</td><td>2.1</td><td>1.25</td><td>3.50</td></tr>\n",
       "\t<tr><th scope=row>35</th><td>164</td><td>111</td><td>121</td><td>18</td><td>36</td><td>2.3</td><td>1.00</td><td>4.50</td></tr>\n",
       "\t<tr><th scope=row>36</th><td>159</td><td>114</td><td>123</td><td>20</td><td>30</td><td>2.2</td><td>1.75</td><td>3.25</td></tr>\n",
       "</tbody>\n",
       "</table>\n"
      ],
      "text/latex": [
       "A data.frame: 3 × 8\n",
       "\\begin{tabular}{r|llllllll}\n",
       "  & score & fatheriq & motheriq & speak & count & read & edutv & cartoons\\\\\n",
       "  & <int> & <int> & <int> & <int> & <int> & <dbl> & <dbl> & <dbl>\\\\\n",
       "\\hline\n",
       "\t34 & 162 & 119 & 113 & 23 & 28 & 2.1 & 1.25 & 3.50\\\\\n",
       "\t35 & 164 & 111 & 121 & 18 & 36 & 2.3 & 1.00 & 4.50\\\\\n",
       "\t36 & 159 & 114 & 123 & 20 & 30 & 2.2 & 1.75 & 3.25\\\\\n",
       "\\end{tabular}\n"
      ],
      "text/markdown": [
       "\n",
       "A data.frame: 3 × 8\n",
       "\n",
       "| <!--/--> | score &lt;int&gt; | fatheriq &lt;int&gt; | motheriq &lt;int&gt; | speak &lt;int&gt; | count &lt;int&gt; | read &lt;dbl&gt; | edutv &lt;dbl&gt; | cartoons &lt;dbl&gt; |\n",
       "|---|---|---|---|---|---|---|---|---|\n",
       "| 34 | 162 | 119 | 113 | 23 | 28 | 2.1 | 1.25 | 3.50 |\n",
       "| 35 | 164 | 111 | 121 | 18 | 36 | 2.3 | 1.00 | 4.50 |\n",
       "| 36 | 159 | 114 | 123 | 20 | 30 | 2.2 | 1.75 | 3.25 |\n",
       "\n"
      ],
      "text/plain": [
       "   score fatheriq motheriq speak count read edutv cartoons\n",
       "34 162   119      113      23    28    2.1  1.25  3.50    \n",
       "35 164   111      121      18    36    2.3  1.00  4.50    \n",
       "36 159   114      123      20    30    2.2  1.75  3.25    "
      ]
     },
     "metadata": {},
     "output_type": "display_data"
    }
   ],
   "source": [
    "file_path = \"../data/gifted.csv\"\n",
    "\n",
    "gifted = read.csv(file_path)\n",
    "\n",
    "head(gifted, 3)\n",
    "tail(gifted, 3)"
   ]
  },
  {
   "cell_type": "markdown",
   "metadata": {},
   "source": [
    "## Build models, choose the best one and verify the significance of the coeff of the model\n"
   ]
  },
  {
   "cell_type": "markdown",
   "metadata": {},
   "source": [
    "### Build model using all variables y ~ $x_1, ...., x_n$"
   ]
  },
  {
   "cell_type": "code",
   "execution_count": 4,
   "metadata": {
    "vscode": {
     "languageId": "r"
    }
   },
   "outputs": [
    {
     "data": {
      "text/plain": [
       "\n",
       "Call:\n",
       "lm(formula = score ~ ., data = gifted)\n",
       "\n",
       "Residuals:\n",
       "    Min      1Q  Median      3Q     Max \n",
       "-4.8064 -1.5898  0.0479  1.7474  5.2905 \n",
       "\n",
       "Coefficients:\n",
       "            Estimate Std. Error t value Pr(>|t|)    \n",
       "(Intercept) 75.50849   24.02618   3.143  0.00393 ** \n",
       "fatheriq     0.25249    0.13756   1.835  0.07707 .  \n",
       "motheriq     0.40007    0.07291   5.488 7.33e-06 ***\n",
       "speak        0.18764    0.14767   1.271  0.21429    \n",
       "count        0.20649    0.26631   0.775  0.44462    \n",
       "read         7.54405    5.58640   1.350  0.18769    \n",
       "edutv       -4.20244    2.24503  -1.872  0.07170 .  \n",
       "cartoons    -3.33899    2.01808  -1.655  0.10919    \n",
       "---\n",
       "Signif. codes:  0 ‘***’ 0.001 ‘**’ 0.01 ‘*’ 0.05 ‘.’ 0.1 ‘ ’ 1\n",
       "\n",
       "Residual standard error: 2.591 on 28 degrees of freedom\n",
       "Multiple R-squared:  0.7496,\tAdjusted R-squared:  0.687 \n",
       "F-statistic: 11.97 on 7 and 28 DF,  p-value: 5.803e-07\n"
      ]
     },
     "metadata": {},
     "output_type": "display_data"
    }
   ],
   "source": [
    "# Полная модель с использованием всех предикторов\n",
    "fit_full <- lm(score ~ ., data = gifted)\n",
    "summary(fit_full)"
   ]
  },
  {
   "cell_type": "markdown",
   "metadata": {},
   "source": [
    "### Automatically checking models (using step - function)"
   ]
  },
  {
   "cell_type": "code",
   "execution_count": 5,
   "metadata": {
    "vscode": {
     "languageId": "r"
    }
   },
   "outputs": [
    {
     "name": "stdout",
     "output_type": "stream",
     "text": [
      "Start:  AIC=75.49\n",
      "score ~ fatheriq + motheriq + speak + count + read + edutv + \n",
      "    cartoons\n",
      "\n",
      "           Df Sum of Sq    RSS    AIC\n",
      "- count     1     4.034 191.94 74.251\n",
      "<none>                  187.90 75.486\n",
      "- speak     1    10.836 198.74 75.505\n",
      "- read      1    12.238 200.14 75.758\n",
      "- cartoons  1    18.371 206.27 76.844\n",
      "- fatheriq  1    22.609 210.51 77.577\n",
      "- edutv     1    23.514 211.42 77.731\n",
      "- motheriq  1   202.081 389.98 99.773\n",
      "\n",
      "Step:  AIC=74.25\n",
      "score ~ fatheriq + motheriq + speak + read + edutv + cartoons\n",
      "\n",
      "           Df Sum of Sq    RSS    AIC\n",
      "- speak     1     7.829 199.77 73.690\n",
      "<none>                  191.94 74.251\n",
      "+ count     1     4.034 187.90 75.486\n",
      "- fatheriq  1    21.119 213.06 76.009\n",
      "- cartoons  1    22.467 214.40 76.236\n",
      "- edutv     1    29.657 221.59 77.424\n",
      "- read      1   182.630 374.57 96.321\n",
      "- motheriq  1   214.969 406.91 99.302\n",
      "\n",
      "Step:  AIC=73.69\n",
      "score ~ fatheriq + motheriq + read + edutv + cartoons\n",
      "\n",
      "           Df Sum of Sq    RSS    AIC\n",
      "<none>                  199.77 73.690\n",
      "+ speak     1     7.829 191.94 74.251\n",
      "- fatheriq  1    20.167 219.93 75.153\n",
      "+ count     1     1.027 198.74 75.505\n",
      "- cartoons  1    25.102 224.87 75.952\n",
      "- edutv     1    34.053 233.82 77.357\n",
      "- read      1   199.869 399.63 96.653\n",
      "- motheriq  1   219.573 419.34 98.386\n"
     ]
    }
   ],
   "source": [
    "#pairs(score ~ ., data = gifted)\n",
    "optimal_fit = step(\n",
    "    fit_full, \n",
    "    direction = 'both' #  и в сторону уменьшения предикторов и в сторону увеличения\n",
    "    )"
   ]
  },
  {
   "cell_type": "markdown",
   "metadata": {},
   "source": [
    "### Chosing the best model and verify significance of the coeff\n",
    "----------------------------\n",
    "__Conclusion:__\n",
    "- Final model contains variables: fatheriq + motheriq + read + edutv + cartoons. Why we dropped another variables? -Because another variables maximise AIC (For the full model AIC=75.49 and for the final model AIC=74.25)\n",
    "\n",
    "- Significance of the coefficients of our linear model expain from p - value:\n",
    "  - If p - value > 0.5 => not significant (fatheriq, cartoons)\n",
    "  - If p - value < 0.5 => significant (motheriq, read, edutv)\n",
    "\n",
    "- Significance of the linear regression model in general:\n",
    "    - H0: $b_1 = b_2 = ... = b_5 = 0$ - model is not significant\n",
    "    - H1: $\\exists b_i \\neq 0$\n",
    "    - Using F-test (or t-test if there is only one independent variable) find p-value\n",
    "        - In our case p-value < 0.05 => we can reject NULL hypothesis.\n"
   ]
  },
  {
   "cell_type": "code",
   "execution_count": 6,
   "metadata": {
    "vscode": {
     "languageId": "r"
    }
   },
   "outputs": [
    {
     "data": {
      "text/plain": [
       "\n",
       "Call:\n",
       "lm(formula = score ~ fatheriq + motheriq + read + edutv + cartoons, \n",
       "    data = gifted)\n",
       "\n",
       "Residuals:\n",
       "    Min      1Q  Median      3Q     Max \n",
       "-4.1624 -1.6730  0.1607  1.3263  6.4122 \n",
       "\n",
       "Coefficients:\n",
       "            Estimate Std. Error t value Pr(>|t|)    \n",
       "(Intercept) 79.04678   23.73961   3.330  0.00231 ** \n",
       "fatheriq     0.23736    0.13639   1.740  0.09206 .  \n",
       "motheriq     0.41211    0.07177   5.742 2.87e-06 ***\n",
       "read        11.90132    2.17231   5.479 6.03e-06 ***\n",
       "edutv       -4.88814    2.16155  -2.261  0.03114 *  \n",
       "cartoons    -3.82023    1.96759  -1.942  0.06163 .  \n",
       "---\n",
       "Signif. codes:  0 ‘***’ 0.001 ‘**’ 0.01 ‘*’ 0.05 ‘.’ 0.1 ‘ ’ 1\n",
       "\n",
       "Residual standard error: 2.58 on 30 degrees of freedom\n",
       "Multiple R-squared:  0.7338,\tAdjusted R-squared:  0.6894 \n",
       "F-statistic: 16.54 on 5 and 30 DF,  p-value: 7.669e-08\n"
      ]
     },
     "metadata": {},
     "output_type": "display_data"
    }
   ],
   "source": [
    "summary(optimal_fit)"
   ]
  },
  {
   "cell_type": "markdown",
   "metadata": {
    "vscode": {
     "languageId": "r"
    }
   },
   "source": [
    "## Homoscedasticity of residuals\n",
    "(Гомоскедастичность - постоянная изменчивость остатков на всех уровнях независимой переменной)\n",
    "\n",
    "- H0: $D_{e_1} = D_{e_2} = ... = D_{e_i}$ - homoscedasticity\n",
    "- H1: $D_{e_1} \\neq D_{e_2} \\neq ... \\neq D_{e_i}$ - heteroscedasticity\n",
    "- Using test Breusch-Pagan define p-value \n",
    "\n",
    "-----------------------------\n",
    "__Conclusion:__\n",
    "- For our optimal model Breusch-Pagan test showed p-value > 0.05 => we cant reject NULL hypothesis => our model probably is Homoscedasticity."
   ]
  },
  {
   "cell_type": "code",
   "execution_count": 9,
   "metadata": {
    "vscode": {
     "languageId": "r"
    }
   },
   "outputs": [
    {
     "data": {
      "text/plain": [
       "\n",
       "\tstudentized Breusch-Pagan test\n",
       "\n",
       "data:  optimal_fit\n",
       "BP = 2.6717, df = 5, p-value = 0.7504\n"
      ]
     },
     "metadata": {},
     "output_type": "display_data"
    }
   ],
   "source": [
    "library(lmtest)\n",
    "bptest(optimal_fit)"
   ]
  },
  {
   "cell_type": "markdown",
   "metadata": {},
   "source": [
    "## Autocorrelation of residuals\n",
    "\n",
    "Since that we have equation for residuals $e_i = p*e_{i-1}+v_i$, we might check whether $p = 0$ which maens that there is no autocorrelation.\n",
    "- H0: $p = 0$ - no autocorrelation\n",
    "- H1: $p \\neq 0$ - autocorrelation\n",
    "- Usind Durbin-Watson Test\n",
    "\n",
    "--------------------------------------\n",
    "__Conclusion:__\n",
    "- Durbin-Watson Test showed p-value > 0.05 => we cant reject NULL hypothesis, which means there is no significant autocorrelation\n"
   ]
  },
  {
   "cell_type": "code",
   "execution_count": 10,
   "metadata": {
    "vscode": {
     "languageId": "r"
    }
   },
   "outputs": [
    {
     "data": {
      "text/plain": [
       "\n",
       "\tDurbin-Watson test\n",
       "\n",
       "data:  optimal_fit\n",
       "DW = 1.6197, p-value = 0.123\n",
       "alternative hypothesis: true autocorrelation is greater than 0\n"
      ]
     },
     "metadata": {},
     "output_type": "display_data"
    }
   ],
   "source": [
    "library(lmtest)\n",
    "dwtest(optimal_fit)"
   ]
  },
  {
   "cell_type": "markdown",
   "metadata": {},
   "source": [
    "## Multicollinearity\n",
    "\n",
    "- Calculate $VIF(b_k)$ coefficients for all independent variables\n",
    "- If $VIF(b_k)$ < 10 we can conclude that that multicollinearity is not exists\n",
    "\n",
    "---------------------------------------------------\n",
    "__Conclusion:__\n",
    "- Since VIF < 10 for all variables in our model, multicollinearity doesnt exists\n"
   ]
  },
  {
   "cell_type": "code",
   "execution_count": 13,
   "metadata": {
    "vscode": {
     "languageId": "r"
    }
   },
   "outputs": [
    {
     "data": {
      "text/html": [
       "<style>\n",
       ".dl-inline {width: auto; margin:0; padding: 0}\n",
       ".dl-inline>dt, .dl-inline>dd {float: none; width: auto; display: inline-block}\n",
       ".dl-inline>dt::after {content: \":\\0020\"; padding-right: .5ex}\n",
       ".dl-inline>dt:not(:first-of-type) {padding-left: .5ex}\n",
       "</style><dl class=dl-inline><dt>fatheriq</dt><dd>1.18511940562371</dd><dt>motheriq</dt><dd>1.14552989317741</dd><dt>read</dt><dd>1.05100036883021</dd><dt>edutv</dt><dd>7.67446981094368</dd><dt>cartoons</dt><dd>8.02143856107037</dd></dl>\n"
      ],
      "text/latex": [
       "\\begin{description*}\n",
       "\\item[fatheriq] 1.18511940562371\n",
       "\\item[motheriq] 1.14552989317741\n",
       "\\item[read] 1.05100036883021\n",
       "\\item[edutv] 7.67446981094368\n",
       "\\item[cartoons] 8.02143856107037\n",
       "\\end{description*}\n"
      ],
      "text/markdown": [
       "fatheriq\n",
       ":   1.18511940562371motheriq\n",
       ":   1.14552989317741read\n",
       ":   1.05100036883021edutv\n",
       ":   7.67446981094368cartoons\n",
       ":   8.02143856107037\n",
       "\n"
      ],
      "text/plain": [
       "fatheriq motheriq     read    edutv cartoons \n",
       "1.185119 1.145530 1.051000 7.674470 8.021439 "
      ]
     },
     "metadata": {},
     "output_type": "display_data"
    }
   ],
   "source": [
    "library(carData)\n",
    "vif(optimal_fit)"
   ]
  },
  {
   "cell_type": "markdown",
   "metadata": {},
   "source": [
    "## The normality of residuals\n",
    "\n",
    "- Use Shapiro-Wilc test for residuals of the model\n",
    "  - H0: Normal distribution\n",
    "  - H1: Not normal distribution\n",
    "\n",
    "-----------------------------------------------------\n",
    "__Conclusion:__\n",
    "- Shapiro-Wilk normality test gave p-value > 0.05 => we cant reject NULL hypothesis"
   ]
  },
  {
   "cell_type": "code",
   "execution_count": 14,
   "metadata": {
    "vscode": {
     "languageId": "r"
    }
   },
   "outputs": [
    {
     "data": {
      "text/plain": [
       "\n",
       "\tShapiro-Wilk normality test\n",
       "\n",
       "data:  reisduals_vector\n",
       "W = 0.97689, p-value = 0.6398\n"
      ]
     },
     "metadata": {},
     "output_type": "display_data"
    }
   ],
   "source": [
    "reisduals_vector = residuals(optimal_fit, type=\"response\") # определяем вектор остатков\n",
    "shapiro.test(reisduals_vector) "
   ]
  },
  {
   "cell_type": "markdown",
   "metadata": {},
   "source": [
    "## BoxCox transformation\n",
    "\n",
    "---------------------------\n",
    "__Conclusion:__\n",
    "- Residual standard error: 0.0008714 becomes much less than in the first model \n",
    "- R-squared 0.6911 which is a little higher than the first model\n",
    "- Same variables (compare with the first model) are still significant\n",
    "- So as the conclusion it seems that it is better to choose second model (after box-cox transfromation) to describe this data"
   ]
  },
  {
   "cell_type": "code",
   "execution_count": 20,
   "metadata": {
    "vscode": {
     "languageId": "r"
    }
   },
   "outputs": [
    {
     "data": {
      "text/html": [
       "75"
      ],
      "text/latex": [
       "75"
      ],
      "text/markdown": [
       "75"
      ],
      "text/plain": [
       "[1] 75"
      ]
     },
     "metadata": {},
     "output_type": "display_data"
    },
    {
     "data": {
      "text/html": [
       "0.98989898989899"
      ],
      "text/latex": [
       "0.98989898989899"
      ],
      "text/markdown": [
       "0.98989898989899"
      ],
      "text/plain": [
       "[1] 0.989899"
      ]
     },
     "metadata": {},
     "output_type": "display_data"
    },
    {
     "data": {
      "text/plain": [
       "\n",
       "Call:\n",
       "lm(formula = score ~ fatheriq + motheriq + read + edutv + cartoons, \n",
       "    data = gifted)\n",
       "\n",
       "Residuals:\n",
       "       Min         1Q     Median         3Q        Max \n",
       "-2.071e-03 -4.606e-04 -8.026e-05  5.573e-04  1.438e-03 \n",
       "\n",
       "Coefficients:\n",
       "              Estimate Std. Error t value Pr(>|t|)    \n",
       "(Intercept)  1.652e-01  8.017e-03  20.608  < 2e-16 ***\n",
       "fatheriq    -8.256e-05  4.606e-05  -1.792   0.0832 .  \n",
       "motheriq    -1.412e-04  2.424e-05  -5.825 2.27e-06 ***\n",
       "read        -4.023e-03  7.336e-04  -5.484 5.94e-06 ***\n",
       "edutv        1.602e-03  7.300e-04   2.195   0.0360 *  \n",
       "cartoons     1.259e-03  6.645e-04   1.894   0.0679 .  \n",
       "---\n",
       "Signif. codes:  0 ‘***’ 0.001 ‘**’ 0.01 ‘*’ 0.05 ‘.’ 0.1 ‘ ’ 1\n",
       "\n",
       "Residual standard error: 0.0008714 on 30 degrees of freedom\n",
       "Multiple R-squared:  0.7352,\tAdjusted R-squared:  0.6911 \n",
       "F-statistic: 16.66 on 5 and 30 DF,  p-value: 7.071e-08\n"
      ]
     },
     "metadata": {},
     "output_type": "display_data"
    },
    {
     "data": {
      "image/png": "[encoded data removed]",
      "text/plain": [
       "plot without title"
      ]
     },
     "metadata": {
      "image/png": {
       "height": 420,
       "width": 420
      }
     },
     "output_type": "display_data"
    }
   ],
   "source": [
    "library(MASS)\n",
    "boxcox = boxcox(optimal_fit) # посмотрим на графике\n",
    "\n",
    "# найдем точное значение лямбды (на оси х)\n",
    "# оно дает наибольшее значение функции правдоподобия\n",
    "which.max(boxcox$y)\n",
    "lambda = boxcox$x[which.max(boxcox$y)]\n",
    "lambda\n",
    "\n",
    "# теперь преобразуем нашу зависимую перменную, возводя ее в степень лямбда\n",
    "temp = gifted$score^lambda\n",
    "gifted$score = temp\n",
    "\n",
    "# строим новую модель\n",
    "fit2 = lm(score~ fatheriq + motheriq + read + edutv + cartoons, data=gifted)\n",
    "summary(fit2)\n"
   ]
  },
  {
   "cell_type": "markdown",
   "metadata": {},
   "source": [
    "\n",
    "2.For dataset “Real estate.csv”: \n",
    "#This real estate dataset includes the date of purchase, house age, location, distance to nearest MRT station, number of convenience stores and house price of unit area. \n",
    "\n",
    "2.1 Construct the linear regression model with y= house price of unit area and independent variables: house age, distance to nearest MRT station, number of convenience stores.\n",
    "\n",
    "2.2 Verify if the coefficients of linear regression model are significant.\n",
    "\n",
    "2.3 Choose the best model using AIC statistics. \n",
    "\n",
    "2.4 Test if the linear regression model is significant in general.  \n",
    "\n",
    "2.5 Test the homoscedasticity of the model. \n",
    "\n",
    "2.6 Test the autocorrelation of residuals. \n",
    "\n",
    "2.7 Test multicollinearity. \n",
    "\n",
    "2.8 Test the normality of residuals. \n",
    "\n",
    "2.9 Use Box-Cox transformation to improve the model. \n",
    "\n",
    "2.10 What is the “best” model? Advantages and disadvantages of the best model?"
   ]
  },
  {
   "cell_type": "code",
   "execution_count": 32,
   "metadata": {
    "vscode": {
     "languageId": "r"
    }
   },
   "outputs": [
    {
     "data": {
      "text/html": [
       "<table class=\"dataframe\">\n",
       "<caption>A data.frame: 3 × 8</caption>\n",
       "<thead>\n",
       "\t<tr><th></th><th scope=col>No</th><th scope=col>X1.transaction.date</th><th scope=col>X2.house.age</th><th scope=col>X3.distance.to.the.nearest.MRT.station</th><th scope=col>X4.number.of.convenience.stores</th><th scope=col>X5.latitude</th><th scope=col>X6.longitude</th><th scope=col>Y.house.price.of.unit.area</th></tr>\n",
       "\t<tr><th></th><th scope=col>&lt;int&gt;</th><th scope=col>&lt;dbl&gt;</th><th scope=col>&lt;dbl&gt;</th><th scope=col>&lt;dbl&gt;</th><th scope=col>&lt;int&gt;</th><th scope=col>&lt;dbl&gt;</th><th scope=col>&lt;dbl&gt;</th><th scope=col>&lt;dbl&gt;</th></tr>\n",
       "</thead>\n",
       "<tbody>\n",
       "\t<tr><th scope=row>1</th><td>1</td><td>2012.917</td><td>32.0</td><td> 84.87882</td><td>10</td><td>24.98298</td><td>121.5402</td><td>37.9</td></tr>\n",
       "\t<tr><th scope=row>2</th><td>2</td><td>2012.917</td><td>19.5</td><td>306.59470</td><td> 9</td><td>24.98034</td><td>121.5395</td><td>42.2</td></tr>\n",
       "\t<tr><th scope=row>3</th><td>3</td><td>2013.583</td><td>13.3</td><td>561.98450</td><td> 5</td><td>24.98746</td><td>121.5439</td><td>47.3</td></tr>\n",
       "</tbody>\n",
       "</table>\n"
      ],
      "text/latex": [
       "A data.frame: 3 × 8\n",
       "\\begin{tabular}{r|llllllll}\n",
       "  & No & X1.transaction.date & X2.house.age & X3.distance.to.the.nearest.MRT.station & X4.number.of.convenience.stores & X5.latitude & X6.longitude & Y.house.price.of.unit.area\\\\\n",
       "  & <int> & <dbl> & <dbl> & <dbl> & <int> & <dbl> & <dbl> & <dbl>\\\\\n",
       "\\hline\n",
       "\t1 & 1 & 2012.917 & 32.0 &  84.87882 & 10 & 24.98298 & 121.5402 & 37.9\\\\\n",
       "\t2 & 2 & 2012.917 & 19.5 & 306.59470 &  9 & 24.98034 & 121.5395 & 42.2\\\\\n",
       "\t3 & 3 & 2013.583 & 13.3 & 561.98450 &  5 & 24.98746 & 121.5439 & 47.3\\\\\n",
       "\\end{tabular}\n"
      ],
      "text/markdown": [
       "\n",
       "A data.frame: 3 × 8\n",
       "\n",
       "| <!--/--> | No &lt;int&gt; | X1.transaction.date &lt;dbl&gt; | X2.house.age &lt;dbl&gt; | X3.distance.to.the.nearest.MRT.station &lt;dbl&gt; | X4.number.of.convenience.stores &lt;int&gt; | X5.latitude &lt;dbl&gt; | X6.longitude &lt;dbl&gt; | Y.house.price.of.unit.area &lt;dbl&gt; |\n",
       "|---|---|---|---|---|---|---|---|---|\n",
       "| 1 | 1 | 2012.917 | 32.0 |  84.87882 | 10 | 24.98298 | 121.5402 | 37.9 |\n",
       "| 2 | 2 | 2012.917 | 19.5 | 306.59470 |  9 | 24.98034 | 121.5395 | 42.2 |\n",
       "| 3 | 3 | 2013.583 | 13.3 | 561.98450 |  5 | 24.98746 | 121.5439 | 47.3 |\n",
       "\n"
      ],
      "text/plain": [
       "  No X1.transaction.date X2.house.age X3.distance.to.the.nearest.MRT.station\n",
       "1 1  2012.917            32.0          84.87882                             \n",
       "2 2  2012.917            19.5         306.59470                             \n",
       "3 3  2013.583            13.3         561.98450                             \n",
       "  X4.number.of.convenience.stores X5.latitude X6.longitude\n",
       "1 10                              24.98298    121.5402    \n",
       "2  9                              24.98034    121.5395    \n",
       "3  5                              24.98746    121.5439    \n",
       "  Y.house.price.of.unit.area\n",
       "1 37.9                      \n",
       "2 42.2                      \n",
       "3 47.3                      "
      ]
     },
     "metadata": {},
     "output_type": "display_data"
    },
    {
     "data": {
      "text/plain": [
       "\n",
       "Call:\n",
       "lm(formula = Y.house.price.of.unit.area ~ X2.house.age + X3.distance.to.the.nearest.MRT.station + \n",
       "    X4.number.of.convenience.stores, data = realEstate)\n",
       "\n",
       "Residuals:\n",
       "    Min      1Q  Median      3Q     Max \n",
       "-37.304  -5.430  -1.738   4.325  77.315 \n",
       "\n",
       "Coefficients:\n",
       "                                        Estimate Std. Error t value Pr(>|t|)\n",
       "(Intercept)                            42.977286   1.384542  31.041  < 2e-16\n",
       "X2.house.age                           -0.252856   0.040105  -6.305 7.47e-10\n",
       "X3.distance.to.the.nearest.MRT.station -0.005379   0.000453 -11.874  < 2e-16\n",
       "X4.number.of.convenience.stores         1.297443   0.194290   6.678 7.91e-11\n",
       "                                          \n",
       "(Intercept)                            ***\n",
       "X2.house.age                           ***\n",
       "X3.distance.to.the.nearest.MRT.station ***\n",
       "X4.number.of.convenience.stores        ***\n",
       "---\n",
       "Signif. codes:  0 ‘***’ 0.001 ‘**’ 0.01 ‘*’ 0.05 ‘.’ 0.1 ‘ ’ 1\n",
       "\n",
       "Residual standard error: 9.251 on 410 degrees of freedom\n",
       "Multiple R-squared:  0.5411,\tAdjusted R-squared:  0.5377 \n",
       "F-statistic: 161.1 on 3 and 410 DF,  p-value: < 2.2e-16\n"
      ]
     },
     "metadata": {},
     "output_type": "display_data"
    },
    {
     "name": "stdout",
     "output_type": "stream",
     "text": [
      "Start:  AIC=1846.09\n",
      "Y.house.price.of.unit.area ~ X2.house.age + X3.distance.to.the.nearest.MRT.station + \n",
      "    X4.number.of.convenience.stores\n",
      "\n",
      "                                         Df Sum of Sq   RSS    AIC\n",
      "<none>                                                35091 1846.1\n",
      "- X2.house.age                            1    3402.1 38493 1882.4\n",
      "- X4.number.of.convenience.stores         1    3816.7 38908 1886.8\n",
      "- X3.distance.to.the.nearest.MRT.station  1   12066.4 47157 1966.5\n"
     ]
    },
    {
     "data": {
      "text/plain": [
       "\n",
       "Call:\n",
       "lm(formula = Y.house.price.of.unit.area ~ X2.house.age + X3.distance.to.the.nearest.MRT.station + \n",
       "    X4.number.of.convenience.stores, data = realEstate)\n",
       "\n",
       "Residuals:\n",
       "    Min      1Q  Median      3Q     Max \n",
       "-37.304  -5.430  -1.738   4.325  77.315 \n",
       "\n",
       "Coefficients:\n",
       "                                        Estimate Std. Error t value Pr(>|t|)\n",
       "(Intercept)                            42.977286   1.384542  31.041  < 2e-16\n",
       "X2.house.age                           -0.252856   0.040105  -6.305 7.47e-10\n",
       "X3.distance.to.the.nearest.MRT.station -0.005379   0.000453 -11.874  < 2e-16\n",
       "X4.number.of.convenience.stores         1.297443   0.194290   6.678 7.91e-11\n",
       "                                          \n",
       "(Intercept)                            ***\n",
       "X2.house.age                           ***\n",
       "X3.distance.to.the.nearest.MRT.station ***\n",
       "X4.number.of.convenience.stores        ***\n",
       "---\n",
       "Signif. codes:  0 ‘***’ 0.001 ‘**’ 0.01 ‘*’ 0.05 ‘.’ 0.1 ‘ ’ 1\n",
       "\n",
       "Residual standard error: 9.251 on 410 degrees of freedom\n",
       "Multiple R-squared:  0.5411,\tAdjusted R-squared:  0.5377 \n",
       "F-statistic: 161.1 on 3 and 410 DF,  p-value: < 2.2e-16\n"
      ]
     },
     "metadata": {},
     "output_type": "display_data"
    }
   ],
   "source": [
    "#2.For dataset “Real estate.csv”: \n",
    "#This real estate dataset includes the date of purchase, house age, location, distance to nearest MRT station, number of convenience stores and house price of unit area. \n",
    "file_path = \"../data/Realestate.csv\"\n",
    "\n",
    "realEstate = read.csv(file_path)\n",
    "\n",
    "head(realEstate, 3)\n",
    "\n",
    "\n",
    "\n",
    "\n",
    "#2.1 Construct the linear regression model with y= house price of unit area and independent variables: house age, distance to nearest MRT station, number of convenience stores.\n",
    "fit1 <- lm(Y.house.price.of.unit.area ~ X2.house.age + X3.distance.to.the.nearest.MRT.station + X4.number.of.convenience.stores, data = realEstate)\n",
    "summary(fit1)\n",
    "\n",
    "#2.2 Verify if the coefficients of linear regression model are significant.\n",
    "\n",
    "#2.3 Choose the best model using AIC statistics. \n",
    "#pairs(score ~ ., data = gifted)\n",
    "optimal_fit = step(\n",
    "    fit1, \n",
    "    direction = 'both' #  и в сторону уменьшения предикторов и в сторону увеличения\n",
    "    )\n",
    "\n",
    "summary(optimal_fit)\n",
    "#2.4 Test if the linear regression model is significant in general.  \n"
   ]
  },
  {
   "cell_type": "code",
   "execution_count": 33,
   "metadata": {
    "vscode": {
     "languageId": "r"
    }
   },
   "outputs": [
    {
     "data": {
      "text/plain": [
       "\n",
       "\tstudentized Breusch-Pagan test\n",
       "\n",
       "data:  optimal_fit\n",
       "BP = 3.2911, df = 3, p-value = 0.3489\n"
      ]
     },
     "metadata": {},
     "output_type": "display_data"
    },
    {
     "data": {
      "text/plain": [
       "\n",
       "\tDurbin-Watson test\n",
       "\n",
       "data:  optimal_fit\n",
       "DW = 2.1149, p-value = 0.8808\n",
       "alternative hypothesis: true autocorrelation is greater than 0\n"
      ]
     },
     "metadata": {},
     "output_type": "display_data"
    },
    {
     "data": {
      "text/html": [
       "<style>\n",
       ".dl-inline {width: auto; margin:0; padding: 0}\n",
       ".dl-inline>dt, .dl-inline>dd {float: none; width: auto; display: inline-block}\n",
       ".dl-inline>dt::after {content: \":\\0020\"; padding-right: .5ex}\n",
       ".dl-inline>dt:not(:first-of-type) {padding-left: .5ex}\n",
       "</style><dl class=dl-inline><dt>X2.house.age</dt><dd>1.00734924781151</dd><dt>X3.distance.to.the.nearest.MRT.station</dt><dd>1.57757929332477</dd><dt>X4.number.of.convenience.stores</dt><dd>1.58043056772129</dd></dl>\n"
      ],
      "text/latex": [
       "\\begin{description*}\n",
       "\\item[X2.house.age] 1.00734924781151\n",
       "\\item[X3.distance.to.the.nearest.MRT.station] 1.57757929332477\n",
       "\\item[X4.number.of.convenience.stores] 1.58043056772129\n",
       "\\end{description*}\n"
      ],
      "text/markdown": [
       "X2.house.age\n",
       ":   1.00734924781151X3.distance.to.the.nearest.MRT.station\n",
       ":   1.57757929332477X4.number.of.convenience.stores\n",
       ":   1.58043056772129\n",
       "\n"
      ],
      "text/plain": [
       "                          X2.house.age X3.distance.to.the.nearest.MRT.station \n",
       "                              1.007349                               1.577579 \n",
       "       X4.number.of.convenience.stores \n",
       "                              1.580431 "
      ]
     },
     "metadata": {},
     "output_type": "display_data"
    },
    {
     "data": {
      "text/plain": [
       "\n",
       "\tShapiro-Wilk normality test\n",
       "\n",
       "data:  reisduals_vector\n",
       "W = 0.87858, p-value < 2.2e-16\n"
      ]
     },
     "metadata": {},
     "output_type": "display_data"
    }
   ],
   "source": [
    "#2.5 Test the homoscedasticity of the model. (yes)\n",
    "library(lmtest)\n",
    "bptest(optimal_fit)\n",
    "\n",
    "#2.6 Test the autocorrelation of residuals. (good)\n",
    "library(lmtest)\n",
    "dwtest(optimal_fit)\n",
    "\n",
    "#2.7 Test multicollinearity. (good)\n",
    "library(carData)\n",
    "library(car)\n",
    "vif(optimal_fit)\n",
    "\n",
    "#2.8 Test the normality of residuals. (not normal)\n",
    "reisduals_vector = residuals(optimal_fit, type=\"response\") # определяем вектор остатков\n",
    "shapiro.test(reisduals_vector) \n"
   ]
  },
  {
   "cell_type": "code",
   "execution_count": null,
   "metadata": {
    "vscode": {
     "languageId": "r"
    }
   },
   "outputs": [
    {
     "data": {
      "text/html": [
       "56"
      ],
      "text/latex": [
       "56"
      ],
      "text/markdown": [
       "56"
      ],
      "text/plain": [
       "[1] 56"
      ]
     },
     "metadata": {},
     "output_type": "display_data"
    },
    {
     "data": {
      "text/html": [
       "0.222222222222222"
      ],
      "text/latex": [
       "0.222222222222222"
      ],
      "text/markdown": [
       "0.222222222222222"
      ],
      "text/plain": [
       "[1] 0.2222222"
      ]
     },
     "metadata": {},
     "output_type": "display_data"
    },
    {
     "data": {
      "text/plain": [
       "\n",
       "Call:\n",
       "lm(formula = Y.house.price.of.unit.area ~ X2.house.age + X3.distance.to.the.nearest.MRT.station + \n",
       "    X4.number.of.convenience.stores, data = realEstate)\n",
       "\n",
       "Residuals:\n",
       "     Min       1Q   Median       3Q      Max \n",
       "-0.74845 -0.05917 -0.00404  0.05474  0.62413 \n",
       "\n",
       "Coefficients:\n",
       "                                         Estimate Std. Error t value Pr(>|t|)\n",
       "(Intercept)                             2.300e+00  1.733e-02 132.685  < 2e-16\n",
       "X2.house.age                           -3.196e-03  5.020e-04  -6.366 5.20e-10\n",
       "X3.distance.to.the.nearest.MRT.station -8.633e-05  5.671e-06 -15.223  < 2e-16\n",
       "X4.number.of.convenience.stores         1.657e-02  2.432e-03   6.812 3.45e-11\n",
       "                                          \n",
       "(Intercept)                            ***\n",
       "X2.house.age                           ***\n",
       "X3.distance.to.the.nearest.MRT.station ***\n",
       "X4.number.of.convenience.stores        ***\n",
       "---\n",
       "Signif. codes:  0 ‘***’ 0.001 ‘**’ 0.01 ‘*’ 0.05 ‘.’ 0.1 ‘ ’ 1\n",
       "\n",
       "Residual standard error: 0.1158 on 410 degrees of freedom\n",
       "Multiple R-squared:  0.6231,\tAdjusted R-squared:  0.6204 \n",
       "F-statistic:   226 on 3 and 410 DF,  p-value: < 2.2e-16\n"
      ]
     },
     "metadata": {},
     "output_type": "display_data"
    },
    {
     "data": {
      "image/png": "[encoded data removed]",
      "text/plain": [
       "plot without title"
      ]
     },
     "metadata": {
      "image/png": {
       "height": 420,
       "width": 420
      }
     },
     "output_type": "display_data"
    }
   ],
   "source": [
    "#2.9 Use Box-Cox transformation to improve the model. \n",
    "library(MASS)\n",
    "boxcox = boxcox(optimal_fit) # посмотрим на графике\n",
    "\n",
    "\n",
    "# найдем точное значение лямбды (на оси х)\n",
    "# оно дает наибольшее значение функции правдоподобия\n",
    "which.max(boxcox$y)\n",
    "lambda = boxcox$x[which.max(boxcox$y)]\n",
    "lambda\n",
    "\n",
    "# теперь преобразуем нашу зависимую перменную, возводя ее в степень лямбда\n",
    "temp = realEstate$Y.house.price.of.unit.area^lambda\n",
    "realEstate$Y.house.price.of.unit.area = temp\n",
    "\n",
    "# строим новую модель\n",
    "fit2 <- lm(Y.house.price.of.unit.area ~ X2.house.age + X3.distance.to.the.nearest.MRT.station + X4.number.of.convenience.stores, data = realEstate)\n",
    "\n",
    "summary(fit2)\n",
    "\n",
    "#2.10 What is the “best” model? Advantages and disadvantages of the best model?\n",
    "# Adjusted R-squared:  0.5377 - first model\n",
    "# Adjusted R-squared:  0.6204  - after box- cox transformation"
   ]
  }
 ],
 "metadata": {
  "kernelspec": {
   "display_name": "R",
   "language": "R",
   "name": "ir"
  },
  "language_info": {
   "codemirror_mode": "r",
   "file_extension": ".r",
   "mimetype": "text/x-r-source",
   "name": "R",
   "pygments_lexer": "r",
   "version": "4.3.1"
  }
 },
 "nbformat": 4,
 "nbformat_minor": 2
}
