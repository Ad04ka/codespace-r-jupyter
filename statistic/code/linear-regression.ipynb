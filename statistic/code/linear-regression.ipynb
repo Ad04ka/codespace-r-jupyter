{
 "cells": [
  {
   "cell_type": "markdown",
   "metadata": {},
   "source": [
    "# Task\n",
    "\n",
    "1.For dataset “gifted.csv”: \n",
    "\n",
    "1.1 Construct different linear regression models using “step” function with Y = score in test of analytical skills as a dependent variable, and independent variables:fatheriq，motheriq，speak，count，read，edutv，cartoons\n",
    "\n",
    "1.2 Verify if the coefficients of linear regression model are significant.  \n",
    "\n",
    "1.3Choose the best model using AIC statistics. \n",
    "\n",
    "1.4 Test if the linear regression model is significant in general.  \n",
    "\n",
    "1.5 Test the homoscedasticity of the model. \n",
    "\n",
    "1.6 Test the autocorrelation of residuals. \n",
    "\n",
    "1.7 Test multicollinearity.\n",
    "\n",
    "1.8 Test the normality of residuals. \n",
    "\n",
    "1.9 Use Box-Cox transformation to improve the model. \n",
    "\n",
    "1.10 What is the “best” model? Advantages and disadvantages of the best model? \n",
    "\n",
    "--------------------------------------\n",
    "\n",
    "2.For dataset “Real estate.csv”: \n",
    "#This real estate dataset includes the date of purchase, house age, location, distance to nearest MRT station, number of convenience stores and house price of unit area. \n",
    "\n",
    "2.1 Construct the linear regression model with y= house price of unit area and independent variables: house age, distance to nearest MRT station, number of convenience stores.\n",
    "\n",
    "2.2 Verify if the coefficients of linear regression model are significant.\n",
    "\n",
    "2.3 Choose the best model using AIC statistics. \n",
    "\n",
    "2.4 Test if the linear regression model is significant in general.  \n",
    "\n",
    "2.5 Test the homoscedasticity of the model. \n",
    "\n",
    "2.6 Test the autocorrelation of residuals. \n",
    "\n",
    "2.7 Test multicollinearity. \n",
    "\n",
    "2.8 Test the normality of residuals. \n",
    "\n",
    "2.9 Use Box-Cox transformation to improve the model. \n",
    "\n",
    "2.10 What is the “best” model? Advantages and disadvantages of the best model?\n"
   ]
  },
  {
   "cell_type": "markdown",
   "metadata": {},
   "source": []
  }
 ],
 "metadata": {
  "language_info": {
   "name": "python"
  }
 },
 "nbformat": 4,
 "nbformat_minor": 2
}
