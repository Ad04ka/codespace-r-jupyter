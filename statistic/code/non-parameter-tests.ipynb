{
 "cells": [
  {
   "cell_type": "markdown",
   "metadata": {},
   "source": [
    "# Task\n",
    "\n",
    "1 For dataset “Euroweight”: Test the  hypotheses that the distributions of the weights of coins is the same in different packages using a non-parametric test. \n",
    "\n",
    "2 For dataset “iris.txt” (read description in file “iris_description.txt’): \n",
    "- 2.1 Test the hypotheses that the correlation between “sepal length” and “sepal width” inside each class of iris is significant. \n",
    "- 2.2 Test the hypotheses that the correlation between “petal length” and “petal width” inside each class of iris is significant. Use Kendall and Spearman correlation coefficients. \n",
    "\n",
    "3 For dataset “cigarettes.txt”: \n",
    "- 3.1 Test the hypotheses that the correlation between “nicotine” and “weight” is significant. Use Kendall and Spearman correlation coefficients. \n",
    "- 3.2 Test the hypotheses that the correlation between “nicotine” and “carbon monoxide” is significant. Use Kendall and Spearman correlation coefficients. \n",
    "\n",
    "4 Suppose in a coin tossing, the chance to get a head or tail is 50 %. In a real case, we have 100 coin tossings, and get 48 heads, is our original hypothesis true? [Use binom.test] \n",
    "\n",
    "5 Did a fair coin produce 8 heads in 10 flips? By “fair” we mean the coin with equal probabilities of appearance of both sides. [Use binom.test] "
   ]
  },
  {
   "cell_type": "markdown",
   "metadata": {},
   "source": [
    "## 1 For dataset “Euroweight”: \n",
    "------------------------------------------------------------------\n",
    "VARIABLE DESCRIPTIONS:\n",
    "\n",
    "Columns:\n",
    "- 1 - 8  ID   this is the case number\n",
    "- 9 - 16 weight weight of the euro coin in grams\n",
    "- 17 batch number of the package\n",
    "------------------------------------------------------------------\n",
    "- Test the  hypotheses that the distributions of the weights of coins is the same in different packages using a non-parametric test. "
   ]
  },
  {
   "cell_type": "code",
   "execution_count": 17,
   "metadata": {
    "vscode": {
     "languageId": "r"
    }
   },
   "outputs": [
    {
     "data": {
      "text/html": [
       "<table class=\"dataframe\">\n",
       "<caption>A data.frame: 3 × 3</caption>\n",
       "<thead>\n",
       "\t<tr><th></th><th scope=col>ID</th><th scope=col>weight</th><th scope=col>batch</th></tr>\n",
       "\t<tr><th></th><th scope=col>&lt;int&gt;</th><th scope=col>&lt;dbl&gt;</th><th scope=col>&lt;fct&gt;</th></tr>\n",
       "</thead>\n",
       "<tbody>\n",
       "\t<tr><th scope=row>1</th><td>1</td><td>7.512</td><td>1</td></tr>\n",
       "\t<tr><th scope=row>2</th><td>2</td><td>7.502</td><td>1</td></tr>\n",
       "\t<tr><th scope=row>3</th><td>3</td><td>7.461</td><td>1</td></tr>\n",
       "</tbody>\n",
       "</table>\n"
      ],
      "text/latex": [
       "A data.frame: 3 × 3\n",
       "\\begin{tabular}{r|lll}\n",
       "  & ID & weight & batch\\\\\n",
       "  & <int> & <dbl> & <fct>\\\\\n",
       "\\hline\n",
       "\t1 & 1 & 7.512 & 1\\\\\n",
       "\t2 & 2 & 7.502 & 1\\\\\n",
       "\t3 & 3 & 7.461 & 1\\\\\n",
       "\\end{tabular}\n"
      ],
      "text/markdown": [
       "\n",
       "A data.frame: 3 × 3\n",
       "\n",
       "| <!--/--> | ID &lt;int&gt; | weight &lt;dbl&gt; | batch &lt;fct&gt; |\n",
       "|---|---|---|---|\n",
       "| 1 | 1 | 7.512 | 1 |\n",
       "| 2 | 2 | 7.502 | 1 |\n",
       "| 3 | 3 | 7.461 | 1 |\n",
       "\n"
      ],
      "text/plain": [
       "  ID weight batch\n",
       "1 1  7.512  1    \n",
       "2 2  7.502  1    \n",
       "3 3  7.461  1    "
      ]
     },
     "metadata": {},
     "output_type": "display_data"
    },
    {
     "data": {
      "text/html": [
       "<table class=\"dataframe\">\n",
       "<caption>A data.frame: 2 × 3</caption>\n",
       "<thead>\n",
       "\t<tr><th></th><th scope=col>ID</th><th scope=col>weight</th><th scope=col>batch</th></tr>\n",
       "\t<tr><th></th><th scope=col>&lt;int&gt;</th><th scope=col>&lt;dbl&gt;</th><th scope=col>&lt;fct&gt;</th></tr>\n",
       "</thead>\n",
       "<tbody>\n",
       "\t<tr><th scope=row>1999</th><td>1999</td><td>7.547</td><td>8</td></tr>\n",
       "\t<tr><th scope=row>2000</th><td>2000</td><td>7.494</td><td>8</td></tr>\n",
       "</tbody>\n",
       "</table>\n"
      ],
      "text/latex": [
       "A data.frame: 2 × 3\n",
       "\\begin{tabular}{r|lll}\n",
       "  & ID & weight & batch\\\\\n",
       "  & <int> & <dbl> & <fct>\\\\\n",
       "\\hline\n",
       "\t1999 & 1999 & 7.547 & 8\\\\\n",
       "\t2000 & 2000 & 7.494 & 8\\\\\n",
       "\\end{tabular}\n"
      ],
      "text/markdown": [
       "\n",
       "A data.frame: 2 × 3\n",
       "\n",
       "| <!--/--> | ID &lt;int&gt; | weight &lt;dbl&gt; | batch &lt;fct&gt; |\n",
       "|---|---|---|---|\n",
       "| 1999 | 1999 | 7.547 | 8 |\n",
       "| 2000 | 2000 | 7.494 | 8 |\n",
       "\n"
      ],
      "text/plain": [
       "     ID   weight batch\n",
       "1999 1999 7.547  8    \n",
       "2000 2000 7.494  8    "
      ]
     },
     "metadata": {},
     "output_type": "display_data"
    }
   ],
   "source": [
    "library(readxl)\n",
    "\n",
    "file_path <- \"../data/euroweight.dat.txt\"\n",
    "euroweight = read.table(file_path,  sep = \"\", fill = TRUE )\n",
    "\n",
    "# fill = True -- na в пустые колонки\n",
    "\n",
    "# Задание названий столбцов\n",
    "colnames(euroweight) <- c(\"ID\", \"weight\", \"batch\")\n",
    "euroweight$batch = factor(euroweight$batch)\n",
    "\n",
    "\n",
    "\n",
    "head(euroweight, 3)\n",
    "tail(euroweight, 2)"
   ]
  },
  {
   "cell_type": "code",
   "execution_count": 18,
   "metadata": {
    "vscode": {
     "languageId": "r"
    }
   },
   "outputs": [
    {
     "data": {
      "text/plain": [
       "\n",
       "\tPairwise comparisons using Wilcoxon rank sum test with continuity correction \n",
       "\n",
       "data:  euroweight$weight and euroweight$batch \n",
       "\n",
       "  1       2       3       4       5       6       7      \n",
       "2 1.00000 -       -       -       -       -       -      \n",
       "3 0.04297 0.00025 -       -       -       -       -      \n",
       "4 0.00141 0.10329 7.8e-12 -       -       -       -      \n",
       "5 0.00108 0.10329 2.6e-12 1.00000 -       -       -      \n",
       "6 0.76768 0.04297 1.00000 2.9e-07 1.7e-07 -       -      \n",
       "7 1.00000 1.00000 0.00012 0.10329 0.10202 0.04297 -      \n",
       "8 1.00000 0.10329 0.73578 1.4e-06 7.1e-07 1.00000 0.10202\n",
       "\n",
       "P value adjustment method: holm "
      ]
     },
     "metadata": {},
     "output_type": "display_data"
    }
   ],
   "source": [
    "pairwise.wilcox.test(euroweight$weight, euroweight$batch)"
   ]
  },
  {
   "cell_type": "code",
   "execution_count": 19,
   "metadata": {
    "vscode": {
     "languageId": "r"
    }
   },
   "outputs": [
    {
     "data": {
      "text/plain": [
       "\n",
       "\tKruskal-Wallis rank sum test\n",
       "\n",
       "data:  euroweight$weight and euroweight$batch\n",
       "Kruskal-Wallis chi-squared = 97.5, df = 7, p-value < 2.2e-16\n"
      ]
     },
     "metadata": {},
     "output_type": "display_data"
    }
   ],
   "source": [
    "kruskal.test(euroweight$weight, euroweight$batch)"
   ]
  },
  {
   "cell_type": "markdown",
   "metadata": {},
   "source": [
    "## 2 For dataset “iris.txt” (read description in file “iris_description.txt’):\n",
    "---------------------------------------------------------------\n",
    "Attribute Information:\n",
    "   1. sepal length in cm\n",
    "   2. sepal (чашелистик) width in cm\n",
    "   3. petal (лепесток) length in cm\n",
    "   4. petal width in cm\n",
    "   5. class: \n",
    "      -- Iris Setosa\n",
    "      -- Iris Versicolour\n",
    "      -- Iris Virginica\n",
    "--------------------------------------------------------------\n",
    "- Test the hypotheses that the correlation between “sepal length” and “sepal width” inside each class of iris is significant. \n",
    "- Test the hypotheses that the correlation between “petal length” and “petal width” inside each class of iris is significant. Use Kendall and Spearman correlation coefficients. \n",
    "\n",
    "-------------------------------------------------------\n",
    "__Conclusion:__\n",
    "- the correlation between “sepal length” and “sepal width” inside each class of iris is significant\n",
    "  - since the p-value for each class is less than 0.05 we reject the NULL hypothesis => dependence is significant\n",
    "- the correlation between “petal length” and “petal width” inside each class of iris is significant\n",
    "  -  for class Iris-setosa p-value is more than 0.05, so we cant reject Null hypothesis => dependence is not significant"
   ]
  },
  {
   "cell_type": "code",
   "execution_count": 20,
   "metadata": {
    "vscode": {
     "languageId": "r"
    }
   },
   "outputs": [
    {
     "data": {
      "text/html": [
       "<table class=\"dataframe\">\n",
       "<caption>A data.frame: 3 × 5</caption>\n",
       "<thead>\n",
       "\t<tr><th></th><th scope=col>sepal_length</th><th scope=col>sepal_width</th><th scope=col>petal_length</th><th scope=col>petal_width</th><th scope=col>class</th></tr>\n",
       "\t<tr><th></th><th scope=col>&lt;dbl&gt;</th><th scope=col>&lt;dbl&gt;</th><th scope=col>&lt;dbl&gt;</th><th scope=col>&lt;dbl&gt;</th><th scope=col>&lt;fct&gt;</th></tr>\n",
       "</thead>\n",
       "<tbody>\n",
       "\t<tr><th scope=row>1</th><td>5.1</td><td>3.5</td><td>1.4</td><td>0.2</td><td>Iris-setosa</td></tr>\n",
       "\t<tr><th scope=row>2</th><td>4.9</td><td>3.0</td><td>1.4</td><td>0.2</td><td>Iris-setosa</td></tr>\n",
       "\t<tr><th scope=row>3</th><td>4.7</td><td>3.2</td><td>1.3</td><td>0.2</td><td>Iris-setosa</td></tr>\n",
       "</tbody>\n",
       "</table>\n"
      ],
      "text/latex": [
       "A data.frame: 3 × 5\n",
       "\\begin{tabular}{r|lllll}\n",
       "  & sepal\\_length & sepal\\_width & petal\\_length & petal\\_width & class\\\\\n",
       "  & <dbl> & <dbl> & <dbl> & <dbl> & <fct>\\\\\n",
       "\\hline\n",
       "\t1 & 5.1 & 3.5 & 1.4 & 0.2 & Iris-setosa\\\\\n",
       "\t2 & 4.9 & 3.0 & 1.4 & 0.2 & Iris-setosa\\\\\n",
       "\t3 & 4.7 & 3.2 & 1.3 & 0.2 & Iris-setosa\\\\\n",
       "\\end{tabular}\n"
      ],
      "text/markdown": [
       "\n",
       "A data.frame: 3 × 5\n",
       "\n",
       "| <!--/--> | sepal_length &lt;dbl&gt; | sepal_width &lt;dbl&gt; | petal_length &lt;dbl&gt; | petal_width &lt;dbl&gt; | class &lt;fct&gt; |\n",
       "|---|---|---|---|---|---|\n",
       "| 1 | 5.1 | 3.5 | 1.4 | 0.2 | Iris-setosa |\n",
       "| 2 | 4.9 | 3.0 | 1.4 | 0.2 | Iris-setosa |\n",
       "| 3 | 4.7 | 3.2 | 1.3 | 0.2 | Iris-setosa |\n",
       "\n"
      ],
      "text/plain": [
       "  sepal_length sepal_width petal_length petal_width class      \n",
       "1 5.1          3.5         1.4          0.2         Iris-setosa\n",
       "2 4.9          3.0         1.4          0.2         Iris-setosa\n",
       "3 4.7          3.2         1.3          0.2         Iris-setosa"
      ]
     },
     "metadata": {},
     "output_type": "display_data"
    },
    {
     "data": {
      "text/html": [
       "<table class=\"dataframe\">\n",
       "<caption>A data.frame: 2 × 5</caption>\n",
       "<thead>\n",
       "\t<tr><th></th><th scope=col>sepal_length</th><th scope=col>sepal_width</th><th scope=col>petal_length</th><th scope=col>petal_width</th><th scope=col>class</th></tr>\n",
       "\t<tr><th></th><th scope=col>&lt;dbl&gt;</th><th scope=col>&lt;dbl&gt;</th><th scope=col>&lt;dbl&gt;</th><th scope=col>&lt;dbl&gt;</th><th scope=col>&lt;fct&gt;</th></tr>\n",
       "</thead>\n",
       "<tbody>\n",
       "\t<tr><th scope=row>149</th><td>6.2</td><td>3.4</td><td>5.4</td><td>2.3</td><td>Iris-virginica</td></tr>\n",
       "\t<tr><th scope=row>150</th><td>5.9</td><td>3.0</td><td>5.1</td><td>1.8</td><td>Iris-virginica</td></tr>\n",
       "</tbody>\n",
       "</table>\n"
      ],
      "text/latex": [
       "A data.frame: 2 × 5\n",
       "\\begin{tabular}{r|lllll}\n",
       "  & sepal\\_length & sepal\\_width & petal\\_length & petal\\_width & class\\\\\n",
       "  & <dbl> & <dbl> & <dbl> & <dbl> & <fct>\\\\\n",
       "\\hline\n",
       "\t149 & 6.2 & 3.4 & 5.4 & 2.3 & Iris-virginica\\\\\n",
       "\t150 & 5.9 & 3.0 & 5.1 & 1.8 & Iris-virginica\\\\\n",
       "\\end{tabular}\n"
      ],
      "text/markdown": [
       "\n",
       "A data.frame: 2 × 5\n",
       "\n",
       "| <!--/--> | sepal_length &lt;dbl&gt; | sepal_width &lt;dbl&gt; | petal_length &lt;dbl&gt; | petal_width &lt;dbl&gt; | class &lt;fct&gt; |\n",
       "|---|---|---|---|---|---|\n",
       "| 149 | 6.2 | 3.4 | 5.4 | 2.3 | Iris-virginica |\n",
       "| 150 | 5.9 | 3.0 | 5.1 | 1.8 | Iris-virginica |\n",
       "\n"
      ],
      "text/plain": [
       "    sepal_length sepal_width petal_length petal_width class         \n",
       "149 6.2          3.4         5.4          2.3         Iris-virginica\n",
       "150 5.9          3.0         5.1          1.8         Iris-virginica"
      ]
     },
     "metadata": {},
     "output_type": "display_data"
    }
   ],
   "source": [
    "file_path <- \"../data/iris.txt\"\n",
    "iris = read.table(file_path,  sep = \",\", fill = TRUE )\n",
    "\n",
    "# fill = True -- na в пустые колонки\n",
    "\n",
    "# Задание названий столбцов\n",
    "colnames(iris) <- c(\"sepal_length\", \"sepal_width\", \"petal_length\", \"petal_width\", \"class\")\n",
    "iris$class = factor(iris$class)\n",
    "\n",
    "\n",
    "\n",
    "head(iris, 3)\n",
    "tail(iris, 2)"
   ]
  },
  {
   "cell_type": "code",
   "execution_count": 124,
   "metadata": {
    "vscode": {
     "languageId": "r"
    }
   },
   "outputs": [
    {
     "data": {
      "image/png": "[encoded data removed]",
      "text/plain": [
       "plot without title"
      ]
     },
     "metadata": {
      "image/png": {
       "height": 420,
       "width": 420
      }
     },
     "output_type": "display_data"
    },
    {
     "data": {
      "image/png": "[encoded data removed]",
      "text/plain": [
       "plot without title"
      ]
     },
     "metadata": {
      "image/png": {
       "height": 420,
       "width": 420
      }
     },
     "output_type": "display_data"
    }
   ],
   "source": [
    "ggplot(iris, aes(x = sepal_length, y = sepal_width))+\n",
    "    geom_point(size = 2)+\n",
    "    facet_wrap(~ class) # разделить по классам\n",
    "\n",
    "ggplot(iris, aes(x = petal_length, y = petal_width))+\n",
    "    geom_point(size = 1)+\n",
    "    facet_wrap(~ class) # разделить по классам\n",
    "\n"
   ]
  },
  {
   "cell_type": "code",
   "execution_count": null,
   "metadata": {
    "vscode": {
     "languageId": "r"
    }
   },
   "outputs": [
    {
     "data": {
      "text/html": [
       "<table class=\"dataframe\">\n",
       "<caption>A tibble: 3 × 5</caption>\n",
       "<thead>\n",
       "\t<tr><th scope=col>class</th><th scope=col>cor_kendall</th><th scope=col>cor_spearman</th><th scope=col>p_value_kendall</th><th scope=col>p_value_spearman</th></tr>\n",
       "\t<tr><th scope=col>&lt;fct&gt;</th><th scope=col>&lt;dbl&gt;</th><th scope=col>&lt;dbl&gt;</th><th scope=col>&lt;dbl&gt;</th><th scope=col>&lt;dbl&gt;</th></tr>\n",
       "</thead>\n",
       "<tbody>\n",
       "\t<tr><td>Iris-setosa    </td><td>0.6101996</td><td>0.7686085</td><td>5.437384e-09</td><td>7.161782e-11</td></tr>\n",
       "\t<tr><td>Iris-versicolor</td><td>0.3977974</td><td>0.5176060</td><td>1.142294e-04</td><td>1.183863e-04</td></tr>\n",
       "\t<tr><td>Iris-virginica </td><td>0.3070869</td><td>0.4265165</td><td>3.221813e-03</td><td>2.010675e-03</td></tr>\n",
       "</tbody>\n",
       "</table>\n"
      ],
      "text/latex": [
       "A tibble: 3 × 5\n",
       "\\begin{tabular}{lllll}\n",
       " class & cor\\_kendall & cor\\_spearman & p\\_value\\_kendall & p\\_value\\_spearman\\\\\n",
       " <fct> & <dbl> & <dbl> & <dbl> & <dbl>\\\\\n",
       "\\hline\n",
       "\t Iris-setosa     & 0.6101996 & 0.7686085 & 5.437384e-09 & 7.161782e-11\\\\\n",
       "\t Iris-versicolor & 0.3977974 & 0.5176060 & 1.142294e-04 & 1.183863e-04\\\\\n",
       "\t Iris-virginica  & 0.3070869 & 0.4265165 & 3.221813e-03 & 2.010675e-03\\\\\n",
       "\\end{tabular}\n"
      ],
      "text/markdown": [
       "\n",
       "A tibble: 3 × 5\n",
       "\n",
       "| class &lt;fct&gt; | cor_kendall &lt;dbl&gt; | cor_spearman &lt;dbl&gt; | p_value_kendall &lt;dbl&gt; | p_value_spearman &lt;dbl&gt; |\n",
       "|---|---|---|---|---|\n",
       "| Iris-setosa     | 0.6101996 | 0.7686085 | 5.437384e-09 | 7.161782e-11 |\n",
       "| Iris-versicolor | 0.3977974 | 0.5176060 | 1.142294e-04 | 1.183863e-04 |\n",
       "| Iris-virginica  | 0.3070869 | 0.4265165 | 3.221813e-03 | 2.010675e-03 |\n",
       "\n"
      ],
      "text/plain": [
       "  class           cor_kendall cor_spearman p_value_kendall p_value_spearman\n",
       "1 Iris-setosa     0.6101996   0.7686085    5.437384e-09    7.161782e-11    \n",
       "2 Iris-versicolor 0.3977974   0.5176060    1.142294e-04    1.183863e-04    \n",
       "3 Iris-virginica  0.3070869   0.4265165    3.221813e-03    2.010675e-03    "
      ]
     },
     "metadata": {},
     "output_type": "display_data"
    }
   ],
   "source": [
    "# dependence for sepal_length + sepal_width in different classes\n",
    "library(dplyr)\n",
    "iris %>%\n",
    "    group_by(class) %>%\n",
    "    summarise(\n",
    "        cor_kendall = cor(sepal_length, sepal_width, method = \"kendall\"),\n",
    "        cor_spearman = cor(sepal_length, sepal_width, method = \"spearman\"),\n",
    "        p_value_kendall = cor.test(sepal_length, sepal_width, method = \"kendall\")$p.value,\n",
    "        p_value_spearman = cor.test(sepal_length, sepal_width, method = \"spearman\", exact = FALSE)$p.value\n",
    "\n",
    "    )\n",
    "\n",
    "\n",
    "#####################################################################\n",
    "# To check that the function above is correct \n",
    "#cor.test(subset(iris, class == \"Iris-setosa\")$sepal_length, subset(iris, class == \"Iris-setosa\")$sepal_width, method = \"spearman\", exact = FALSE)\n"
   ]
  },
  {
   "cell_type": "code",
   "execution_count": null,
   "metadata": {
    "vscode": {
     "languageId": "r"
    }
   },
   "outputs": [
    {
     "data": {
      "text/html": [
       "<table class=\"dataframe\">\n",
       "<caption>A tibble: 3 × 5</caption>\n",
       "<thead>\n",
       "\t<tr><th scope=col>class</th><th scope=col>cor_kendall</th><th scope=col>cor_spearman</th><th scope=col>p_value_kendall</th><th scope=col>p_value_spearman</th></tr>\n",
       "\t<tr><th scope=col>&lt;fct&gt;</th><th scope=col>&lt;dbl&gt;</th><th scope=col>&lt;dbl&gt;</th><th scope=col>&lt;dbl&gt;</th><th scope=col>&lt;dbl&gt;</th></tr>\n",
       "</thead>\n",
       "<tbody>\n",
       "\t<tr><td>Iris-setosa    </td><td>0.1828759</td><td>0.2272747</td><td>1.198247e-01</td><td>1.124498e-01</td></tr>\n",
       "\t<tr><td>Iris-versicolor</td><td>0.6457342</td><td>0.7870096</td><td>1.285570e-09</td><td>1.229065e-11</td></tr>\n",
       "\t<tr><td>Iris-virginica </td><td>0.2714149</td><td>0.3629133</td><td>9.399136e-03</td><td>9.590655e-03</td></tr>\n",
       "</tbody>\n",
       "</table>\n"
      ],
      "text/latex": [
       "A tibble: 3 × 5\n",
       "\\begin{tabular}{lllll}\n",
       " class & cor\\_kendall & cor\\_spearman & p\\_value\\_kendall & p\\_value\\_spearman\\\\\n",
       " <fct> & <dbl> & <dbl> & <dbl> & <dbl>\\\\\n",
       "\\hline\n",
       "\t Iris-setosa     & 0.1828759 & 0.2272747 & 1.198247e-01 & 1.124498e-01\\\\\n",
       "\t Iris-versicolor & 0.6457342 & 0.7870096 & 1.285570e-09 & 1.229065e-11\\\\\n",
       "\t Iris-virginica  & 0.2714149 & 0.3629133 & 9.399136e-03 & 9.590655e-03\\\\\n",
       "\\end{tabular}\n"
      ],
      "text/markdown": [
       "\n",
       "A tibble: 3 × 5\n",
       "\n",
       "| class &lt;fct&gt; | cor_kendall &lt;dbl&gt; | cor_spearman &lt;dbl&gt; | p_value_kendall &lt;dbl&gt; | p_value_spearman &lt;dbl&gt; |\n",
       "|---|---|---|---|---|\n",
       "| Iris-setosa     | 0.1828759 | 0.2272747 | 1.198247e-01 | 1.124498e-01 |\n",
       "| Iris-versicolor | 0.6457342 | 0.7870096 | 1.285570e-09 | 1.229065e-11 |\n",
       "| Iris-virginica  | 0.2714149 | 0.3629133 | 9.399136e-03 | 9.590655e-03 |\n",
       "\n"
      ],
      "text/plain": [
       "  class           cor_kendall cor_spearman p_value_kendall p_value_spearman\n",
       "1 Iris-setosa     0.1828759   0.2272747    1.198247e-01    1.124498e-01    \n",
       "2 Iris-versicolor 0.6457342   0.7870096    1.285570e-09    1.229065e-11    \n",
       "3 Iris-virginica  0.2714149   0.3629133    9.399136e-03    9.590655e-03    "
      ]
     },
     "metadata": {},
     "output_type": "display_data"
    }
   ],
   "source": [
    "# dependence for petal_length and petal_width in different classes\n",
    "library(dplyr)\n",
    "iris %>%\n",
    "    group_by(class) %>%\n",
    "    summarise(\n",
    "        cor_kendall = cor(petal_length, petal_width, method = \"kendall\"),\n",
    "        cor_spearman = cor(petal_length, petal_width, method = \"spearman\"),\n",
    "        p_value_kendall = cor.test(petal_length, petal_width, method = \"kendall\")$p.value,\n",
    "        p_value_spearman = cor.test(petal_length, petal_width, method = \"spearman\", exact = FALSE)$p.value\n",
    "\n",
    "    )"
   ]
  },
  {
   "cell_type": "markdown",
   "metadata": {},
   "source": [
    "### Additional part"
   ]
  },
  {
   "cell_type": "code",
   "execution_count": 125,
   "metadata": {
    "vscode": {
     "languageId": "r"
    }
   },
   "outputs": [
    {
     "data": {
      "text/plain": [
       "\n",
       "\tKendall's rank correlation tau\n",
       "\n",
       "data:  sepal_length and sepal_width\n",
       "z = -1.2469, p-value = 0.2124\n",
       "alternative hypothesis: true tau is not equal to 0\n",
       "sample estimates:\n",
       "        tau \n",
       "-0.07211192 \n"
      ]
     },
     "metadata": {},
     "output_type": "display_data"
    },
    {
     "data": {
      "text/plain": [
       "\n",
       "\tSpearman's rank correlation rho\n",
       "\n",
       "data:  petal_length and petal_width\n",
       "S = 35997, p-value < 2.2e-16\n",
       "alternative hypothesis: true rho is not equal to 0\n",
       "sample estimates:\n",
       "      rho \n",
       "0.9360034 \n"
      ]
     },
     "metadata": {},
     "output_type": "display_data"
    }
   ],
   "source": [
    "# The way how to write functions\n",
    "cor.test(~ sepal_length + sepal_width, iris, method = \"kendall\")\n",
    "cor.test(~ petal_length + petal_width, iris, method = \"spearman\", exact = FALSE)\n",
    "\n"
   ]
  },
  {
   "cell_type": "code",
   "execution_count": 128,
   "metadata": {
    "vscode": {
     "languageId": "r"
    }
   },
   "outputs": [
    {
     "data": {
      "image/png": "[encoded data removed]",
      "text/plain": [
       "plot without title"
      ]
     },
     "metadata": {
      "image/png": {
       "height": 420,
       "width": 420
      }
     },
     "output_type": "display_data"
    },
    {
     "data": {
      "image/png": "[encoded data removed]",
      "text/plain": [
       "plot without title"
      ]
     },
     "metadata": {
      "image/png": {
       "height": 420,
       "width": 420
      }
     },
     "output_type": "display_data"
    }
   ],
   "source": [
    "ggplot(iris, aes(x = sepal_length, y = sepal_width))+\n",
    "    geom_point(size = 2)\n",
    "\n",
    "ggplot(iris, aes(x = petal_length, y = petal_width))+\n",
    "    geom_point(size = 2)\n",
    "\n",
    "\n",
    "\n"
   ]
  },
  {
   "cell_type": "markdown",
   "metadata": {},
   "source": [
    "## 3 For dataset “cigarettes.txt”: \n",
    "---------------------------------------\n",
    "VARIABLE DESCRIPTION:\n",
    "Data from 1993 or earlier\n",
    "x1=tar (mg)\n",
    "x2=nicotine (mg)\n",
    "x3=weight (g)\n",
    "y=carbon monoxide (mg)\n",
    "\n",
    "-----------------------------------------\n",
    "- Test the hypotheses that the correlation between “nicotine” and “weight” is significant. Use Kendall and Spearman correlation coefficients. \n",
    "- Test the hypotheses that the correlation between “nicotine” and “carbon monoxide” is significant. Use Kendall and Spearman correlation coefficients. \n",
    "\n",
    "-----------------------------------------\n",
    "__Conclusion:__\n",
    "- __the correlation between “nicotine” and “weight”__\n",
    "  - p > 0.05 => can't reject Null hypothesis that dependence NOT exist\n",
    "- __the correlation between “nicotine” and “carbon monoxide”__\n",
    "  - p < 0.05 => reject Null hypothesis that dependence NOT exist "
   ]
  },
  {
   "cell_type": "code",
   "execution_count": 73,
   "metadata": {
    "vscode": {
     "languageId": "r"
    }
   },
   "outputs": [
    {
     "data": {
      "text/html": [
       "<table class=\"dataframe\">\n",
       "<caption>A data.frame: 3 × 5</caption>\n",
       "<thead>\n",
       "\t<tr><th></th><th scope=col>name</th><th scope=col>tar</th><th scope=col>nicotine</th><th scope=col>weight</th><th scope=col>carbon_monoxide</th></tr>\n",
       "\t<tr><th></th><th scope=col>&lt;chr&gt;</th><th scope=col>&lt;dbl&gt;</th><th scope=col>&lt;dbl&gt;</th><th scope=col>&lt;dbl&gt;</th><th scope=col>&lt;dbl&gt;</th></tr>\n",
       "</thead>\n",
       "<tbody>\n",
       "\t<tr><th scope=row>1</th><td>Alpine       </td><td>14.1</td><td>0.86</td><td>0.9853</td><td>13.6</td></tr>\n",
       "\t<tr><th scope=row>2</th><td>Benson&amp;Hedges</td><td>16.0</td><td>1.06</td><td>1.0938</td><td>16.6</td></tr>\n",
       "\t<tr><th scope=row>3</th><td>BullDurham   </td><td>29.8</td><td>2.03</td><td>1.1650</td><td>23.5</td></tr>\n",
       "</tbody>\n",
       "</table>\n"
      ],
      "text/latex": [
       "A data.frame: 3 × 5\n",
       "\\begin{tabular}{r|lllll}\n",
       "  & name & tar & nicotine & weight & carbon\\_monoxide\\\\\n",
       "  & <chr> & <dbl> & <dbl> & <dbl> & <dbl>\\\\\n",
       "\\hline\n",
       "\t1 & Alpine        & 14.1 & 0.86 & 0.9853 & 13.6\\\\\n",
       "\t2 & Benson\\&Hedges & 16.0 & 1.06 & 1.0938 & 16.6\\\\\n",
       "\t3 & BullDurham    & 29.8 & 2.03 & 1.1650 & 23.5\\\\\n",
       "\\end{tabular}\n"
      ],
      "text/markdown": [
       "\n",
       "A data.frame: 3 × 5\n",
       "\n",
       "| <!--/--> | name &lt;chr&gt; | tar &lt;dbl&gt; | nicotine &lt;dbl&gt; | weight &lt;dbl&gt; | carbon_monoxide &lt;dbl&gt; |\n",
       "|---|---|---|---|---|---|\n",
       "| 1 | Alpine        | 14.1 | 0.86 | 0.9853 | 13.6 |\n",
       "| 2 | Benson&amp;Hedges | 16.0 | 1.06 | 1.0938 | 16.6 |\n",
       "| 3 | BullDurham    | 29.8 | 2.03 | 1.1650 | 23.5 |\n",
       "\n"
      ],
      "text/plain": [
       "  name          tar  nicotine weight carbon_monoxide\n",
       "1 Alpine        14.1 0.86     0.9853 13.6           \n",
       "2 Benson&Hedges 16.0 1.06     1.0938 16.6           \n",
       "3 BullDurham    29.8 2.03     1.1650 23.5           "
      ]
     },
     "metadata": {},
     "output_type": "display_data"
    },
    {
     "data": {
      "text/html": [
       "<table class=\"dataframe\">\n",
       "<caption>A data.frame: 2 × 5</caption>\n",
       "<thead>\n",
       "\t<tr><th></th><th scope=col>name</th><th scope=col>tar</th><th scope=col>nicotine</th><th scope=col>weight</th><th scope=col>carbon_monoxide</th></tr>\n",
       "\t<tr><th></th><th scope=col>&lt;chr&gt;</th><th scope=col>&lt;dbl&gt;</th><th scope=col>&lt;dbl&gt;</th><th scope=col>&lt;dbl&gt;</th><th scope=col>&lt;dbl&gt;</th></tr>\n",
       "</thead>\n",
       "<tbody>\n",
       "\t<tr><th scope=row>24</th><td>VirginiaSlims</td><td>15.2</td><td>1.02</td><td>0.9496</td><td>13.9</td></tr>\n",
       "\t<tr><th scope=row>25</th><td>WinstonLights</td><td>12.0</td><td>0.82</td><td>1.1184</td><td>14.9</td></tr>\n",
       "</tbody>\n",
       "</table>\n"
      ],
      "text/latex": [
       "A data.frame: 2 × 5\n",
       "\\begin{tabular}{r|lllll}\n",
       "  & name & tar & nicotine & weight & carbon\\_monoxide\\\\\n",
       "  & <chr> & <dbl> & <dbl> & <dbl> & <dbl>\\\\\n",
       "\\hline\n",
       "\t24 & VirginiaSlims & 15.2 & 1.02 & 0.9496 & 13.9\\\\\n",
       "\t25 & WinstonLights & 12.0 & 0.82 & 1.1184 & 14.9\\\\\n",
       "\\end{tabular}\n"
      ],
      "text/markdown": [
       "\n",
       "A data.frame: 2 × 5\n",
       "\n",
       "| <!--/--> | name &lt;chr&gt; | tar &lt;dbl&gt; | nicotine &lt;dbl&gt; | weight &lt;dbl&gt; | carbon_monoxide &lt;dbl&gt; |\n",
       "|---|---|---|---|---|---|\n",
       "| 24 | VirginiaSlims | 15.2 | 1.02 | 0.9496 | 13.9 |\n",
       "| 25 | WinstonLights | 12.0 | 0.82 | 1.1184 | 14.9 |\n",
       "\n"
      ],
      "text/plain": [
       "   name          tar  nicotine weight carbon_monoxide\n",
       "24 VirginiaSlims 15.2 1.02     0.9496 13.9           \n",
       "25 WinstonLights 12.0 0.82     1.1184 14.9           "
      ]
     },
     "metadata": {},
     "output_type": "display_data"
    }
   ],
   "source": [
    "file_path <- \"../data/cigarettes.dat.txt\"\n",
    "cigarettes = read.table(file_path,  sep = \"\", header = TRUE, fill = TRUE ,\n",
    "    dec = '.',na.strings = 'NA')\n",
    "\n",
    "# fill = True -- na в пустые колонки\n",
    "cigarettes <- na.omit(cigarettes)\n",
    "\n",
    "\n",
    "\n",
    "\n",
    "head(cigarettes, 3)\n",
    "tail(cigarettes, 2)"
   ]
  },
  {
   "cell_type": "markdown",
   "metadata": {},
   "source": [
    "### Plots (pairs)"
   ]
  },
  {
   "cell_type": "code",
   "execution_count": 66,
   "metadata": {
    "vscode": {
     "languageId": "r"
    }
   },
   "outputs": [
    {
     "data": {
      "image/png": "[encoded data removed]",
      "text/plain": [
       "plot without title"
      ]
     },
     "metadata": {
      "image/png": {
       "height": 420,
       "width": 420
      }
     },
     "output_type": "display_data"
    }
   ],
   "source": [
    "cigarettes_numeric = cigarettes[, c(2:5)]\n",
    "pairs(cigarettes_numeric)"
   ]
  },
  {
   "cell_type": "markdown",
   "metadata": {},
   "source": [
    "### Test for correlation"
   ]
  },
  {
   "cell_type": "code",
   "execution_count": 74,
   "metadata": {
    "vscode": {
     "languageId": "r"
    }
   },
   "outputs": [
    {
     "data": {
      "text/html": [
       "<table class=\"dataframe\">\n",
       "<caption>A matrix: 4 × 4 of type dbl</caption>\n",
       "<thead>\n",
       "\t<tr><th></th><th scope=col>tar</th><th scope=col>nicotine</th><th scope=col>weight</th><th scope=col>carbon_monoxide</th></tr>\n",
       "</thead>\n",
       "<tbody>\n",
       "\t<tr><th scope=row>tar</th><td>0.000000e+00</td><td>1.166283e-06</td><td>1.0000000</td><td>2.949221e-06</td></tr>\n",
       "\t<tr><th scope=row>nicotine</th><td>1.943805e-07</td><td>0.000000e+00</td><td>1.0000000</td><td>2.483771e-04</td></tr>\n",
       "\t<tr><th scope=row>weight</th><td>5.896119e-01</td><td>5.237792e-01</td><td>0.0000000</td><td>1.000000e+00</td></tr>\n",
       "\t<tr><th scope=row>carbon_monoxide</th><td>5.898441e-07</td><td>6.209427e-05</td><td>0.4935506</td><td>0.000000e+00</td></tr>\n",
       "</tbody>\n",
       "</table>\n"
      ],
      "text/latex": [
       "A matrix: 4 × 4 of type dbl\n",
       "\\begin{tabular}{r|llll}\n",
       "  & tar & nicotine & weight & carbon\\_monoxide\\\\\n",
       "\\hline\n",
       "\ttar & 0.000000e+00 & 1.166283e-06 & 1.0000000 & 2.949221e-06\\\\\n",
       "\tnicotine & 1.943805e-07 & 0.000000e+00 & 1.0000000 & 2.483771e-04\\\\\n",
       "\tweight & 5.896119e-01 & 5.237792e-01 & 0.0000000 & 1.000000e+00\\\\\n",
       "\tcarbon\\_monoxide & 5.898441e-07 & 6.209427e-05 & 0.4935506 & 0.000000e+00\\\\\n",
       "\\end{tabular}\n"
      ],
      "text/markdown": [
       "\n",
       "A matrix: 4 × 4 of type dbl\n",
       "\n",
       "| <!--/--> | tar | nicotine | weight | carbon_monoxide |\n",
       "|---|---|---|---|---|\n",
       "| tar | 0.000000e+00 | 1.166283e-06 | 1.0000000 | 2.949221e-06 |\n",
       "| nicotine | 1.943805e-07 | 0.000000e+00 | 1.0000000 | 2.483771e-04 |\n",
       "| weight | 5.896119e-01 | 5.237792e-01 | 0.0000000 | 1.000000e+00 |\n",
       "| carbon_monoxide | 5.898441e-07 | 6.209427e-05 | 0.4935506 | 0.000000e+00 |\n",
       "\n"
      ],
      "text/plain": [
       "                tar          nicotine     weight    carbon_monoxide\n",
       "tar             0.000000e+00 1.166283e-06 1.0000000 2.949221e-06   \n",
       "nicotine        1.943805e-07 0.000000e+00 1.0000000 2.483771e-04   \n",
       "weight          5.896119e-01 5.237792e-01 0.0000000 1.000000e+00   \n",
       "carbon_monoxide 5.898441e-07 6.209427e-05 0.4935506 0.000000e+00   "
      ]
     },
     "metadata": {},
     "output_type": "display_data"
    },
    {
     "data": {
      "text/html": [
       "<table class=\"dataframe\">\n",
       "<caption>A matrix: 4 × 4 of type dbl</caption>\n",
       "<thead>\n",
       "\t<tr><th></th><th scope=col>tar</th><th scope=col>nicotine</th><th scope=col>weight</th><th scope=col>carbon_monoxide</th></tr>\n",
       "</thead>\n",
       "<tbody>\n",
       "\t<tr><th scope=row>tar</th><td>1.0000000</td><td>0.8361251</td><td>0.1133333</td><td>0.8180312</td></tr>\n",
       "\t<tr><th scope=row>nicotine</th><td>0.8361251</td><td>1.0000000</td><td>0.1337800</td><td>0.7135688</td></tr>\n",
       "\t<tr><th scope=row>weight</th><td>0.1133333</td><td>0.1337800</td><td>1.0000000</td><td>0.1435728</td></tr>\n",
       "\t<tr><th scope=row>carbon_monoxide</th><td>0.8180312</td><td>0.7135688</td><td>0.1435728</td><td>1.0000000</td></tr>\n",
       "</tbody>\n",
       "</table>\n"
      ],
      "text/latex": [
       "A matrix: 4 × 4 of type dbl\n",
       "\\begin{tabular}{r|llll}\n",
       "  & tar & nicotine & weight & carbon\\_monoxide\\\\\n",
       "\\hline\n",
       "\ttar & 1.0000000 & 0.8361251 & 0.1133333 & 0.8180312\\\\\n",
       "\tnicotine & 0.8361251 & 1.0000000 & 0.1337800 & 0.7135688\\\\\n",
       "\tweight & 0.1133333 & 0.1337800 & 1.0000000 & 0.1435728\\\\\n",
       "\tcarbon\\_monoxide & 0.8180312 & 0.7135688 & 0.1435728 & 1.0000000\\\\\n",
       "\\end{tabular}\n"
      ],
      "text/markdown": [
       "\n",
       "A matrix: 4 × 4 of type dbl\n",
       "\n",
       "| <!--/--> | tar | nicotine | weight | carbon_monoxide |\n",
       "|---|---|---|---|---|\n",
       "| tar | 1.0000000 | 0.8361251 | 0.1133333 | 0.8180312 |\n",
       "| nicotine | 0.8361251 | 1.0000000 | 0.1337800 | 0.7135688 |\n",
       "| weight | 0.1133333 | 0.1337800 | 1.0000000 | 0.1435728 |\n",
       "| carbon_monoxide | 0.8180312 | 0.7135688 | 0.1435728 | 1.0000000 |\n",
       "\n"
      ],
      "text/plain": [
       "                tar       nicotine  weight    carbon_monoxide\n",
       "tar             1.0000000 0.8361251 0.1133333 0.8180312      \n",
       "nicotine        0.8361251 1.0000000 0.1337800 0.7135688      \n",
       "weight          0.1133333 0.1337800 1.0000000 0.1435728      \n",
       "carbon_monoxide 0.8180312 0.7135688 0.1435728 1.0000000      "
      ]
     },
     "metadata": {},
     "output_type": "display_data"
    },
    {
     "data": {
      "text/html": [
       "<table class=\"dataframe\">\n",
       "<caption>A matrix: 4 × 4 of type dbl</caption>\n",
       "<thead>\n",
       "\t<tr><th></th><th scope=col>tar</th><th scope=col>nicotine</th><th scope=col>weight</th><th scope=col>carbon_monoxide</th></tr>\n",
       "</thead>\n",
       "<tbody>\n",
       "\t<tr><th scope=row>tar</th><td>0.000000e+00</td><td>1.131908e-10</td><td>0.8925691</td><td>7.442513e-12</td></tr>\n",
       "\t<tr><th scope=row>nicotine</th><td>2.263816e-11</td><td>0.000000e+00</td><td>0.8925691</td><td>3.293984e-08</td></tr>\n",
       "\t<tr><th scope=row>weight</th><td>4.582872e-01</td><td>3.471664e-01</td><td>0.0000000</td><td>8.925691e-01</td></tr>\n",
       "\t<tr><th scope=row>carbon_monoxide</th><td>1.240419e-12</td><td>8.234960e-09</td><td>0.2975230</td><td>0.000000e+00</td></tr>\n",
       "</tbody>\n",
       "</table>\n"
      ],
      "text/latex": [
       "A matrix: 4 × 4 of type dbl\n",
       "\\begin{tabular}{r|llll}\n",
       "  & tar & nicotine & weight & carbon\\_monoxide\\\\\n",
       "\\hline\n",
       "\ttar & 0.000000e+00 & 1.131908e-10 & 0.8925691 & 7.442513e-12\\\\\n",
       "\tnicotine & 2.263816e-11 & 0.000000e+00 & 0.8925691 & 3.293984e-08\\\\\n",
       "\tweight & 4.582872e-01 & 3.471664e-01 & 0.0000000 & 8.925691e-01\\\\\n",
       "\tcarbon\\_monoxide & 1.240419e-12 & 8.234960e-09 & 0.2975230 & 0.000000e+00\\\\\n",
       "\\end{tabular}\n"
      ],
      "text/markdown": [
       "\n",
       "A matrix: 4 × 4 of type dbl\n",
       "\n",
       "| <!--/--> | tar | nicotine | weight | carbon_monoxide |\n",
       "|---|---|---|---|---|\n",
       "| tar | 0.000000e+00 | 1.131908e-10 | 0.8925691 | 7.442513e-12 |\n",
       "| nicotine | 2.263816e-11 | 0.000000e+00 | 0.8925691 | 3.293984e-08 |\n",
       "| weight | 4.582872e-01 | 3.471664e-01 | 0.0000000 | 8.925691e-01 |\n",
       "| carbon_monoxide | 1.240419e-12 | 8.234960e-09 | 0.2975230 | 0.000000e+00 |\n",
       "\n"
      ],
      "text/plain": [
       "                tar          nicotine     weight    carbon_monoxide\n",
       "tar             0.000000e+00 1.131908e-10 0.8925691 7.442513e-12   \n",
       "nicotine        2.263816e-11 0.000000e+00 0.8925691 3.293984e-08   \n",
       "weight          4.582872e-01 3.471664e-01 0.0000000 8.925691e-01   \n",
       "carbon_monoxide 1.240419e-12 8.234960e-09 0.2975230 0.000000e+00   "
      ]
     },
     "metadata": {},
     "output_type": "display_data"
    },
    {
     "data": {
      "text/html": [
       "<table class=\"dataframe\">\n",
       "<caption>A matrix: 4 × 4 of type dbl</caption>\n",
       "<thead>\n",
       "\t<tr><th></th><th scope=col>tar</th><th scope=col>nicotine</th><th scope=col>weight</th><th scope=col>carbon_monoxide</th></tr>\n",
       "</thead>\n",
       "<tbody>\n",
       "\t<tr><th scope=row>tar</th><td>0.000000e+00</td><td>4.481132e-16</td><td>0.03266643</td><td>3.276122e-13</td></tr>\n",
       "\t<tr><th scope=row>nicotine</th><td>7.468553e-17</td><td>0.000000e+00</td><td>0.03266643</td><td>1.324690e-10</td></tr>\n",
       "\t<tr><th scope=row>weight</th><td>1.274105e-02</td><td>1.088881e-02</td><td>0.00000000</td><td>3.266643e-02</td></tr>\n",
       "\t<tr><th scope=row>carbon_monoxide</th><td>6.552245e-14</td><td>3.311725e-11</td><td>0.01948117</td><td>0.000000e+00</td></tr>\n",
       "</tbody>\n",
       "</table>\n"
      ],
      "text/latex": [
       "A matrix: 4 × 4 of type dbl\n",
       "\\begin{tabular}{r|llll}\n",
       "  & tar & nicotine & weight & carbon\\_monoxide\\\\\n",
       "\\hline\n",
       "\ttar & 0.000000e+00 & 4.481132e-16 & 0.03266643 & 3.276122e-13\\\\\n",
       "\tnicotine & 7.468553e-17 & 0.000000e+00 & 0.03266643 & 1.324690e-10\\\\\n",
       "\tweight & 1.274105e-02 & 1.088881e-02 & 0.00000000 & 3.266643e-02\\\\\n",
       "\tcarbon\\_monoxide & 6.552245e-14 & 3.311725e-11 & 0.01948117 & 0.000000e+00\\\\\n",
       "\\end{tabular}\n"
      ],
      "text/markdown": [
       "\n",
       "A matrix: 4 × 4 of type dbl\n",
       "\n",
       "| <!--/--> | tar | nicotine | weight | carbon_monoxide |\n",
       "|---|---|---|---|---|\n",
       "| tar | 0.000000e+00 | 4.481132e-16 | 0.03266643 | 3.276122e-13 |\n",
       "| nicotine | 7.468553e-17 | 0.000000e+00 | 0.03266643 | 1.324690e-10 |\n",
       "| weight | 1.274105e-02 | 1.088881e-02 | 0.00000000 | 3.266643e-02 |\n",
       "| carbon_monoxide | 6.552245e-14 | 3.311725e-11 | 0.01948117 | 0.000000e+00 |\n",
       "\n"
      ],
      "text/plain": [
       "                tar          nicotine     weight     carbon_monoxide\n",
       "tar             0.000000e+00 4.481132e-16 0.03266643 3.276122e-13   \n",
       "nicotine        7.468553e-17 0.000000e+00 0.03266643 1.324690e-10   \n",
       "weight          1.274105e-02 1.088881e-02 0.00000000 3.266643e-02   \n",
       "carbon_monoxide 6.552245e-14 3.311725e-11 0.01948117 0.000000e+00   "
      ]
     },
     "metadata": {},
     "output_type": "display_data"
    }
   ],
   "source": [
    "library(psych)\n",
    "corr.test(cigarettes_numeric, method = \"kendall\", ) -> fit\n",
    "#str(fit)\n",
    "fit$p\n",
    "fit$r\n",
    "\n",
    "corr.test(cigarettes_numeric, method = \"spearman\") -> fit\n",
    "#str(fit)\n",
    "fit$p\n",
    "#fit$r\n",
    "\n",
    "corr.test(cigarettes_numeric, method = \"pearson\") -> fit\n",
    "#str(fit)\n",
    "fit$p\n",
    "#fit$r"
   ]
  },
  {
   "cell_type": "code",
   "execution_count": 87,
   "metadata": {
    "vscode": {
     "languageId": "r"
    }
   },
   "outputs": [
    {
     "name": "stderr",
     "output_type": "stream",
     "text": [
      "Warning message in cor.test.default(cigarettes$nicotine, cigarettes$carbon_monoxide, :\n",
      "“Cannot compute exact p-value with ties”\n"
     ]
    },
    {
     "data": {
      "text/plain": [
       "\n",
       "\tKendall's rank correlation tau\n",
       "\n",
       "data:  cigarettes$nicotine and cigarettes$carbon_monoxide\n",
       "z = 4.9787, p-value = 6.402e-07\n",
       "alternative hypothesis: true tau is not equal to 0\n",
       "sample estimates:\n",
       "      tau \n",
       "0.7135688 \n"
      ]
     },
     "metadata": {},
     "output_type": "display_data"
    }
   ],
   "source": [
    "# Just for example how to use for 2 particular variables\n",
    "cor.test(cigarettes$nicotine, cigarettes$carbon_monoxide, method=\"kendall\")\n",
    "\n",
    "\n",
    "\n"
   ]
  },
  {
   "cell_type": "markdown",
   "metadata": {},
   "source": [
    "## 4 Suppose in a coin tossing, the chance to get a head or tail is 50 %. In a real case, we have 100 coin tossings, and get 48 heads, is our original hypothesis true? [Use binom.test] \n",
    "\n",
    "<u>_probability to get a head in general case:_</u>\n",
    "\n",
    "__H0__: $p = p_0 = 0,5$ probability to get a head in general case\n",
    "\n",
    "__H1__: $p = p_1 (< p_0)$ \n",
    "\n",
    "<u>_probability to get a tail in general case:_</u>\n",
    "\n",
    "__H0__: $p = p_0 = 0,5$ probability to get a tail in general case\n",
    "\n",
    "__H1__: $p = p_1 (> p_0)$ \n",
    "__Conclusion:__\n",
    "- Cant reject Null hypothesis.\n",
    "\n"
   ]
  },
  {
   "cell_type": "code",
   "execution_count": null,
   "metadata": {
    "vscode": {
     "languageId": "r"
    }
   },
   "outputs": [
    {
     "data": {
      "text/plain": [
       "\n",
       "\tExact binomial test\n",
       "\n",
       "data:  48 and 100\n",
       "number of successes = 48, number of trials = 100, p-value = 0.3822\n",
       "alternative hypothesis: true probability of success is less than 0.5\n",
       "95 percent confidence interval:\n",
       " 0.0000000 0.5667681\n",
       "sample estimates:\n",
       "probability of success \n",
       "                  0.48 \n"
      ]
     },
     "metadata": {},
     "output_type": "display_data"
    },
    {
     "data": {
      "text/plain": [
       "\n",
       "\tExact binomial test\n",
       "\n",
       "data:  52 and 100\n",
       "number of successes = 52, number of trials = 100, p-value = 0.3822\n",
       "alternative hypothesis: true probability of success is greater than 0.5\n",
       "95 percent confidence interval:\n",
       " 0.4332319 1.0000000\n",
       "sample estimates:\n",
       "probability of success \n",
       "                  0.52 \n"
      ]
     },
     "metadata": {},
     "output_type": "display_data"
    }
   ],
   "source": [
    "binom.test(\n",
    "    x = 48,\n",
    "    n = 100,\n",
    "    p = 0.5,\n",
    "    alternative = \"less\"\n",
    ")\n",
    "binom.test(\n",
    "    x = 52,\n",
    "    n = 100,\n",
    "    p = 0.5,\n",
    "    alternative = \"greater\"\n",
    ")"
   ]
  },
  {
   "cell_type": "markdown",
   "metadata": {},
   "source": [
    "## 5 Did a fair (честный) coin produce 8 heads in 10 flips? By “fair” we mean the coin with equal probabilities of appearance of both sides. [Use binom.test] \n",
    "\n",
    "H0: $p = p_0 = 0,5$ \n",
    "\n",
    "H1: $p = p_1 (< p_0)$\n",
    "\n",
    "__Conclusion:__\n",
    "- Null hypothesis is not rejected. "
   ]
  },
  {
   "cell_type": "code",
   "execution_count": null,
   "metadata": {
    "vscode": {
     "languageId": "r"
    }
   },
   "outputs": [
    {
     "data": {
      "text/plain": [
       "\n",
       "\tExact binomial test\n",
       "\n",
       "data:  8 and 10\n",
       "number of successes = 8, number of trials = 10, p-value = 0.9893\n",
       "alternative hypothesis: true probability of success is less than 0.5\n",
       "95 percent confidence interval:\n",
       " 0.0000000 0.9632286\n",
       "sample estimates:\n",
       "probability of success \n",
       "                   0.8 \n"
      ]
     },
     "metadata": {},
     "output_type": "display_data"
    }
   ],
   "source": [
    "binom.test(\n",
    "    x = 8,\n",
    "    n = 10,\n",
    "    p = 0.5,\n",
    "    alternative = \"less\"\n",
    ")"
   ]
  }
 ],
 "metadata": {
  "kernelspec": {
   "display_name": "R",
   "language": "R",
   "name": "ir"
  },
  "language_info": {
   "codemirror_mode": "r",
   "file_extension": ".r",
   "mimetype": "text/x-r-source",
   "name": "R",
   "pygments_lexer": "r",
   "version": "4.3.1"
  }
 },
 "nbformat": 4,
 "nbformat_minor": 2
}
