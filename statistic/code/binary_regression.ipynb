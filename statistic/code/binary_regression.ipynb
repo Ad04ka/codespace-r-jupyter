{
 "cells": [
  {
   "cell_type": "markdown",
   "metadata": {
    "vscode": {
     "languageId": "r"
    }
   },
   "source": [
    "# Binary regression"
   ]
  },
  {
   "cell_type": "markdown",
   "metadata": {},
   "source": [
    "1. Dataset ‘Doctor.xlsx’ (variables Y=pregnancy outcome (dependent variable), x1, x2, x3, x4, x5 (independent variables, factors)=indicators of the woman under study):\n",
    "\n",
    "- Construct descriptive statistics using the summary function.\n",
    "\n",
    "- If necessary, create a categorical variable (factor function).\n",
    "\n",
    "- Build a basic logistic regression model with as many predictors as possible using the glm function. \n",
    "\n",
    "- Write a binary regression equation using coefficient estimates.\n",
    "  - $ln\\left(\\frac{p(y=1)}{1-p(y=1)}\\right) = -10.70095 + 0.45959*x_1 + 0.81826*x_2 - 0.37897*x_3 - 2.14618*x_{42} + 0.22639*x_{43} - 0.03383*x_5$\n",
    "\n",
    "- Test the significance of the regression coefficients individually. : Intercept and x1\n",
    "\n",
    "- Test the significance of the regression as a whole using the Wald and maximum likelihood criteria. \n",
    "\n",
    "- Construct confidence intervals for the regression coefficients (confint and confint.default functions).\n",
    "\n",
    "---------------------------------------------------------------------\n",
    "\n",
    "- Conduct comparative analyses of logit and probit models.\n",
    "\n",
    "- Construct a contingency table with a threshold probability of 0.5 (confusionMatrix function).\n",
    "\n",
    "- Calculate the specificity and sensitivity of the model (sensitivity and specificity functions).\n",
    "\n",
    "- Find the optimal threshold value of the prediction probability. Build a contingency table for this probability, calculate the specificity and sensitivity of the model (function optimalCutoff).\n",
    "\n",
    "- If the sample is large, you can preliminarily split the sample into two parts: training and test samples (function sample_frac).\n",
    "\n",
    "- Plot the ROC curve, interpret the results (plotROC function). \n",
    "\n",
    "- Try to improve the logit or probit model using the AIC coefficient (stepAIC function)."
   ]
  },
  {
   "cell_type": "code",
   "execution_count": 15,
   "metadata": {
    "vscode": {
     "languageId": "r"
    }
   },
   "outputs": [
    {
     "name": "stdout",
     "output_type": "stream",
     "text": [
      "Rows: 58\n",
      "Columns: 6\n",
      "$ y  \u001b[3m\u001b[90m<dbl>\u001b[39m\u001b[23m 0, 0, 0, 1, 0, 0, 1, 1, 0, 1, 1, 1, 1, 0, 1, 1, 0, 1, 1, 1, 1, 1, 1…\n",
      "$ x1 \u001b[3m\u001b[90m<dbl>\u001b[39m\u001b[23m 14, 12, 14, 11, 21, 12, 17, 12, 14, 19, 14, 16, 17, 15, 18, 22, 19,…\n",
      "$ x2 \u001b[3m\u001b[90m<dbl>\u001b[39m\u001b[23m 4.30, 11.54, 5.84, 14.70, 5.10, 6.14, 5.05, 11.30, 3.30, 6.60, 7.60…\n",
      "$ x3 \u001b[3m\u001b[90m<dbl>\u001b[39m\u001b[23m 1.00, 8.49, 2.47, 6.60, 3.48, 3.09, 1.14, 8.85, 1.20, 4.30, 3.98, 7…\n",
      "$ x4 \u001b[3m\u001b[90m<dbl>\u001b[39m\u001b[23m 2, 3, 3, 1, 1, 1, 3, 1, 3, 1, 3, 3, 3, 1, 1, 3, 1, 1, 3, 3, 3, 3, 2…\n",
      "$ x5 \u001b[3m\u001b[90m<dbl>\u001b[39m\u001b[23m 3.72, 40.28, 56.00, 57.41, 83.00, 62.57, 22.16, 12.00, 110.00, 2.96…\n",
      "Rows: 58\n",
      "Columns: 6\n",
      "$ y  \u001b[3m\u001b[90m<fct>\u001b[39m\u001b[23m No, No, No, Yes, No, No, Yes, Yes, No, Yes, Yes, Yes, Yes, No, Yes,…\n",
      "$ x1 \u001b[3m\u001b[90m<dbl>\u001b[39m\u001b[23m 14, 12, 14, 11, 21, 12, 17, 12, 14, 19, 14, 16, 17, 15, 18, 22, 19,…\n",
      "$ x2 \u001b[3m\u001b[90m<dbl>\u001b[39m\u001b[23m 4.30, 11.54, 5.84, 14.70, 5.10, 6.14, 5.05, 11.30, 3.30, 6.60, 7.60…\n",
      "$ x3 \u001b[3m\u001b[90m<dbl>\u001b[39m\u001b[23m 1.00, 8.49, 2.47, 6.60, 3.48, 3.09, 1.14, 8.85, 1.20, 4.30, 3.98, 7…\n",
      "$ x4 \u001b[3m\u001b[90m<fct>\u001b[39m\u001b[23m 2, 3, 3, 1, 1, 1, 3, 1, 3, 1, 3, 3, 3, 1, 1, 3, 1, 1, 3, 3, 3, 3, 2…\n",
      "$ x5 \u001b[3m\u001b[90m<dbl>\u001b[39m\u001b[23m 3.72, 40.28, 56.00, 57.41, 83.00, 62.57, 22.16, 12.00, 110.00, 2.96…\n"
     ]
    },
    {
     "data": {
      "text/plain": [
       "   y            x1              x2               x3         x4    \n",
       " No :21   Min.   :11.00   Min.   : 3.300   Min.   : 1.000   1:18  \n",
       " Yes:37   1st Qu.:14.00   1st Qu.: 6.375   1st Qu.: 3.985   2: 2  \n",
       "          Median :16.00   Median :10.450   Median : 6.835   3:38  \n",
       "          Mean   :16.33   Mean   :10.328   Mean   : 7.141         \n",
       "          3rd Qu.:19.00   3rd Qu.:13.400   3rd Qu.: 9.975         \n",
       "          Max.   :27.00   Max.   :19.000   Max.   :16.000         \n",
       "       x5        \n",
       " Min.   :  0.80  \n",
       " 1st Qu.: 22.11  \n",
       " Median : 38.94  \n",
       " Mean   : 45.13  \n",
       " 3rd Qu.: 53.12  \n",
       " Max.   :399.80  "
      ]
     },
     "metadata": {},
     "output_type": "display_data"
    }
   ],
   "source": [
    "library(readxl)\n",
    "library(dplyr)\n",
    "\n",
    "read_excel('../data/Doctor.xlsx',) -> doctors\n",
    "glimpse(doctors)    \n",
    "\n",
    "doctors = mutate(doctors,\n",
    "                    y = factor(y, labels = c (\"No\", \"Yes\")),\n",
    "                    x4 = factor(x4) # если бы мы знали что это такое мы не знаем что это такое\n",
    ")\n",
    "\n",
    "glimpse(doctors)\n",
    "summary(doctors)\n"
   ]
  },
  {
   "cell_type": "code",
   "execution_count": 16,
   "metadata": {
    "vscode": {
     "languageId": "r"
    }
   },
   "outputs": [
    {
     "data": {
      "image/png": "[encoded data removed]",
      "text/plain": [
       "plot without title"
      ]
     },
     "metadata": {
      "image/png": {
       "height": 420,
       "width": 420
      }
     },
     "output_type": "display_data"
    }
   ],
   "source": [
    "library(vcd)\n",
    "\n",
    "mosaic(~ y | x4, data=doctors )"
   ]
  },
  {
   "cell_type": "markdown",
   "metadata": {},
   "source": [
    "## Build models logist and probit"
   ]
  },
  {
   "cell_type": "code",
   "execution_count": 17,
   "metadata": {
    "vscode": {
     "languageId": "r"
    }
   },
   "outputs": [
    {
     "data": {
      "text/plain": [
       "\n",
       "Call:\n",
       "glm(formula = y ~ ., family = binomial(logit), data = doctors)\n",
       "\n",
       "Coefficients:\n",
       "             Estimate Std. Error z value Pr(>|z|)   \n",
       "(Intercept) -10.70095    3.69973  -2.892  0.00382 **\n",
       "x1            0.45959    0.17705   2.596  0.00944 **\n",
       "x2            0.81826    0.43646   1.875  0.06083 . \n",
       "x3           -0.37897    0.42125  -0.900  0.36832   \n",
       "x42          -2.14618    4.14447  -0.518  0.60457   \n",
       "x43           0.22639    0.84413   0.268  0.78855   \n",
       "x5           -0.03383    0.02045  -1.654  0.09816 . \n",
       "---\n",
       "Signif. codes:  0 ‘***’ 0.001 ‘**’ 0.01 ‘*’ 0.05 ‘.’ 0.1 ‘ ’ 1\n",
       "\n",
       "(Dispersion parameter for binomial family taken to be 1)\n",
       "\n",
       "    Null deviance: 75.934  on 57  degrees of freedom\n",
       "Residual deviance: 39.251  on 51  degrees of freedom\n",
       "AIC: 53.251\n",
       "\n",
       "Number of Fisher Scoring iterations: 6\n"
      ]
     },
     "metadata": {},
     "output_type": "display_data"
    }
   ],
   "source": [
    "fit1 = glm(y ~ ., data = doctors, family = binomial(logit))\n",
    "summary(fit1)"
   ]
  },
  {
   "cell_type": "code",
   "execution_count": 70,
   "metadata": {
    "vscode": {
     "languageId": "r"
    }
   },
   "outputs": [
    {
     "name": "stderr",
     "output_type": "stream",
     "text": [
      "\n",
      "Attaching package: ‘MASS’\n",
      "\n",
      "\n",
      "The following object is masked from ‘package:dplyr’:\n",
      "\n",
      "    select\n",
      "\n",
      "\n"
     ]
    },
    {
     "name": "stdout",
     "output_type": "stream",
     "text": [
      "Start:  AIC=53.25\n",
      "y ~ x1 + x2 + x3 + x4 + x5\n",
      "\n",
      "       Df Deviance    AIC\n",
      "- x4    2   39.737 49.737\n",
      "- x3    1   40.236 52.236\n",
      "<none>      39.251 53.251\n",
      "- x2    1   45.363 57.363\n",
      "- x5    1   47.802 59.802\n",
      "- x1    1   48.955 60.955\n",
      "\n",
      "Step:  AIC=49.74\n",
      "y ~ x1 + x2 + x3 + x5\n",
      "\n",
      "       Df Deviance    AIC\n",
      "- x3    1   40.618 48.618\n",
      "<none>      39.737 49.737\n",
      "+ x4    2   39.251 53.251\n",
      "- x2    1   45.824 53.824\n",
      "- x5    1   47.946 55.946\n",
      "- x1    1   49.205 57.205\n",
      "\n",
      "Step:  AIC=48.62\n",
      "y ~ x1 + x2 + x5\n",
      "\n",
      "       Df Deviance    AIC\n",
      "<none>      40.618 48.618\n",
      "+ x3    1   39.737 49.737\n",
      "+ x4    2   40.236 52.236\n",
      "- x5    1   48.250 54.250\n",
      "- x1    1   49.294 55.294\n",
      "- x2    1   60.197 66.197\n"
     ]
    },
    {
     "data": {
      "text/plain": [
       "\n",
       "Call:\n",
       "glm(formula = y ~ x1 + x2 + x5, family = binomial(logit), data = doctors)\n",
       "\n",
       "Coefficients:\n",
       "            Estimate Std. Error z value Pr(>|z|)    \n",
       "(Intercept) -9.07857    2.97845  -3.048 0.002303 ** \n",
       "x1           0.40292    0.15730   2.562 0.010420 *  \n",
       "x2           0.47596    0.13924   3.418 0.000631 ***\n",
       "x5          -0.02954    0.01895  -1.559 0.119037    \n",
       "---\n",
       "Signif. codes:  0 ‘***’ 0.001 ‘**’ 0.01 ‘*’ 0.05 ‘.’ 0.1 ‘ ’ 1\n",
       "\n",
       "(Dispersion parameter for binomial family taken to be 1)\n",
       "\n",
       "    Null deviance: 75.934  on 57  degrees of freedom\n",
       "Residual deviance: 40.618  on 54  degrees of freedom\n",
       "AIC: 48.618\n",
       "\n",
       "Number of Fisher Scoring iterations: 6\n"
      ]
     },
     "metadata": {},
     "output_type": "display_data"
    }
   ],
   "source": [
    "library(MASS)\n",
    "# Apply stepAIC for the logistic model\n",
    "optimized_logit <- stepAIC(fit1, direction = \"both\", trace = TRUE)\n",
    "summary(optimized_logit)"
   ]
  },
  {
   "cell_type": "code",
   "execution_count": 18,
   "metadata": {
    "vscode": {
     "languageId": "r"
    }
   },
   "outputs": [
    {
     "data": {
      "text/plain": [
       "\n",
       "Call:\n",
       "glm(formula = y ~ ., family = binomial(probit), data = doctors)\n",
       "\n",
       "Coefficients:\n",
       "            Estimate Std. Error z value Pr(>|z|)   \n",
       "(Intercept) -6.12853    1.94100  -3.157  0.00159 **\n",
       "x1           0.26397    0.09484   2.783  0.00538 **\n",
       "x2           0.47466    0.23534   2.017  0.04370 * \n",
       "x3          -0.23146    0.23321  -0.992  0.32096   \n",
       "x42         -1.23190    1.93357  -0.637  0.52405   \n",
       "x43          0.09670    0.47985   0.202  0.84029   \n",
       "x5          -0.01906    0.01125  -1.695  0.09014 . \n",
       "---\n",
       "Signif. codes:  0 ‘***’ 0.001 ‘**’ 0.01 ‘*’ 0.05 ‘.’ 0.1 ‘ ’ 1\n",
       "\n",
       "(Dispersion parameter for binomial family taken to be 1)\n",
       "\n",
       "    Null deviance: 75.934  on 57  degrees of freedom\n",
       "Residual deviance: 39.239  on 51  degrees of freedom\n",
       "AIC: 53.239\n",
       "\n",
       "Number of Fisher Scoring iterations: 7\n"
      ]
     },
     "metadata": {},
     "output_type": "display_data"
    }
   ],
   "source": [
    "fit2 = glm(y ~ ., data = doctors, family = binomial(probit))\n",
    "summary(fit2)"
   ]
  },
  {
   "cell_type": "code",
   "execution_count": 71,
   "metadata": {
    "vscode": {
     "languageId": "r"
    }
   },
   "outputs": [
    {
     "name": "stdout",
     "output_type": "stream",
     "text": [
      "Start:  AIC=53.25\n",
      "y ~ x1 + x2 + x3 + x4 + x5\n",
      "\n",
      "       Df Deviance    AIC\n",
      "- x4    2   39.737 49.737\n",
      "- x3    1   40.236 52.236\n",
      "<none>      39.251 53.251\n",
      "- x2    1   45.363 57.363\n",
      "- x5    1   47.802 59.802\n",
      "- x1    1   48.955 60.955\n",
      "\n",
      "Step:  AIC=49.74\n",
      "y ~ x1 + x2 + x3 + x5\n",
      "\n",
      "       Df Deviance    AIC\n",
      "- x3    1   40.618 48.618\n",
      "<none>      39.737 49.737\n",
      "+ x4    2   39.251 53.251\n",
      "- x2    1   45.824 53.824\n",
      "- x5    1   47.946 55.946\n",
      "- x1    1   49.205 57.205\n",
      "\n",
      "Step:  AIC=48.62\n",
      "y ~ x1 + x2 + x5\n",
      "\n",
      "       Df Deviance    AIC\n",
      "<none>      40.618 48.618\n",
      "+ x3    1   39.737 49.737\n",
      "+ x4    2   40.236 52.236\n",
      "- x5    1   48.250 54.250\n",
      "- x1    1   49.294 55.294\n",
      "- x2    1   60.197 66.197\n"
     ]
    },
    {
     "data": {
      "text/plain": [
       "\n",
       "Call:\n",
       "glm(formula = y ~ x1 + x2 + x5, family = binomial(logit), data = doctors)\n",
       "\n",
       "Coefficients:\n",
       "            Estimate Std. Error z value Pr(>|z|)    \n",
       "(Intercept) -9.07857    2.97845  -3.048 0.002303 ** \n",
       "x1           0.40292    0.15730   2.562 0.010420 *  \n",
       "x2           0.47596    0.13924   3.418 0.000631 ***\n",
       "x5          -0.02954    0.01895  -1.559 0.119037    \n",
       "---\n",
       "Signif. codes:  0 ‘***’ 0.001 ‘**’ 0.01 ‘*’ 0.05 ‘.’ 0.1 ‘ ’ 1\n",
       "\n",
       "(Dispersion parameter for binomial family taken to be 1)\n",
       "\n",
       "    Null deviance: 75.934  on 57  degrees of freedom\n",
       "Residual deviance: 40.618  on 54  degrees of freedom\n",
       "AIC: 48.618\n",
       "\n",
       "Number of Fisher Scoring iterations: 6\n"
      ]
     },
     "metadata": {},
     "output_type": "display_data"
    }
   ],
   "source": [
    "library(MASS)\n",
    "# Apply stepAIC for the logistic model\n",
    "optimized_logit <- stepAIC(fit1, direction = \"both\", trace = TRUE)\n",
    "summary(optimized_logit)"
   ]
  },
  {
   "cell_type": "markdown",
   "metadata": {},
   "source": [
    "### Significance of the models\n",
    "Нулевая гипотеза (H₀): Все коэффициенты, указанные в Terms, равны нулю.\n",
    "\n",
    "Альтернативная гипотеза (H₁): Хотя бы один из коэффициентов указанных в Terms, отличается от нуля.\n"
   ]
  },
  {
   "cell_type": "code",
   "execution_count": 19,
   "metadata": {
    "vscode": {
     "languageId": "r"
    }
   },
   "outputs": [
    {
     "data": {
      "text/plain": [
       "Wald test:\n",
       "----------\n",
       "\n",
       "Chi-squared test:\n",
       "X2 = 13.5, df = 6, P(> X2) = 0.036"
      ]
     },
     "metadata": {},
     "output_type": "display_data"
    },
    {
     "data": {
      "text/plain": [
       "Wald test:\n",
       "----------\n",
       "\n",
       "Chi-squared test:\n",
       "X2 = 17.2, df = 6, P(> X2) = 0.0087"
      ]
     },
     "metadata": {},
     "output_type": "display_data"
    }
   ],
   "source": [
    "\n",
    "library(aod)\n",
    "wald.test(b=coef(fit1),Sigma = vcov(fit1),Terms = 1:6)\n",
    "\n",
    "wald.test(b=coef(fit2),Sigma = vcov(fit2),Terms = 1:6)\n"
   ]
  },
  {
   "cell_type": "markdown",
   "metadata": {},
   "source": [
    "### Conf intervals for the coef for both models"
   ]
  },
  {
   "cell_type": "code",
   "execution_count": 20,
   "metadata": {
    "vscode": {
     "languageId": "r"
    }
   },
   "outputs": [
    {
     "name": "stderr",
     "output_type": "stream",
     "text": [
      "Waiting for profiling to be done...\n",
      "\n"
     ]
    },
    {
     "data": {
      "text/html": [
       "<table class=\"dataframe\">\n",
       "<caption>A matrix: 7 × 2 of type dbl</caption>\n",
       "<thead>\n",
       "\t<tr><th></th><th scope=col>2.5 %</th><th scope=col>97.5 %</th></tr>\n",
       "</thead>\n",
       "<tbody>\n",
       "\t<tr><th scope=row>(Intercept)</th><td>-19.50621113</td><td>-4.630054171</td></tr>\n",
       "\t<tr><th scope=row>x1</th><td>  0.15462038</td><td> 0.868430365</td></tr>\n",
       "\t<tr><th scope=row>x2</th><td>  0.14108761</td><td> 1.949630035</td></tr>\n",
       "\t<tr><th scope=row>x3</th><td> -1.41817185</td><td> 0.319468193</td></tr>\n",
       "\t<tr><th scope=row>x42</th><td> -9.44403808</td><td> 3.640104684</td></tr>\n",
       "\t<tr><th scope=row>x43</th><td> -1.45888350</td><td> 1.927761096</td></tr>\n",
       "\t<tr><th scope=row>x5</th><td> -0.07910068</td><td>-0.006760787</td></tr>\n",
       "</tbody>\n",
       "</table>\n"
      ],
      "text/latex": [
       "A matrix: 7 × 2 of type dbl\n",
       "\\begin{tabular}{r|ll}\n",
       "  & 2.5 \\% & 97.5 \\%\\\\\n",
       "\\hline\n",
       "\t(Intercept) & -19.50621113 & -4.630054171\\\\\n",
       "\tx1 &   0.15462038 &  0.868430365\\\\\n",
       "\tx2 &   0.14108761 &  1.949630035\\\\\n",
       "\tx3 &  -1.41817185 &  0.319468193\\\\\n",
       "\tx42 &  -9.44403808 &  3.640104684\\\\\n",
       "\tx43 &  -1.45888350 &  1.927761096\\\\\n",
       "\tx5 &  -0.07910068 & -0.006760787\\\\\n",
       "\\end{tabular}\n"
      ],
      "text/markdown": [
       "\n",
       "A matrix: 7 × 2 of type dbl\n",
       "\n",
       "| <!--/--> | 2.5 % | 97.5 % |\n",
       "|---|---|---|\n",
       "| (Intercept) | -19.50621113 | -4.630054171 |\n",
       "| x1 |   0.15462038 |  0.868430365 |\n",
       "| x2 |   0.14108761 |  1.949630035 |\n",
       "| x3 |  -1.41817185 |  0.319468193 |\n",
       "| x42 |  -9.44403808 |  3.640104684 |\n",
       "| x43 |  -1.45888350 |  1.927761096 |\n",
       "| x5 |  -0.07910068 | -0.006760787 |\n",
       "\n"
      ],
      "text/plain": [
       "            2.5 %        97.5 %      \n",
       "(Intercept) -19.50621113 -4.630054171\n",
       "x1            0.15462038  0.868430365\n",
       "x2            0.14108761  1.949630035\n",
       "x3           -1.41817185  0.319468193\n",
       "x42          -9.44403808  3.640104684\n",
       "x43          -1.45888350  1.927761096\n",
       "x5           -0.07910068 -0.006760787"
      ]
     },
     "metadata": {},
     "output_type": "display_data"
    },
    {
     "data": {
      "text/html": [
       "<table class=\"dataframe\">\n",
       "<caption>A matrix: 7 × 2 of type dbl</caption>\n",
       "<thead>\n",
       "\t<tr><th></th><th scope=col>2.5 %</th><th scope=col>97.5 %</th></tr>\n",
       "</thead>\n",
       "<tbody>\n",
       "\t<tr><th scope=row>(Intercept)</th><td>-17.95229371</td><td>-3.449603671</td></tr>\n",
       "\t<tr><th scope=row>x1</th><td>  0.11257920</td><td> 0.806603338</td></tr>\n",
       "\t<tr><th scope=row>x2</th><td> -0.03719091</td><td> 1.673716157</td></tr>\n",
       "\t<tr><th scope=row>x3</th><td> -1.20459774</td><td> 0.446664628</td></tr>\n",
       "\t<tr><th scope=row>x42</th><td>-10.26918747</td><td> 5.976819488</td></tr>\n",
       "\t<tr><th scope=row>x43</th><td> -1.42807112</td><td> 1.880841385</td></tr>\n",
       "\t<tr><th scope=row>x5</th><td> -0.07391230</td><td> 0.006261571</td></tr>\n",
       "</tbody>\n",
       "</table>\n"
      ],
      "text/latex": [
       "A matrix: 7 × 2 of type dbl\n",
       "\\begin{tabular}{r|ll}\n",
       "  & 2.5 \\% & 97.5 \\%\\\\\n",
       "\\hline\n",
       "\t(Intercept) & -17.95229371 & -3.449603671\\\\\n",
       "\tx1 &   0.11257920 &  0.806603338\\\\\n",
       "\tx2 &  -0.03719091 &  1.673716157\\\\\n",
       "\tx3 &  -1.20459774 &  0.446664628\\\\\n",
       "\tx42 & -10.26918747 &  5.976819488\\\\\n",
       "\tx43 &  -1.42807112 &  1.880841385\\\\\n",
       "\tx5 &  -0.07391230 &  0.006261571\\\\\n",
       "\\end{tabular}\n"
      ],
      "text/markdown": [
       "\n",
       "A matrix: 7 × 2 of type dbl\n",
       "\n",
       "| <!--/--> | 2.5 % | 97.5 % |\n",
       "|---|---|---|\n",
       "| (Intercept) | -17.95229371 | -3.449603671 |\n",
       "| x1 |   0.11257920 |  0.806603338 |\n",
       "| x2 |  -0.03719091 |  1.673716157 |\n",
       "| x3 |  -1.20459774 |  0.446664628 |\n",
       "| x42 | -10.26918747 |  5.976819488 |\n",
       "| x43 |  -1.42807112 |  1.880841385 |\n",
       "| x5 |  -0.07391230 |  0.006261571 |\n",
       "\n"
      ],
      "text/plain": [
       "            2.5 %        97.5 %      \n",
       "(Intercept) -17.95229371 -3.449603671\n",
       "x1            0.11257920  0.806603338\n",
       "x2           -0.03719091  1.673716157\n",
       "x3           -1.20459774  0.446664628\n",
       "x42         -10.26918747  5.976819488\n",
       "x43          -1.42807112  1.880841385\n",
       "x5           -0.07391230  0.006261571"
      ]
     },
     "metadata": {},
     "output_type": "display_data"
    },
    {
     "name": "stderr",
     "output_type": "stream",
     "text": [
      "Waiting for profiling to be done...\n",
      "\n",
      "Warning message:\n",
      "“glm.fit: fitted probabilities numerically 0 or 1 occurred”\n",
      "Warning message:\n",
      "“glm.fit: fitted probabilities numerically 0 or 1 occurred”\n",
      "Warning message:\n",
      "“glm.fit: fitted probabilities numerically 0 or 1 occurred”\n",
      "Warning message:\n",
      "“glm.fit: fitted probabilities numerically 0 or 1 occurred”\n",
      "Warning message:\n",
      "“glm.fit: fitted probabilities numerically 0 or 1 occurred”\n",
      "Warning message:\n",
      "“glm.fit: fitted probabilities numerically 0 or 1 occurred”\n",
      "Warning message:\n",
      "“glm.fit: fitted probabilities numerically 0 or 1 occurred”\n",
      "Warning message:\n",
      "“glm.fit: fitted probabilities numerically 0 or 1 occurred”\n",
      "Warning message:\n",
      "“glm.fit: fitted probabilities numerically 0 or 1 occurred”\n",
      "Warning message:\n",
      "“glm.fit: fitted probabilities numerically 0 or 1 occurred”\n",
      "Warning message:\n",
      "“glm.fit: fitted probabilities numerically 0 or 1 occurred”\n"
     ]
    },
    {
     "data": {
      "text/html": [
       "<table class=\"dataframe\">\n",
       "<caption>A matrix: 7 × 2 of type dbl</caption>\n",
       "<thead>\n",
       "\t<tr><th></th><th scope=col>2.5 %</th><th scope=col>97.5 %</th></tr>\n",
       "</thead>\n",
       "<tbody>\n",
       "\t<tr><th scope=row>(Intercept)</th><td>-10.73534556</td><td>-2.72812634</td></tr>\n",
       "\t<tr><th scope=row>x1</th><td>  0.08933261</td><td> 0.48167630</td></tr>\n",
       "\t<tr><th scope=row>x2</th><td>  0.08204442</td><td> 1.09812018</td></tr>\n",
       "\t<tr><th scope=row>x3</th><td> -0.82195558</td><td> 0.16886383</td></tr>\n",
       "\t<tr><th scope=row>x42</th><td> -5.21866608</td><td> 2.11117675</td></tr>\n",
       "\t<tr><th scope=row>x43</th><td> -0.86433881</td><td> 1.04811885</td></tr>\n",
       "\t<tr><th scope=row>x5</th><td> -0.04227570</td><td>-0.00386976</td></tr>\n",
       "</tbody>\n",
       "</table>\n"
      ],
      "text/latex": [
       "A matrix: 7 × 2 of type dbl\n",
       "\\begin{tabular}{r|ll}\n",
       "  & 2.5 \\% & 97.5 \\%\\\\\n",
       "\\hline\n",
       "\t(Intercept) & -10.73534556 & -2.72812634\\\\\n",
       "\tx1 &   0.08933261 &  0.48167630\\\\\n",
       "\tx2 &   0.08204442 &  1.09812018\\\\\n",
       "\tx3 &  -0.82195558 &  0.16886383\\\\\n",
       "\tx42 &  -5.21866608 &  2.11117675\\\\\n",
       "\tx43 &  -0.86433881 &  1.04811885\\\\\n",
       "\tx5 &  -0.04227570 & -0.00386976\\\\\n",
       "\\end{tabular}\n"
      ],
      "text/markdown": [
       "\n",
       "A matrix: 7 × 2 of type dbl\n",
       "\n",
       "| <!--/--> | 2.5 % | 97.5 % |\n",
       "|---|---|---|\n",
       "| (Intercept) | -10.73534556 | -2.72812634 |\n",
       "| x1 |   0.08933261 |  0.48167630 |\n",
       "| x2 |   0.08204442 |  1.09812018 |\n",
       "| x3 |  -0.82195558 |  0.16886383 |\n",
       "| x42 |  -5.21866608 |  2.11117675 |\n",
       "| x43 |  -0.86433881 |  1.04811885 |\n",
       "| x5 |  -0.04227570 | -0.00386976 |\n",
       "\n"
      ],
      "text/plain": [
       "            2.5 %        97.5 %     \n",
       "(Intercept) -10.73534556 -2.72812634\n",
       "x1            0.08933261  0.48167630\n",
       "x2            0.08204442  1.09812018\n",
       "x3           -0.82195558  0.16886383\n",
       "x42          -5.21866608  2.11117675\n",
       "x43          -0.86433881  1.04811885\n",
       "x5           -0.04227570 -0.00386976"
      ]
     },
     "metadata": {},
     "output_type": "display_data"
    }
   ],
   "source": [
    "confint(fit1)\n",
    "confint.default(fit1)\n",
    "\n",
    "confint(fit2)"
   ]
  },
  {
   "cell_type": "markdown",
   "metadata": {},
   "source": [
    "### Chech multicoliniarity of the models"
   ]
  },
  {
   "cell_type": "code",
   "execution_count": 21,
   "metadata": {
    "vscode": {
     "languageId": "r"
    }
   },
   "outputs": [
    {
     "data": {
      "text/html": [
       "<table class=\"dataframe\">\n",
       "<caption>A matrix: 5 × 3 of type dbl</caption>\n",
       "<thead>\n",
       "\t<tr><th></th><th scope=col>GVIF</th><th scope=col>Df</th><th scope=col>GVIF^(1/(2*Df))</th></tr>\n",
       "</thead>\n",
       "<tbody>\n",
       "\t<tr><th scope=row>x1</th><td> 1.561305</td><td>1</td><td>1.249522</td></tr>\n",
       "\t<tr><th scope=row>x2</th><td>10.581651</td><td>1</td><td>3.252945</td></tr>\n",
       "\t<tr><th scope=row>x3</th><td> 9.815211</td><td>1</td><td>3.132924</td></tr>\n",
       "\t<tr><th scope=row>x4</th><td> 1.055348</td><td>2</td><td>1.013559</td></tr>\n",
       "\t<tr><th scope=row>x5</th><td> 1.215626</td><td>1</td><td>1.102554</td></tr>\n",
       "</tbody>\n",
       "</table>\n"
      ],
      "text/latex": [
       "A matrix: 5 × 3 of type dbl\n",
       "\\begin{tabular}{r|lll}\n",
       "  & GVIF & Df & GVIF\\textasciicircum{}(1/(2*Df))\\\\\n",
       "\\hline\n",
       "\tx1 &  1.561305 & 1 & 1.249522\\\\\n",
       "\tx2 & 10.581651 & 1 & 3.252945\\\\\n",
       "\tx3 &  9.815211 & 1 & 3.132924\\\\\n",
       "\tx4 &  1.055348 & 2 & 1.013559\\\\\n",
       "\tx5 &  1.215626 & 1 & 1.102554\\\\\n",
       "\\end{tabular}\n"
      ],
      "text/markdown": [
       "\n",
       "A matrix: 5 × 3 of type dbl\n",
       "\n",
       "| <!--/--> | GVIF | Df | GVIF^(1/(2*Df)) |\n",
       "|---|---|---|---|\n",
       "| x1 |  1.561305 | 1 | 1.249522 |\n",
       "| x2 | 10.581651 | 1 | 3.252945 |\n",
       "| x3 |  9.815211 | 1 | 3.132924 |\n",
       "| x4 |  1.055348 | 2 | 1.013559 |\n",
       "| x5 |  1.215626 | 1 | 1.102554 |\n",
       "\n"
      ],
      "text/plain": [
       "   GVIF      Df GVIF^(1/(2*Df))\n",
       "x1  1.561305 1  1.249522       \n",
       "x2 10.581651 1  3.252945       \n",
       "x3  9.815211 1  3.132924       \n",
       "x4  1.055348 2  1.013559       \n",
       "x5  1.215626 1  1.102554       "
      ]
     },
     "metadata": {},
     "output_type": "display_data"
    },
    {
     "data": {
      "text/html": [
       "<table class=\"dataframe\">\n",
       "<caption>A matrix: 5 × 3 of type dbl</caption>\n",
       "<thead>\n",
       "\t<tr><th></th><th scope=col>GVIF</th><th scope=col>Df</th><th scope=col>GVIF^(1/(2*Df))</th></tr>\n",
       "</thead>\n",
       "<tbody>\n",
       "\t<tr><th scope=row>x1</th><td> 1.437401</td><td>1</td><td>1.198916</td></tr>\n",
       "\t<tr><th scope=row>x2</th><td>10.610650</td><td>1</td><td>3.257399</td></tr>\n",
       "\t<tr><th scope=row>x3</th><td>10.191322</td><td>1</td><td>3.192385</td></tr>\n",
       "\t<tr><th scope=row>x4</th><td> 1.068268</td><td>2</td><td>1.016647</td></tr>\n",
       "\t<tr><th scope=row>x5</th><td> 1.165978</td><td>1</td><td>1.079805</td></tr>\n",
       "</tbody>\n",
       "</table>\n"
      ],
      "text/latex": [
       "A matrix: 5 × 3 of type dbl\n",
       "\\begin{tabular}{r|lll}\n",
       "  & GVIF & Df & GVIF\\textasciicircum{}(1/(2*Df))\\\\\n",
       "\\hline\n",
       "\tx1 &  1.437401 & 1 & 1.198916\\\\\n",
       "\tx2 & 10.610650 & 1 & 3.257399\\\\\n",
       "\tx3 & 10.191322 & 1 & 3.192385\\\\\n",
       "\tx4 &  1.068268 & 2 & 1.016647\\\\\n",
       "\tx5 &  1.165978 & 1 & 1.079805\\\\\n",
       "\\end{tabular}\n"
      ],
      "text/markdown": [
       "\n",
       "A matrix: 5 × 3 of type dbl\n",
       "\n",
       "| <!--/--> | GVIF | Df | GVIF^(1/(2*Df)) |\n",
       "|---|---|---|---|\n",
       "| x1 |  1.437401 | 1 | 1.198916 |\n",
       "| x2 | 10.610650 | 1 | 3.257399 |\n",
       "| x3 | 10.191322 | 1 | 3.192385 |\n",
       "| x4 |  1.068268 | 2 | 1.016647 |\n",
       "| x5 |  1.165978 | 1 | 1.079805 |\n",
       "\n"
      ],
      "text/plain": [
       "   GVIF      Df GVIF^(1/(2*Df))\n",
       "x1  1.437401 1  1.198916       \n",
       "x2 10.610650 1  3.257399       \n",
       "x3 10.191322 1  3.192385       \n",
       "x4  1.068268 2  1.016647       \n",
       "x5  1.165978 1  1.079805       "
      ]
     },
     "metadata": {},
     "output_type": "display_data"
    }
   ],
   "source": [
    "library(car)\n",
    "vif(fit1)\n",
    "vif(fit2)"
   ]
  },
  {
   "cell_type": "markdown",
   "metadata": {
    "vscode": {
     "languageId": "r"
    }
   },
   "source": [
    "### Find “optimalCutoff” for both models"
   ]
  },
  {
   "cell_type": "markdown",
   "metadata": {},
   "source": [
    "### Confusion matrixes"
   ]
  },
  {
   "cell_type": "markdown",
   "metadata": {},
   "source": [
    "#### optimal cutoff"
   ]
  },
  {
   "cell_type": "code",
   "execution_count": 48,
   "metadata": {
    "vscode": {
     "languageId": "r"
    }
   },
   "outputs": [
    {
     "name": "stderr",
     "output_type": "stream",
     "text": [
      "Setting levels: control = No, case = Yes\n",
      "\n",
      "Setting direction: controls < cases\n",
      "\n"
     ]
    },
    {
     "name": "stdout",
     "output_type": "stream",
     "text": [
      "  threshold\n",
      "1 0.5463586\n"
     ]
    }
   ],
   "source": [
    "library(pROC)\n",
    "\n",
    "\n",
    "# предсказания делим на да и нет \n",
    "predictedProbability <- plogis(predict(fit1, newdata = doctors)) \n",
    "\n",
    "\n",
    "# Создаем ROC-кривую на основе вероятностей предсказаний и истинных значений\n",
    "roc_curve <- roc(doctors$y, predictedProbability)\n",
    "\n",
    "# Вычисляем оптимальный порог для классификации\n",
    "opt_cutoff <- coords(roc_curve, \"best\", ret = \"threshold\")\n",
    "print(opt_cutoff)\n",
    "\n",
    "predictedClassOpt = factor(ifelse(predictedProbability >= 0.54, \"Yes\", \"No\"))\n"
   ]
  },
  {
   "cell_type": "code",
   "execution_count": 49,
   "metadata": {
    "vscode": {
     "languageId": "r"
    }
   },
   "outputs": [
    {
     "data": {
      "text/plain": [
       "Confusion Matrix and Statistics\n",
       "\n",
       "          Reference\n",
       "Prediction No Yes\n",
       "       No  16   3\n",
       "       Yes  5  34\n",
       "                                          \n",
       "               Accuracy : 0.8621          \n",
       "                 95% CI : (0.7462, 0.9385)\n",
       "    No Information Rate : 0.6379          \n",
       "    P-Value [Acc > NIR] : 0.0001331       \n",
       "                                          \n",
       "                  Kappa : 0.6951          \n",
       "                                          \n",
       " Mcnemar's Test P-Value : 0.7236736       \n",
       "                                          \n",
       "            Sensitivity : 0.7619          \n",
       "            Specificity : 0.9189          \n",
       "         Pos Pred Value : 0.8421          \n",
       "         Neg Pred Value : 0.8718          \n",
       "             Prevalence : 0.3621          \n",
       "         Detection Rate : 0.2759          \n",
       "   Detection Prevalence : 0.3276          \n",
       "      Balanced Accuracy : 0.8404          \n",
       "                                          \n",
       "       'Positive' Class : No              \n",
       "                                          "
      ]
     },
     "metadata": {},
     "output_type": "display_data"
    },
    {
     "data": {
      "text/plain": [
       "Confusion Matrix and Statistics\n",
       "\n",
       "          Reference\n",
       "Prediction No Yes\n",
       "       No  18   3\n",
       "       Yes  3  34\n",
       "                                          \n",
       "               Accuracy : 0.8966          \n",
       "                 95% CI : (0.7883, 0.9611)\n",
       "    No Information Rate : 0.6379          \n",
       "    P-Value [Acc > NIR] : 7.951e-06       \n",
       "                                          \n",
       "                  Kappa : 0.7761          \n",
       "                                          \n",
       " Mcnemar's Test P-Value : 1               \n",
       "                                          \n",
       "            Sensitivity : 0.8571          \n",
       "            Specificity : 0.9189          \n",
       "         Pos Pred Value : 0.8571          \n",
       "         Neg Pred Value : 0.9189          \n",
       "             Prevalence : 0.3621          \n",
       "         Detection Rate : 0.3103          \n",
       "   Detection Prevalence : 0.3621          \n",
       "      Balanced Accuracy : 0.8880          \n",
       "                                          \n",
       "       'Positive' Class : No              \n",
       "                                          "
      ]
     },
     "metadata": {},
     "output_type": "display_data"
    }
   ],
   "source": [
    "library(caret)\n",
    "\n",
    "# предсказания делим на да и нет \n",
    "predictedProbability <- plogis(predict(fit1, newdata = doctors)) \n",
    "predictedClass = factor(ifelse(predictedProbability >= 0.5, \"Yes\", \"No\"))\n",
    "\n",
    "predicted_fit1 = data.frame(\n",
    "    predictedProbability,\n",
    "    predictedClass\n",
    ") #. это предыдущий шаг\n",
    "\n",
    "confusionMatrix(predicted_fit1$predictedClass, doctors$y)\n",
    "\n",
    "\n",
    "predicted_fit11 = data.frame(\n",
    "    predictedProbability,\n",
    "    predictedClassOpt\n",
    ") #. это предыдущий шаг\n",
    "\n",
    "\n",
    "confusionMatrix(predicted_fit11$predictedClass, doctors$y)\n"
   ]
  },
  {
   "cell_type": "code",
   "execution_count": 59,
   "metadata": {
    "vscode": {
     "languageId": "r"
    }
   },
   "outputs": [
    {
     "data": {
      "text/plain": [
       "Confusion Matrix and Statistics\n",
       "\n",
       "          Reference\n",
       "Prediction No Yes\n",
       "       No  17   3\n",
       "       Yes  4  34\n",
       "                                         \n",
       "               Accuracy : 0.8793         \n",
       "                 95% CI : (0.767, 0.9501)\n",
       "    No Information Rate : 0.6379         \n",
       "    P-Value [Acc > NIR] : 3.506e-05      \n",
       "                                         \n",
       "                  Kappa : 0.736          \n",
       "                                         \n",
       " Mcnemar's Test P-Value : 1              \n",
       "                                         \n",
       "            Sensitivity : 0.8095         \n",
       "            Specificity : 0.9189         \n",
       "         Pos Pred Value : 0.8500         \n",
       "         Neg Pred Value : 0.8947         \n",
       "             Prevalence : 0.3621         \n",
       "         Detection Rate : 0.2931         \n",
       "   Detection Prevalence : 0.3448         \n",
       "      Balanced Accuracy : 0.8642         \n",
       "                                         \n",
       "       'Positive' Class : No             \n",
       "                                         "
      ]
     },
     "metadata": {},
     "output_type": "display_data"
    },
    {
     "data": {
      "text/plain": [
       "Confusion Matrix and Statistics\n",
       "\n",
       "          Reference\n",
       "Prediction No Yes\n",
       "       No  18   3\n",
       "       Yes  3  34\n",
       "                                          \n",
       "               Accuracy : 0.8966          \n",
       "                 95% CI : (0.7883, 0.9611)\n",
       "    No Information Rate : 0.6379          \n",
       "    P-Value [Acc > NIR] : 7.951e-06       \n",
       "                                          \n",
       "                  Kappa : 0.7761          \n",
       "                                          \n",
       " Mcnemar's Test P-Value : 1               \n",
       "                                          \n",
       "            Sensitivity : 0.8571          \n",
       "            Specificity : 0.9189          \n",
       "         Pos Pred Value : 0.8571          \n",
       "         Neg Pred Value : 0.9189          \n",
       "             Prevalence : 0.3621          \n",
       "         Detection Rate : 0.3103          \n",
       "   Detection Prevalence : 0.3621          \n",
       "      Balanced Accuracy : 0.8880          \n",
       "                                          \n",
       "       'Positive' Class : No              \n",
       "                                          "
      ]
     },
     "metadata": {},
     "output_type": "display_data"
    }
   ],
   "source": [
    "# предсказания делим на да и нет \n",
    "predicted_fit2 <- plogis(predict(fit2, newdata = doctors)) %>%\n",
    "data.frame(\n",
    "    \n",
    "    predictedProbability = .,\n",
    "    predictedClass = factor(ifelse(. >= 0.5, \"Yes\", \"No\"))\n",
    ") #. это предыдущий шаг\n",
    "\n",
    "confusionMatrix(predicted_fit2$predictedClass, doctors$y)\n",
    "\n",
    "predicted_fit22 = data.frame(\n",
    "    predictedProbability,\n",
    "    predictedClassOpt\n",
    ") #. это предыдущий шаг\n",
    "\n",
    "\n",
    "confusionMatrix(predicted_fit22$predictedClass, doctors$y)\n",
    "\n",
    "\n",
    "\n",
    "\n"
   ]
  },
  {
   "cell_type": "code",
   "execution_count": 58,
   "metadata": {
    "vscode": {
     "languageId": "r"
    }
   },
   "outputs": [
    {
     "name": "stderr",
     "output_type": "stream",
     "text": [
      "Setting levels: control = No, case = Yes\n",
      "\n",
      "Setting direction: controls < cases\n",
      "\n"
     ]
    },
    {
     "name": "stdout",
     "output_type": "stream",
     "text": [
      "[1] \"Площадь под ROC-кривой (AUC): 0.927927927927928\"\n"
     ]
    },
    {
     "data": {
      "image/png": "[encoded data removed]",
      "text/plain": [
       "Plot with title “ROC-кривая”"
      ]
     },
     "metadata": {
      "image/png": {
       "height": 420,
       "width": 420
      }
     },
     "output_type": "display_data"
    }
   ],
   "source": [
    "# Построение объекта ROC-кривой\n",
    "roc_curve <- roc(doctors$y, predicted_fit2$predictedProbability)\n",
    "\n",
    "# Вычисление площади под ROC-кривой (AUC)\n",
    "auc_value <- auc(roc_curve)\n",
    "print(paste(\"Площадь под ROC-кривой (AUC):\", auc_value))\n",
    "\n",
    "# Построение ROC-кривой\n",
    "plot(roc_curve, col = \"blue\", main = \"ROC-кривая\")\n",
    "abline(a = 0, b = 1, lty = 2) # Диагональ случайной классификации"
   ]
  },
  {
   "cell_type": "code",
   "execution_count": 61,
   "metadata": {
    "vscode": {
     "languageId": "r"
    }
   },
   "outputs": [
    {
     "name": "stderr",
     "output_type": "stream",
     "text": [
      "Setting levels: control = No, case = Yes\n",
      "\n",
      "Setting direction: controls < cases\n",
      "\n"
     ]
    },
    {
     "name": "stdout",
     "output_type": "stream",
     "text": [
      "[1] \"Площадь под ROC-кривой (AUC): 0.927927927927928\"\n"
     ]
    }
   ],
   "source": [
    "# Построение объекта ROC-кривой\n",
    "roc_curve <- roc(doctors$y, predicted_fit1$predictedProbability)\n",
    "\n",
    "# Вычисление площади под ROC-кривой (AUC)\n",
    "auc_value <- auc(roc_curve)\n",
    "print(paste(\"Площадь под ROC-кривой (AUC):\", auc_value))\n"
   ]
  },
  {
   "cell_type": "code",
   "execution_count": 62,
   "metadata": {
    "vscode": {
     "languageId": "r"
    }
   },
   "outputs": [
    {
     "name": "stderr",
     "output_type": "stream",
     "text": [
      "Updating HTML index of packages in '.Library'\n",
      "\n",
      "Making 'packages.html' ...\n",
      " done\n",
      "\n"
     ]
    }
   ],
   "source": [
    "install.packages(\"caTools\")\n",
    "library(caTools)"
   ]
  },
  {
   "cell_type": "code",
   "execution_count": 66,
   "metadata": {
    "vscode": {
     "languageId": "r"
    }
   },
   "outputs": [
    {
     "name": "stdout",
     "output_type": "stream",
     "text": [
      "[1] \"AUC: 0.927927927927928\"\n"
     ]
    }
   ],
   "source": [
    "# Вычисление AUC с использованием colAUC\n",
    "auc_value <- colAUC(predicted_fit22$predictedProbability, doctors$y, plotROC = FALSE)\n",
    "\n",
    "print(paste(\"AUC:\", auc_value))"
   ]
  },
  {
   "cell_type": "code",
   "execution_count": 67,
   "metadata": {
    "vscode": {
     "languageId": "r"
    }
   },
   "outputs": [
    {
     "data": {
      "text/html": [
       "FALSE"
      ],
      "text/latex": [
       "FALSE"
      ],
      "text/markdown": [
       "FALSE"
      ],
      "text/plain": [
       "[1] FALSE"
      ]
     },
     "metadata": {},
     "output_type": "display_data"
    }
   ],
   "source": [
    "identical(predicted_fit2$predictedProbability, predicted_fit1$predictedProbability)\n"
   ]
  },
  {
   "cell_type": "code",
   "execution_count": 68,
   "metadata": {
    "vscode": {
     "languageId": "r"
    }
   },
   "outputs": [
    {
     "name": "stdout",
     "output_type": "stream",
     "text": [
      "[1] \"AUC для модель 1: 0.927927927927928\"\n",
      "[1] \"AUC для модель 2: 0.927927927927928\"\n"
     ]
    }
   ],
   "source": [
    "# Функция для ручного вычисления AUC\n",
    "compute_auc <- function(true_labels, predicted_probs) {\n",
    "  # Создание таблицы с истинными метками и предсказанными вероятностями\n",
    "  data <- data.frame(True = true_labels, Predicted = predicted_probs)\n",
    "  \n",
    "  # Сортировка данных по убыванию вероятностей\n",
    "  data <- data[order(-data$Predicted), ]\n",
    "  \n",
    "  # Подсчет количества положительных и отрицательных классов\n",
    "  n_pos <- sum(data$True == \"Yes\")\n",
    "  n_neg <- sum(data$True == \"No\")\n",
    "  \n",
    "  # Инициализация переменных для вычисления\n",
    "  tpr <- cumsum(data$True == \"Yes\") / n_pos # True Positive Rate\n",
    "  fpr <- cumsum(data$True == \"No\") / n_neg  # False Positive Rate\n",
    "  \n",
    "  # Вычисление площади под ROC-кривой методом трапеций\n",
    "  auc <- sum((fpr[-1] - fpr[-length(fpr)]) * (tpr[-1] + tpr[-length(tpr)]) / 2)\n",
    "  return(auc)\n",
    "}\n",
    "\n",
    "# Вычисление AUC для первой модели\n",
    "auc_model1 <- compute_auc(doctors$y, predicted_fit1$predictedProbability)\n",
    "print(paste(\"AUC для модель 1:\", auc_model1))\n",
    "\n",
    "# Вычисление AUC для второй модели\n",
    "auc_model2 <- compute_auc(doctors$y, predicted_fit2$predictedProbability)\n",
    "print(paste(\"AUC для модель 2:\", auc_model2))\n"
   ]
  },
  {
   "cell_type": "code",
   "execution_count": null,
   "metadata": {
    "vscode": {
     "languageId": "r"
    }
   },
   "outputs": [],
   "source": []
  }
 ],
 "metadata": {
  "kernelspec": {
   "display_name": "R",
   "language": "R",
   "name": "ir"
  },
  "language_info": {
   "codemirror_mode": "r",
   "file_extension": ".r",
   "mimetype": "text/x-r-source",
   "name": "R",
   "pygments_lexer": "r",
   "version": "4.3.1"
  }
 },
 "nbformat": 4,
 "nbformat_minor": 2
}
