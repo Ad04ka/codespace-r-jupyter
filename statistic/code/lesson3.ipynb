{
 "cells": [
  {
   "cell_type": "markdown",
   "metadata": {},
   "source": [
    "# Task\n",
    "\n",
    "- 1 For dataset “Euroweight”: Test the  hypotheses that the distributions of the weights of coins is the same in different packages using a non-parametric test. \n",
    "\n",
    "- 2 For dataset “iris.txt” (read description in file “iris_description.txt’): \n",
    "- 2.1 Test the hypotheses that the correlation between “sepal length” and “sepal width” inside each class of iris is significant. \n",
    "- 2.2 Test the hypotheses that the correlation between “petal length” and “petal width” inside each class of iris is significant. Use Kendall and Spearman correlation coefficients. \n",
    "\n",
    "- 3 For dataset “cigarettes.txt”: \n",
    "- 3.1 Test the hypotheses that the correlation between “nicotine” and “weight” is significant. Use Kendall and Spearman correlation coefficients. \n",
    "- 3.2 Test the hypotheses that the correlation between “nicotine” and “carbon monoxide” is significant. Use Kendall and Spearman correlation coefficients. \n",
    "\n",
    "- 4 Suppose in a coin tossing, the chance to get a head or tail is 50 %. In a real case, we have 100 coin tossings, and get 48 heads, is our original hypothesis true? [Use binom.test] \n",
    "\n",
    "- 5 Did a fair coin produce 8 heads in 10 flips? By “fair” we mean the coin with equal probabilities of appearance of both sides. [Use binom.test] "
   ]
  },
  {
   "cell_type": "code",
   "execution_count": 1,
   "metadata": {
    "vscode": {
     "languageId": "r"
    }
   },
   "outputs": [
    {
     "data": {
      "text/html": [
       "<table class=\"dataframe\">\n",
       "<caption>A data.frame: 3 × 3</caption>\n",
       "<thead>\n",
       "\t<tr><th></th><th scope=col>ID</th><th scope=col>weight</th><th scope=col>batch</th></tr>\n",
       "\t<tr><th></th><th scope=col>&lt;int&gt;</th><th scope=col>&lt;dbl&gt;</th><th scope=col>&lt;fct&gt;</th></tr>\n",
       "</thead>\n",
       "<tbody>\n",
       "\t<tr><th scope=row>1</th><td>1</td><td>7.512</td><td>1</td></tr>\n",
       "\t<tr><th scope=row>2</th><td>2</td><td>7.502</td><td>1</td></tr>\n",
       "\t<tr><th scope=row>3</th><td>3</td><td>7.461</td><td>1</td></tr>\n",
       "</tbody>\n",
       "</table>\n"
      ],
      "text/latex": [
       "A data.frame: 3 × 3\n",
       "\\begin{tabular}{r|lll}\n",
       "  & ID & weight & batch\\\\\n",
       "  & <int> & <dbl> & <fct>\\\\\n",
       "\\hline\n",
       "\t1 & 1 & 7.512 & 1\\\\\n",
       "\t2 & 2 & 7.502 & 1\\\\\n",
       "\t3 & 3 & 7.461 & 1\\\\\n",
       "\\end{tabular}\n"
      ],
      "text/markdown": [
       "\n",
       "A data.frame: 3 × 3\n",
       "\n",
       "| <!--/--> | ID &lt;int&gt; | weight &lt;dbl&gt; | batch &lt;fct&gt; |\n",
       "|---|---|---|---|\n",
       "| 1 | 1 | 7.512 | 1 |\n",
       "| 2 | 2 | 7.502 | 1 |\n",
       "| 3 | 3 | 7.461 | 1 |\n",
       "\n"
      ],
      "text/plain": [
       "  ID weight batch\n",
       "1 1  7.512  1    \n",
       "2 2  7.502  1    \n",
       "3 3  7.461  1    "
      ]
     },
     "metadata": {},
     "output_type": "display_data"
    },
    {
     "data": {
      "text/html": [
       "<table class=\"dataframe\">\n",
       "<caption>A data.frame: 2 × 3</caption>\n",
       "<thead>\n",
       "\t<tr><th></th><th scope=col>ID</th><th scope=col>weight</th><th scope=col>batch</th></tr>\n",
       "\t<tr><th></th><th scope=col>&lt;int&gt;</th><th scope=col>&lt;dbl&gt;</th><th scope=col>&lt;fct&gt;</th></tr>\n",
       "</thead>\n",
       "<tbody>\n",
       "\t<tr><th scope=row>1999</th><td>1999</td><td>7.547</td><td>8</td></tr>\n",
       "\t<tr><th scope=row>2000</th><td>2000</td><td>7.494</td><td>8</td></tr>\n",
       "</tbody>\n",
       "</table>\n"
      ],
      "text/latex": [
       "A data.frame: 2 × 3\n",
       "\\begin{tabular}{r|lll}\n",
       "  & ID & weight & batch\\\\\n",
       "  & <int> & <dbl> & <fct>\\\\\n",
       "\\hline\n",
       "\t1999 & 1999 & 7.547 & 8\\\\\n",
       "\t2000 & 2000 & 7.494 & 8\\\\\n",
       "\\end{tabular}\n"
      ],
      "text/markdown": [
       "\n",
       "A data.frame: 2 × 3\n",
       "\n",
       "| <!--/--> | ID &lt;int&gt; | weight &lt;dbl&gt; | batch &lt;fct&gt; |\n",
       "|---|---|---|---|\n",
       "| 1999 | 1999 | 7.547 | 8 |\n",
       "| 2000 | 2000 | 7.494 | 8 |\n",
       "\n"
      ],
      "text/plain": [
       "     ID   weight batch\n",
       "1999 1999 7.547  8    \n",
       "2000 2000 7.494  8    "
      ]
     },
     "metadata": {},
     "output_type": "display_data"
    }
   ],
   "source": [
    "file_path <- \"../data/euroweight.dat.txt\"\n",
    "euroweight = read.table(file_path,  sep = \"\", fill = TRUE )\n",
    "\n",
    "# fill = True -- na в пустые колонки\n",
    "\n",
    "# Задание названий столбцов\n",
    "colnames(euroweight) <- c(\"ID\", \"weight\", \"batch\")\n",
    "euroweight$batch = factor(euroweight$batch)\n",
    "\n",
    "\n",
    "\n",
    "head(euroweight, 3)\n",
    "tail(euroweight, 2)"
   ]
  },
  {
   "cell_type": "code",
   "execution_count": null,
   "metadata": {
    "vscode": {
     "languageId": "r"
    }
   },
   "outputs": [],
   "source": [
    "library(readxl)\n"
   ]
  },
  {
   "cell_type": "markdown",
   "metadata": {},
   "source": [
    "# Task"
   ]
  },
  {
   "cell_type": "markdown",
   "metadata": {
    "vscode": {
     "languageId": "r"
    }
   },
   "source": [
    "#1.For dataset “gifted.csv”: \n",
    "#1.1 Construct different linear regression models using “step” function with Y = score in test of analytical skills as a dependent variable, and independent variables:fatheriq，motheriq，speak，count，read，edutv，cartoons\n",
    "#1.2 Verify if the coefficients of linear regression model are significant.  \n",
    "#1.3Choose the best model using AIC statistics. \n",
    "#1.4 Test if the linear regression model is significant in general.  \n",
    "#1.5 Test the homoscedasticity of the model. \n",
    "#1.6 Test the autocorrelation of residuals. \n",
    "#1.7 Test multicollinearity.\n",
    "#1.8 Test the normality of residuals. \n",
    "#1.9 Use Box-Cox transformation to improve the model. \n",
    "#1.10What is the “best” model? Advantages and disadvantages of the best model? \n",
    " \n",
    "#2.For dataset “Real estate.csv”: \n",
    "#This real estate dataset includes the date of purchase, house age, location, distance to nearest MRT station, number of convenience stores and house price of unit area. \n",
    "#2.1 Construct the linear regression model with y= house price of unit area and independent variables: house age, distance to nearest MRT station, number of convenience stores.\n",
    "#2.2Verify if the coefficients of linear regression model are significant.\n",
    "#2.3 Choose the best model using AIC statistics. \n",
    "#2.4 Test if the linear regression model is significant in general.  \n",
    "#2.5 Test the homoscedasticity of the model. \n",
    "#2.6 Test the autocorrelation of residuals. \n",
    "#2.7 Test multicollinearity. \n",
    "#2.8 Test the normality of residuals. \n",
    "#2.9 Use Box-Cox transformation to improve the model. \n",
    "#2.10 What is the “best” model? Advantages and disadvantages of the best model?\n"
   ]
  }
 ],
 "metadata": {
  "kernelspec": {
   "display_name": "R",
   "language": "R",
   "name": "ir"
  },
  "language_info": {
   "codemirror_mode": "r",
   "file_extension": ".r",
   "mimetype": "text/x-r-source",
   "name": "R",
   "pygments_lexer": "r",
   "version": "4.3.1"
  }
 },
 "nbformat": 4,
 "nbformat_minor": 2
}
