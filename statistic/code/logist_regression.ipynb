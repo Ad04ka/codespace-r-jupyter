{
 "cells": [
  {
   "cell_type": "code",
   "execution_count": 21,
   "metadata": {
    "vscode": {
     "languageId": "r"
    }
   },
   "outputs": [
    {
     "name": "stderr",
     "output_type": "stream",
     "text": [
      "\n",
      "Attaching package: ‘dplyr’\n",
      "\n",
      "\n",
      "The following objects are masked from ‘package:stats’:\n",
      "\n",
      "    filter, lag\n",
      "\n",
      "\n",
      "The following objects are masked from ‘package:base’:\n",
      "\n",
      "    intersect, setdiff, setequal, union\n",
      "\n",
      "\n",
      "Loading required package: grid\n",
      "\n",
      "\n",
      "Attaching package: ‘vcd’\n",
      "\n",
      "\n",
      "The following object is masked _by_ ‘.GlobalEnv’:\n",
      "\n",
      "    odds\n",
      "\n",
      "\n"
     ]
    }
   ],
   "source": [
    "library(dplyr)\n",
    "library(ggplot2)\n",
    "library(vcd)"
   ]
  },
  {
   "cell_type": "code",
   "execution_count": 22,
   "metadata": {
    "vscode": {
     "languageId": "r"
    }
   },
   "outputs": [
    {
     "name": "stdout",
     "output_type": "stream",
     "text": [
      "Rows: 714\n",
      "Columns: 12\n",
      "$ PassengerId \u001b[3m\u001b[90m<int>\u001b[39m\u001b[23m 1, 2, 3, 4, 5, 7, 8, 9, 10, 11, 12, 13, 14, 15, 16, 17, 19…\n",
      "$ Survived    \u001b[3m\u001b[90m<int>\u001b[39m\u001b[23m 0, 1, 1, 1, 0, 0, 0, 1, 1, 1, 1, 0, 0, 0, 1, 0, 0, 0, 1, 1…\n",
      "$ Pclass      \u001b[3m\u001b[90m<int>\u001b[39m\u001b[23m 3, 1, 3, 1, 3, 1, 3, 3, 2, 3, 1, 3, 3, 3, 2, 3, 3, 2, 2, 3…\n",
      "$ Name        \u001b[3m\u001b[90m<chr>\u001b[39m\u001b[23m \"Braund, Mr. Owen Harris\", \"Cumings, Mrs. John Bradley (Fl…\n",
      "$ Sex         \u001b[3m\u001b[90m<chr>\u001b[39m\u001b[23m \"male\", \"female\", \"female\", \"female\", \"male\", \"male\", \"mal…\n",
      "$ Age         \u001b[3m\u001b[90m<dbl>\u001b[39m\u001b[23m 22, 38, 26, 35, 35, 54, 2, 27, 14, 4, 58, 20, 39, 14, 55, …\n",
      "$ SibSp       \u001b[3m\u001b[90m<int>\u001b[39m\u001b[23m 1, 1, 0, 1, 0, 0, 3, 0, 1, 1, 0, 0, 1, 0, 0, 4, 1, 0, 0, 0…\n",
      "$ Parch       \u001b[3m\u001b[90m<int>\u001b[39m\u001b[23m 0, 0, 0, 0, 0, 0, 1, 2, 0, 1, 0, 0, 5, 0, 0, 1, 0, 0, 0, 0…\n",
      "$ Ticket      \u001b[3m\u001b[90m<chr>\u001b[39m\u001b[23m \"A/5 21171\", \"PC 17599\", \"STON/O2. 3101282\", \"113803\", \"37…\n",
      "$ Fare        \u001b[3m\u001b[90m<dbl>\u001b[39m\u001b[23m 7.2500, 71.2833, 7.9250, 53.1000, 8.0500, 51.8625, 21.0750…\n",
      "$ Cabin       \u001b[3m\u001b[90m<chr>\u001b[39m\u001b[23m \"\", \"C85\", \"\", \"C123\", \"\", \"E46\", \"\", \"\", \"\", \"G6\", \"C103\"…\n",
      "$ Embarked    \u001b[3m\u001b[90m<chr>\u001b[39m\u001b[23m \"S\", \"C\", \"S\", \"S\", \"S\", \"S\", \"S\", \"S\", \"C\", \"S\", \"S\", \"S\"…\n",
      "Rows: 714\n",
      "Columns: 3\n",
      "$ Survived \u001b[3m\u001b[90m<fct>\u001b[39m\u001b[23m No, Yes, Yes, Yes, No, No, No, Yes, Yes, Yes, Yes, No, No, No…\n",
      "$ Pclass   \u001b[3m\u001b[90m<fct>\u001b[39m\u001b[23m Third, First, Third, First, Third, First, Third, Third, Secon…\n",
      "$ Sex      \u001b[3m\u001b[90m<fct>\u001b[39m\u001b[23m Male, Female, Female, Female, Male, Male, Male, Female, Femal…\n"
     ]
    }
   ],
   "source": [
    "# Считаем данные\n",
    "titanic <- read.csv(\"https://stepic.org/media/attachments/course/524/train.csv\")\n",
    "titanic <- na.omit(titanic)\n",
    "glimpse(titanic) #как str только лучше\n",
    "\n",
    "# Оставляем только столбцы Survived, Pclass, Sex\n",
    "titanic <- select(titanic, Survived, Pclass, Sex)\n",
    "# mutate - это функция, которая добавляет новые столбцы или изменяет существующие в датафрейме.\n",
    "titanic <- mutate(titanic, \n",
    "                  Survived = factor(Survived, labels = c(\"No\", \"Yes\")), # в фактор\n",
    "                  Pclass = factor(Pclass, labels = c(\"First\", \"Second\", \"Third\")), \n",
    "                  Sex = factor(Sex, labels = c(\"Female\", \"Male\")))\n",
    "\n",
    "glimpse(titanic) #как str только лучше\n",
    "\n",
    "\n"
   ]
  },
  {
   "cell_type": "code",
   "execution_count": 23,
   "metadata": {
    "vscode": {
     "languageId": "r"
    }
   },
   "outputs": [
    {
     "data": {
      "text/plain": [
       ", , Sex = Female\n",
       "\n",
       "        Pclass\n",
       "Survived First Second Third\n",
       "     No      3      6    55\n",
       "     Yes    82     68    47\n",
       "\n",
       ", , Sex = Male\n",
       "\n",
       "        Pclass\n",
       "Survived First Second Third\n",
       "     No     61     84   215\n",
       "     Yes    40     15    38\n"
      ]
     },
     "metadata": {},
     "output_type": "display_data"
    }
   ],
   "source": [
    "table(titanic)\n"
   ]
  },
  {
   "cell_type": "code",
   "execution_count": 24,
   "metadata": {
    "vscode": {
     "languageId": "r"
    }
   },
   "outputs": [
    {
     "data": {
      "image/png": "[encoded data removed]",
      "text/plain": [
       "plot without title"
      ]
     },
     "metadata": {
      "image/png": {
       "height": 420,
       "width": 420
      }
     },
     "output_type": "display_data"
    }
   ],
   "source": [
    "# Построим мозаичный график\n",
    "mosaic(~ Sex + Survived | Pclass, data=titanic) \n"
   ]
  },
  {
   "cell_type": "markdown",
   "metadata": {},
   "source": [
    "## Модель без предикторов (Intercept only model)"
   ]
  },
  {
   "cell_type": "code",
   "execution_count": 25,
   "metadata": {
    "vscode": {
     "languageId": "r"
    }
   },
   "outputs": [
    {
     "data": {
      "text/html": [
       "<strong>(Intercept):</strong> -0.379852532251438"
      ],
      "text/latex": [
       "\\textbf{(Intercept):} -0.379852532251438"
      ],
      "text/markdown": [
       "**(Intercept):** -0.379852532251438"
      ],
      "text/plain": [
       "(Intercept) \n",
       " -0.3798525 "
      ]
     },
     "metadata": {},
     "output_type": "display_data"
    },
    {
     "data": {
      "text/plain": [
       "\n",
       " No Yes \n",
       "424 290 "
      ]
     },
     "metadata": {},
     "output_type": "display_data"
    },
    {
     "data": {
      "text/html": [
       "-0.379852532251438"
      ],
      "text/latex": [
       "-0.379852532251438"
      ],
      "text/markdown": [
       "-0.379852532251438"
      ],
      "text/plain": [
       "[1] -0.3798525"
      ]
     },
     "metadata": {},
     "output_type": "display_data"
    },
    {
     "data": {
      "text/plain": [
       "\n",
       "Call:\n",
       "glm(formula = Survived ~ 1, family = \"binomial\", data = titanic)\n",
       "\n",
       "Coefficients:\n",
       "            Estimate Std. Error z value Pr(>|z|)    \n",
       "(Intercept)  -0.3799     0.0762  -4.985  6.2e-07 ***\n",
       "---\n",
       "Signif. codes:  0 ‘***’ 0.001 ‘**’ 0.01 ‘*’ 0.05 ‘.’ 0.1 ‘ ’ 1\n",
       "\n",
       "(Dispersion parameter for binomial family taken to be 1)\n",
       "\n",
       "    Null deviance: 964.52  on 713  degrees of freedom\n",
       "Residual deviance: 964.52  on 713  degrees of freedom\n",
       "AIC: 966.52\n",
       "\n",
       "Number of Fisher Scoring iterations: 4\n"
      ]
     },
     "metadata": {},
     "output_type": "display_data"
    }
   ],
   "source": [
    "# Модель без предикторов (Intercept only model)\n",
    "simple_fit <- glm(Survived ~ 1, titanic, family = \"binomial\")\n",
    "\n",
    "coef(simple_fit) # коэф-ы модели\n",
    "table(titanic$Survived)\n",
    "\n",
    "\n",
    "odds <- 290 / 424\n",
    "log(odds) \n",
    "\n",
    "summary(simple_fit)\n",
    "\n",
    "\n"
   ]
  },
  {
   "cell_type": "markdown",
   "metadata": {},
   "source": [
    "## Модель с одним номинативным предиктором\n"
   ]
  },
  {
   "cell_type": "code",
   "execution_count": 26,
   "metadata": {
    "vscode": {
     "languageId": "r"
    }
   },
   "outputs": [
    {
     "data": {
      "text/html": [
       "<style>\n",
       ".dl-inline {width: auto; margin:0; padding: 0}\n",
       ".dl-inline>dt, .dl-inline>dd {float: none; width: auto; display: inline-block}\n",
       ".dl-inline>dt::after {content: \":\\0020\"; padding-right: .5ex}\n",
       ".dl-inline>dt:not(:first-of-type) {padding-left: .5ex}\n",
       "</style><dl class=dl-inline><dt>(Intercept)</dt><dd>1.12432064537548</dd><dt>SexMale</dt><dd>-2.477825183672</dd></dl>\n"
      ],
      "text/latex": [
       "\\begin{description*}\n",
       "\\item[(Intercept)] 1.12432064537548\n",
       "\\item[SexMale] -2.477825183672\n",
       "\\end{description*}\n"
      ],
      "text/markdown": [
       "(Intercept)\n",
       ":   1.12432064537548SexMale\n",
       ":   -2.477825183672\n",
       "\n"
      ],
      "text/plain": [
       "(Intercept)     SexMale \n",
       "   1.124321   -2.477825 "
      ]
     },
     "metadata": {},
     "output_type": "display_data"
    },
    {
     "data": {
      "text/plain": [
       "     \n",
       "      Female Male\n",
       "  No      64  360\n",
       "  Yes    197   93"
      ]
     },
     "metadata": {},
     "output_type": "display_data"
    },
    {
     "data": {
      "text/html": [
       "1.12432064537832"
      ],
      "text/latex": [
       "1.12432064537832"
      ],
      "text/markdown": [
       "1.12432064537832"
      ],
      "text/plain": [
       "[1] 1.124321"
      ]
     },
     "metadata": {},
     "output_type": "display_data"
    },
    {
     "data": {
      "text/html": [
       "-1.3535045382969"
      ],
      "text/latex": [
       "-1.3535045382969"
      ],
      "text/markdown": [
       "-1.3535045382969"
      ],
      "text/plain": [
       "[1] -1.353505"
      ]
     },
     "metadata": {},
     "output_type": "display_data"
    },
    {
     "data": {
      "text/html": [
       "-2.47782518367522"
      ],
      "text/latex": [
       "-2.47782518367522"
      ],
      "text/markdown": [
       "-2.47782518367522"
      ],
      "text/plain": [
       "[1] -2.477825"
      ]
     },
     "metadata": {},
     "output_type": "display_data"
    },
    {
     "data": {
      "text/plain": [
       "\n",
       "Call:\n",
       "glm(formula = Survived ~ Sex, family = \"binomial\", data = titanic)\n",
       "\n",
       "Coefficients:\n",
       "            Estimate Std. Error z value Pr(>|z|)    \n",
       "(Intercept)   1.1243     0.1439   7.814 5.52e-15 ***\n",
       "SexMale      -2.4778     0.1850 -13.392  < 2e-16 ***\n",
       "---\n",
       "Signif. codes:  0 ‘***’ 0.001 ‘**’ 0.01 ‘*’ 0.05 ‘.’ 0.1 ‘ ’ 1\n",
       "\n",
       "(Dispersion parameter for binomial family taken to be 1)\n",
       "\n",
       "    Null deviance: 964.52  on 713  degrees of freedom\n",
       "Residual deviance: 750.70  on 712  degrees of freedom\n",
       "AIC: 754.7\n",
       "\n",
       "Number of Fisher Scoring iterations: 4\n"
      ]
     },
     "metadata": {},
     "output_type": "display_data"
    }
   ],
   "source": [
    "# Модель с одним номинативным предиктором\n",
    "fit1 <- glm(Survived ~ Sex, titanic, family = \"binomial\")\n",
    "coef(fit1)\n",
    "table(titanic$Survived, titanic$Sex)\n",
    "\n",
    "odds_male <- 93 / 360\n",
    "odds_female <- 197 / 64\n",
    "\n",
    "log(odds_female)\n",
    "log(odds_male)\n",
    "\n",
    "odds_ratio <- odds_male / odds_female\n",
    "log(odds_ratio)\n",
    "\n",
    "summary(fit1)"
   ]
  },
  {
   "cell_type": "markdown",
   "metadata": {},
   "source": [
    "### Сравнение моделей"
   ]
  },
  {
   "cell_type": "code",
   "execution_count": 27,
   "metadata": {
    "vscode": {
     "languageId": "r"
    }
   },
   "outputs": [
    {
     "data": {
      "text/html": [
       "<table class=\"dataframe\">\n",
       "<caption>A anova: 2 × 5</caption>\n",
       "<thead>\n",
       "\t<tr><th></th><th scope=col>Resid. Df</th><th scope=col>Resid. Dev</th><th scope=col>Df</th><th scope=col>Deviance</th><th scope=col>Pr(&gt;Chi)</th></tr>\n",
       "\t<tr><th></th><th scope=col>&lt;dbl&gt;</th><th scope=col>&lt;dbl&gt;</th><th scope=col>&lt;dbl&gt;</th><th scope=col>&lt;dbl&gt;</th><th scope=col>&lt;dbl&gt;</th></tr>\n",
       "</thead>\n",
       "<tbody>\n",
       "\t<tr><th scope=row>1</th><td>713</td><td>964.5160</td><td>NA</td><td>      NA</td><td>          NA</td></tr>\n",
       "\t<tr><th scope=row>2</th><td>712</td><td>750.7002</td><td> 1</td><td>213.8158</td><td>2.020274e-48</td></tr>\n",
       "</tbody>\n",
       "</table>\n"
      ],
      "text/latex": [
       "A anova: 2 × 5\n",
       "\\begin{tabular}{r|lllll}\n",
       "  & Resid. Df & Resid. Dev & Df & Deviance & Pr(>Chi)\\\\\n",
       "  & <dbl> & <dbl> & <dbl> & <dbl> & <dbl>\\\\\n",
       "\\hline\n",
       "\t1 & 713 & 964.5160 & NA &       NA &           NA\\\\\n",
       "\t2 & 712 & 750.7002 &  1 & 213.8158 & 2.020274e-48\\\\\n",
       "\\end{tabular}\n"
      ],
      "text/markdown": [
       "\n",
       "A anova: 2 × 5\n",
       "\n",
       "| <!--/--> | Resid. Df &lt;dbl&gt; | Resid. Dev &lt;dbl&gt; | Df &lt;dbl&gt; | Deviance &lt;dbl&gt; | Pr(&gt;Chi) &lt;dbl&gt; |\n",
       "|---|---|---|---|---|---|\n",
       "| 1 | 713 | 964.5160 | NA |       NA |           NA |\n",
       "| 2 | 712 | 750.7002 |  1 | 213.8158 | 2.020274e-48 |\n",
       "\n"
      ],
      "text/plain": [
       "  Resid. Df Resid. Dev Df Deviance Pr(>Chi)    \n",
       "1 713       964.5160   NA       NA           NA\n",
       "2 712       750.7002    1 213.8158 2.020274e-48"
      ]
     },
     "metadata": {},
     "output_type": "display_data"
    },
    {
     "data": {
      "text/html": [
       "<table class=\"dataframe\">\n",
       "<caption>A anova: 2 × 5</caption>\n",
       "<thead>\n",
       "\t<tr><th></th><th scope=col>Df</th><th scope=col>Deviance</th><th scope=col>Resid. Df</th><th scope=col>Resid. Dev</th><th scope=col>Pr(&gt;Chi)</th></tr>\n",
       "\t<tr><th></th><th scope=col>&lt;int&gt;</th><th scope=col>&lt;dbl&gt;</th><th scope=col>&lt;int&gt;</th><th scope=col>&lt;dbl&gt;</th><th scope=col>&lt;dbl&gt;</th></tr>\n",
       "</thead>\n",
       "<tbody>\n",
       "\t<tr><th scope=row>NULL</th><td>NA</td><td>      NA</td><td>713</td><td>964.5160</td><td>          NA</td></tr>\n",
       "\t<tr><th scope=row>Sex</th><td> 1</td><td>213.8158</td><td>712</td><td>750.7002</td><td>2.020274e-48</td></tr>\n",
       "</tbody>\n",
       "</table>\n"
      ],
      "text/latex": [
       "A anova: 2 × 5\n",
       "\\begin{tabular}{r|lllll}\n",
       "  & Df & Deviance & Resid. Df & Resid. Dev & Pr(>Chi)\\\\\n",
       "  & <int> & <dbl> & <int> & <dbl> & <dbl>\\\\\n",
       "\\hline\n",
       "\tNULL & NA &       NA & 713 & 964.5160 &           NA\\\\\n",
       "\tSex &  1 & 213.8158 & 712 & 750.7002 & 2.020274e-48\\\\\n",
       "\\end{tabular}\n"
      ],
      "text/markdown": [
       "\n",
       "A anova: 2 × 5\n",
       "\n",
       "| <!--/--> | Df &lt;int&gt; | Deviance &lt;dbl&gt; | Resid. Df &lt;int&gt; | Resid. Dev &lt;dbl&gt; | Pr(&gt;Chi) &lt;dbl&gt; |\n",
       "|---|---|---|---|---|---|\n",
       "| NULL | NA |       NA | 713 | 964.5160 |           NA |\n",
       "| Sex |  1 | 213.8158 | 712 | 750.7002 | 2.020274e-48 |\n",
       "\n"
      ],
      "text/plain": [
       "     Df Deviance Resid. Df Resid. Dev Pr(>Chi)    \n",
       "NULL NA       NA 713       964.5160             NA\n",
       "Sex   1 213.8158 712       750.7002   2.020274e-48"
      ]
     },
     "metadata": {},
     "output_type": "display_data"
    }
   ],
   "source": [
    "anova(simple_fit, fit1, test=\"Chisq\")\n",
    "anova(fit1, test = \"Chisq\")"
   ]
  },
  {
   "cell_type": "markdown",
   "metadata": {},
   "source": [
    "## Модель с двумя категориальными предикторами\n"
   ]
  },
  {
   "cell_type": "code",
   "execution_count": 28,
   "metadata": {
    "vscode": {
     "languageId": "r"
    }
   },
   "outputs": [
    {
     "data": {
      "text/html": [
       "<style>\n",
       ".dl-inline {width: auto; margin:0; padding: 0}\n",
       ".dl-inline>dt, .dl-inline>dd {float: none; width: auto; display: inline-block}\n",
       ".dl-inline>dt::after {content: \":\\0020\"; padding-right: .5ex}\n",
       ".dl-inline>dt:not(:first-of-type) {padding-left: .5ex}\n",
       "</style><dl class=dl-inline><dt>(Intercept)</dt><dd>3.30810625308417</dd><dt>SexMale</dt><dd>-3.73010066314355</dd><dt>PclassSecond</dt><dd>-0.880358017136286</dd><dt>PclassThird</dt><dd>-3.46529183660659</dd><dt>SexMale:PclassSecond</dt><dd>-0.420414170545443</dd><dt>SexMale:PclassThird</dt><dd>2.15423437826468</dd></dl>\n"
      ],
      "text/latex": [
       "\\begin{description*}\n",
       "\\item[(Intercept)] 3.30810625308417\n",
       "\\item[SexMale] -3.73010066314355\n",
       "\\item[PclassSecond] -0.880358017136286\n",
       "\\item[PclassThird] -3.46529183660659\n",
       "\\item[SexMale:PclassSecond] -0.420414170545443\n",
       "\\item[SexMale:PclassThird] 2.15423437826468\n",
       "\\end{description*}\n"
      ],
      "text/markdown": [
       "(Intercept)\n",
       ":   3.30810625308417SexMale\n",
       ":   -3.73010066314355PclassSecond\n",
       ":   -0.880358017136286PclassThird\n",
       ":   -3.46529183660659SexMale:PclassSecond\n",
       ":   -0.420414170545443SexMale:PclassThird\n",
       ":   2.15423437826468\n",
       "\n"
      ],
      "text/plain": [
       "         (Intercept)              SexMale         PclassSecond \n",
       "           3.3081063           -3.7301007           -0.8803580 \n",
       "         PclassThird SexMale:PclassSecond  SexMale:PclassThird \n",
       "          -3.4652918           -0.4204142            2.1542344 "
      ]
     },
     "metadata": {},
     "output_type": "display_data"
    },
    {
     "data": {
      "text/plain": [
       "\n",
       "Call:\n",
       "glm(formula = Survived ~ Sex * Pclass, family = \"binomial\", data = titanic)\n",
       "\n",
       "Coefficients:\n",
       "                     Estimate Std. Error z value Pr(>|z|)    \n",
       "(Intercept)            3.3081     0.5875   5.631 1.79e-08 ***\n",
       "SexMale               -3.7301     0.6217  -6.000 1.98e-09 ***\n",
       "PclassSecond          -0.8804     0.7256  -1.213  0.22503    \n",
       "PclassThird           -3.4653     0.6202  -5.588 2.30e-08 ***\n",
       "SexMale:PclassSecond  -0.4204     0.8040  -0.523  0.60106    \n",
       "SexMale:PclassThird    2.1542     0.6760   3.187  0.00144 ** \n",
       "---\n",
       "Signif. codes:  0 ‘***’ 0.001 ‘**’ 0.01 ‘*’ 0.05 ‘.’ 0.1 ‘ ’ 1\n",
       "\n",
       "(Dispersion parameter for binomial family taken to be 1)\n",
       "\n",
       "    Null deviance: 964.52  on 713  degrees of freedom\n",
       "Residual deviance: 642.28  on 708  degrees of freedom\n",
       "AIC: 654.28\n",
       "\n",
       "Number of Fisher Scoring iterations: 5\n"
      ]
     },
     "metadata": {},
     "output_type": "display_data"
    },
    {
     "data": {
      "text/plain": [
       ", ,  = Female\n",
       "\n",
       "     \n",
       "      First Second Third\n",
       "  No      3      6    55\n",
       "  Yes    82     68    47\n",
       "\n",
       ", ,  = Male\n",
       "\n",
       "     \n",
       "      First Second Third\n",
       "  No     61     84   215\n",
       "  Yes    40     15    38\n"
      ]
     },
     "metadata": {},
     "output_type": "display_data"
    }
   ],
   "source": [
    "# Модель с двумя категориальными предикторами\n",
    "fit2 <- glm(Survived ~ Sex * Pclass, titanic, family = \"binomial\")\n",
    "coef(fit2)\n",
    "summary(fit2)\n",
    "\n",
    "table(titanic$Survived, titanic$Pclass , titanic$Sex)\n"
   ]
  },
  {
   "cell_type": "code",
   "execution_count": 29,
   "metadata": {
    "vscode": {
     "languageId": "r"
    }
   },
   "outputs": [
    {
     "data": {
      "text/html": [
       "3.30810695859614"
      ],
      "text/latex": [
       "3.30810695859614"
      ],
      "text/markdown": [
       "3.30810695859614"
      ],
      "text/plain": [
       "[1] 3.308107"
      ]
     },
     "metadata": {},
     "output_type": "display_data"
    },
    {
     "data": {
      "text/html": [
       "-0.421994410059375"
      ],
      "text/latex": [
       "-0.421994410059375"
      ],
      "text/markdown": [
       "-0.421994410059375"
      ],
      "text/plain": [
       "[1] -0.4219944"
      ]
     },
     "metadata": {},
     "output_type": "display_data"
    },
    {
     "data": {
      "text/html": [
       "-3.73010136865552"
      ],
      "text/latex": [
       "-3.73010136865552"
      ],
      "text/markdown": [
       "-3.73010136865552"
      ],
      "text/plain": [
       "[1] -3.730101"
      ]
     },
     "metadata": {},
     "output_type": "display_data"
    },
    {
     "data": {
      "text/html": [
       "-0.880358722648092"
      ],
      "text/latex": [
       "-0.880358722648092"
      ],
      "text/markdown": [
       "-0.880358722648092"
      ],
      "text/plain": [
       "[1] -0.8803587"
      ]
     },
     "metadata": {},
     "output_type": "display_data"
    },
    {
     "data": {
      "text/html": [
       "-3.46529254211856"
      ],
      "text/latex": [
       "-3.46529254211856"
      ],
      "text/markdown": [
       "-3.46529254211856"
      ],
      "text/plain": [
       "[1] -3.465293"
      ]
     },
     "metadata": {},
     "output_type": "display_data"
    },
    {
     "data": {
      "text/html": [
       "-0.420413465033637"
      ],
      "text/latex": [
       "-0.420413465033637"
      ],
      "text/markdown": [
       "-0.420413465033637"
      ],
      "text/plain": [
       "[1] -0.4204135"
      ]
     },
     "metadata": {},
     "output_type": "display_data"
    },
    {
     "data": {
      "text/html": [
       "2.15423508377665"
      ],
      "text/latex": [
       "2.15423508377665"
      ],
      "text/markdown": [
       "2.15423508377665"
      ],
      "text/plain": [
       "[1] 2.154235"
      ]
     },
     "metadata": {},
     "output_type": "display_data"
    }
   ],
   "source": [
    "\n",
    "# (Intercept) \n",
    "female_p1_odds <- 82 / 3\n",
    "log(female_p1_odds)\n",
    "\n",
    "# Sexmale  \n",
    "male_p1_odds <- 40  /  61 \n",
    "log(male_p1_odds)\n",
    "log(male_p1_odds / female_p1_odds )\n",
    "\n",
    "# PclassSecond\n",
    "female_p2_odds <- 68  /  6 \n",
    "log(female_p2_odds / female_p1_odds )\n",
    "\n",
    "# PclassThird\n",
    "female_p3_odds <- 47  /  55 \n",
    "log(female_p3_odds / female_p1_odds )\n",
    "\n",
    "# SexMale:PclassSecond\n",
    "male_p2_odds <- 15 / 84\n",
    "log(male_p2_odds / female_p2_odds ) - log(male_p1_odds / female_p1_odds )\n",
    "\n",
    "#Sexmale:factorThird \n",
    "male_p3_odds <- 38 / 215\n",
    "log(male_p3_odds / female_p3_odds ) - log(male_p1_odds / female_p1_odds )\n"
   ]
  },
  {
   "cell_type": "markdown",
   "metadata": {},
   "source": [
    "### сравнение моделей"
   ]
  },
  {
   "cell_type": "code",
   "execution_count": 30,
   "metadata": {
    "vscode": {
     "languageId": "r"
    }
   },
   "outputs": [
    {
     "data": {
      "text/html": [
       "<table class=\"dataframe\">\n",
       "<caption>A anova: 2 × 5</caption>\n",
       "<thead>\n",
       "\t<tr><th></th><th scope=col>Resid. Df</th><th scope=col>Resid. Dev</th><th scope=col>Df</th><th scope=col>Deviance</th><th scope=col>Pr(&gt;Chi)</th></tr>\n",
       "\t<tr><th></th><th scope=col>&lt;dbl&gt;</th><th scope=col>&lt;dbl&gt;</th><th scope=col>&lt;dbl&gt;</th><th scope=col>&lt;dbl&gt;</th><th scope=col>&lt;dbl&gt;</th></tr>\n",
       "</thead>\n",
       "<tbody>\n",
       "\t<tr><th scope=row>1</th><td>712</td><td>750.7002</td><td>NA</td><td>      NA</td><td>          NA</td></tr>\n",
       "\t<tr><th scope=row>2</th><td>708</td><td>642.2750</td><td> 4</td><td>108.4252</td><td>1.576933e-22</td></tr>\n",
       "</tbody>\n",
       "</table>\n"
      ],
      "text/latex": [
       "A anova: 2 × 5\n",
       "\\begin{tabular}{r|lllll}\n",
       "  & Resid. Df & Resid. Dev & Df & Deviance & Pr(>Chi)\\\\\n",
       "  & <dbl> & <dbl> & <dbl> & <dbl> & <dbl>\\\\\n",
       "\\hline\n",
       "\t1 & 712 & 750.7002 & NA &       NA &           NA\\\\\n",
       "\t2 & 708 & 642.2750 &  4 & 108.4252 & 1.576933e-22\\\\\n",
       "\\end{tabular}\n"
      ],
      "text/markdown": [
       "\n",
       "A anova: 2 × 5\n",
       "\n",
       "| <!--/--> | Resid. Df &lt;dbl&gt; | Resid. Dev &lt;dbl&gt; | Df &lt;dbl&gt; | Deviance &lt;dbl&gt; | Pr(&gt;Chi) &lt;dbl&gt; |\n",
       "|---|---|---|---|---|---|\n",
       "| 1 | 712 | 750.7002 | NA |       NA |           NA |\n",
       "| 2 | 708 | 642.2750 |  4 | 108.4252 | 1.576933e-22 |\n",
       "\n"
      ],
      "text/plain": [
       "  Resid. Df Resid. Dev Df Deviance Pr(>Chi)    \n",
       "1 712       750.7002   NA       NA           NA\n",
       "2 708       642.2750    4 108.4252 1.576933e-22"
      ]
     },
     "metadata": {},
     "output_type": "display_data"
    },
    {
     "data": {
      "text/html": [
       "<table class=\"dataframe\">\n",
       "<caption>A anova: 4 × 5</caption>\n",
       "<thead>\n",
       "\t<tr><th></th><th scope=col>Df</th><th scope=col>Deviance</th><th scope=col>Resid. Df</th><th scope=col>Resid. Dev</th><th scope=col>Pr(&gt;Chi)</th></tr>\n",
       "\t<tr><th></th><th scope=col>&lt;int&gt;</th><th scope=col>&lt;dbl&gt;</th><th scope=col>&lt;int&gt;</th><th scope=col>&lt;dbl&gt;</th><th scope=col>&lt;dbl&gt;</th></tr>\n",
       "</thead>\n",
       "<tbody>\n",
       "\t<tr><th scope=row>NULL</th><td>NA</td><td>       NA</td><td>713</td><td>964.5160</td><td>          NA</td></tr>\n",
       "\t<tr><th scope=row>Sex</th><td> 1</td><td>213.81576</td><td>712</td><td>750.7002</td><td>2.020274e-48</td></tr>\n",
       "\t<tr><th scope=row>Pclass</th><td> 2</td><td> 78.26950</td><td>710</td><td>672.4307</td><td>1.009241e-17</td></tr>\n",
       "\t<tr><th scope=row>Sex:Pclass</th><td> 2</td><td> 30.15567</td><td>708</td><td>642.2750</td><td>2.829962e-07</td></tr>\n",
       "</tbody>\n",
       "</table>\n"
      ],
      "text/latex": [
       "A anova: 4 × 5\n",
       "\\begin{tabular}{r|lllll}\n",
       "  & Df & Deviance & Resid. Df & Resid. Dev & Pr(>Chi)\\\\\n",
       "  & <int> & <dbl> & <int> & <dbl> & <dbl>\\\\\n",
       "\\hline\n",
       "\tNULL & NA &        NA & 713 & 964.5160 &           NA\\\\\n",
       "\tSex &  1 & 213.81576 & 712 & 750.7002 & 2.020274e-48\\\\\n",
       "\tPclass &  2 &  78.26950 & 710 & 672.4307 & 1.009241e-17\\\\\n",
       "\tSex:Pclass &  2 &  30.15567 & 708 & 642.2750 & 2.829962e-07\\\\\n",
       "\\end{tabular}\n"
      ],
      "text/markdown": [
       "\n",
       "A anova: 4 × 5\n",
       "\n",
       "| <!--/--> | Df &lt;int&gt; | Deviance &lt;dbl&gt; | Resid. Df &lt;int&gt; | Resid. Dev &lt;dbl&gt; | Pr(&gt;Chi) &lt;dbl&gt; |\n",
       "|---|---|---|---|---|---|\n",
       "| NULL | NA |        NA | 713 | 964.5160 |           NA |\n",
       "| Sex |  1 | 213.81576 | 712 | 750.7002 | 2.020274e-48 |\n",
       "| Pclass |  2 |  78.26950 | 710 | 672.4307 | 1.009241e-17 |\n",
       "| Sex:Pclass |  2 |  30.15567 | 708 | 642.2750 | 2.829962e-07 |\n",
       "\n"
      ],
      "text/plain": [
       "           Df Deviance  Resid. Df Resid. Dev Pr(>Chi)    \n",
       "NULL       NA        NA 713       964.5160             NA\n",
       "Sex         1 213.81576 712       750.7002   2.020274e-48\n",
       "Pclass      2  78.26950 710       672.4307   1.009241e-17\n",
       "Sex:Pclass  2  30.15567 708       642.2750   2.829962e-07"
      ]
     },
     "metadata": {},
     "output_type": "display_data"
    },
    {
     "data": {
      "text/html": [
       "<strong>1:</strong> 0.964705858331349"
      ],
      "text/latex": [
       "\\textbf{1:} 0.964705858331349"
      ],
      "text/markdown": [
       "**1:** 0.964705858331349"
      ],
      "text/plain": [
       "        1 \n",
       "0.9647059 "
      ]
     },
     "metadata": {},
     "output_type": "display_data"
    },
    {
     "data": {
      "text/html": [
       "<strong>1:</strong> 2.33381875193208"
      ],
      "text/latex": [
       "\\textbf{1:} 2.33381875193208"
      ],
      "text/markdown": [
       "**1:** 2.33381875193208"
      ],
      "text/plain": [
       "       1 \n",
       "2.333819 "
      ]
     },
     "metadata": {},
     "output_type": "display_data"
    }
   ],
   "source": [
    "\n",
    "# сравнение моделей\n",
    "fit1 <- glm(Survived ~ Sex, titanic, family = \"binomial\")\n",
    "fit2 <- glm(Survived ~ Sex * Pclass, titanic, family = \"binomial\")\n",
    "\n",
    "anova(fit1, fit2, test=\"Chisq\")\n",
    "anova(fit2, test=\"Chisq\")\n",
    "# предсказание новых данных\n",
    "new_data <- data.frame(Sex = \"Female\", Pclass = \"First\")\n",
    "predict(fit2, newdata = new_data, type = \"response\")\n",
    "\n",
    "\n",
    "fit3 <- glm(Survived ~ Sex + Pclass, titanic, family = \"binomial\")\n",
    "predict(fit3, newdata = new_data)"
   ]
  },
  {
   "cell_type": "code",
   "execution_count": 31,
   "metadata": {
    "vscode": {
     "languageId": "r"
    }
   },
   "outputs": [],
   "source": [
    "odds = function(p){\n",
    "    odds = p / (1 - p)\n",
    "}"
   ]
  },
  {
   "cell_type": "code",
   "execution_count": 32,
   "metadata": {
    "vscode": {
     "languageId": "r"
    }
   },
   "outputs": [
    {
     "data": {
      "text/html": [
       "0.111111111111111"
      ],
      "text/latex": [
       "0.111111111111111"
      ],
      "text/markdown": [
       "0.111111111111111"
      ],
      "text/plain": [
       "[1] 0.1111111"
      ]
     },
     "metadata": {},
     "output_type": "display_data"
    }
   ],
   "source": [
    "t = odds(0.1)\n",
    "t"
   ]
  },
  {
   "cell_type": "code",
   "execution_count": 33,
   "metadata": {
    "vscode": {
     "languageId": "r"
    }
   },
   "outputs": [
    {
     "data": {
      "text/html": [
       "1.61"
      ],
      "text/latex": [
       "1.61"
      ],
      "text/markdown": [
       "1.61"
      ],
      "text/plain": [
       "[1] 1.61"
      ]
     },
     "metadata": {},
     "output_type": "display_data"
    },
    {
     "data": {
      "text/html": [
       "5.00281122783359"
      ],
      "text/latex": [
       "5.00281122783359"
      ],
      "text/markdown": [
       "5.00281122783359"
      ],
      "text/plain": [
       "[1] 5.002811"
      ]
     },
     "metadata": {},
     "output_type": "display_data"
    },
    {
     "data": {
      "text/html": [
       "0.83341138642454"
      ],
      "text/latex": [
       "0.83341138642454"
      ],
      "text/markdown": [
       "0.83341138642454"
      ],
      "text/plain": [
       "[1] 0.8334114"
      ]
     },
     "metadata": {},
     "output_type": "display_data"
    }
   ],
   "source": [
    "-1.15+0.8+2.13-0.17\n",
    "exp(-1.15+0.8+2.13-0.17)\n",
    "exp(-1.15+0.8+2.13-0.17)/(1+exp(-1.15+0.8+2.13-0.17))\n"
   ]
  }
 ],
 "metadata": {
  "kernelspec": {
   "display_name": "R",
   "language": "R",
   "name": "ir"
  },
  "language_info": {
   "codemirror_mode": "r",
   "file_extension": ".r",
   "mimetype": "text/x-r-source",
   "name": "R",
   "pygments_lexer": "r",
   "version": "4.3.1"
  }
 },
 "nbformat": 4,
 "nbformat_minor": 2
}
