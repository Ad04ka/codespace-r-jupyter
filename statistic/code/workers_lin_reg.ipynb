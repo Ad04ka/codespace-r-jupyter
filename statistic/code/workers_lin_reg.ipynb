{
 "cells": [
  {
   "cell_type": "markdown",
   "id": "17b913f1",
   "metadata": {},
   "source": [
    "# Common project "
   ]
  }
 ],
 "metadata": {
  "language_info": {
   "name": "python"
  }
 },
 "nbformat": 4,
 "nbformat_minor": 5
}
