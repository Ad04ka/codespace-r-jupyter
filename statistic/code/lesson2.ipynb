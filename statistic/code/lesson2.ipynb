{
 "cells": [
  {
   "cell_type": "markdown",
   "metadata": {},
   "source": [
    "# Task 2\n",
    "1. For dataset “Babyboom”:\n",
    "   - Test a weight of babies for normality. First, for the whole dataset, then for group of boys and girls independently.\n",
    "   - Test the hypothesis if the mean of the weight of girls is the same as the weight of boys.\n",
    "   - Test the hypothesis if the variance of the weight of girls is the same as the weight of boys.\n",
    "   - Test the hypothesis if the time between birthtime is distributed by exponential distribution.\n",
    "   - Test the hypothesis if the births per hour for each hour is distributed by Poisson distribution.\n",
    "\n",
    "2. For dataset “Euroweight”:\n",
    "   - Test the weight of coins for normality (all coins and coins in packages).\n",
    "   - Test the hypotheses that the mean of the weight of coins is the same in different packages.\n",
    "\n",
    "3. For dataset “iris.txt” (read description in file “iris_description.txt’):\n",
    "   - Test the normality of length of flowers grouping them by the type of iris.\n",
    "   - Test the hypotheses about similarity of distributions of characteristics of flowers of different types.\n",
    "   - Test the hypotheses if the means and variances of the characteristics of flowers of different types are equal.\n",
    "\n",
    "4. For dataset “height.xls”:\n",
    "   - Test the normality of heights of football and basketball players.\n",
    "   - Test the equity of means and variances of the heights of football and basketball players.\n",
    "   - Test if the distributions of the heights of football and basketball players are the same.\n",
    "\n",
    "5. For dataset “sugery.xlsx”:\n",
    "   - Test the hypothesis that the operation is successful with probability 0.7. By success we mean that “V right” before operation is less than “V right” after operation and at the same time “V left” before operation is less than “V left” after operation.\n"
   ]
  },
  {
   "cell_type": "markdown",
   "metadata": {},
   "source": [
    "# Babyboom\n",
    "-----------------------------------------------------------\n",
    "VARIABLE DESCRIPTIONS: \n",
    "\n",
    "Columns:\n",
    " - 1 -  8  Time of birth recorded on the 24-hour clock\n",
    " - 9 - 16  Sex of the child (1 = girl, 2 = boy)\n",
    "- 17 - 24  Birth weight in grams\n",
    "- 25 - 32  Number of minutes after midnight of each birth\n",
    "-----------------------------------------------------------\n",
    "\n",
    "\n",
    "1. For dataset “Babyboom”:\n",
    "   - Test a weight of babies for normality. First, for the whole dataset, then for group of boys and girls independently.\n",
    "   - Test the hypothesis if the mean of the weight of girls is the same as the weight of boys.\n",
    "   - Test the hypothesis if the variance of the weight of girls is the same as the weight of boys.\n",
    "   - Test the hypothesis if the time between birthtime is distributed by exponential distribution.\n",
    "   - Test the hypothesis if the births per hour for each hour is distributed by Poisson distribution.\n"
   ]
  },
  {
   "cell_type": "code",
   "execution_count": 2,
   "metadata": {
    "vscode": {
     "languageId": "r"
    }
   },
   "outputs": [
    {
     "data": {
      "text/html": [
       "<table class=\"dataframe\">\n",
       "<caption>A data.frame: 3 × 4</caption>\n",
       "<thead>\n",
       "\t<tr><th></th><th scope=col>birth</th><th scope=col>gender</th><th scope=col>weight</th><th scope=col>minutes</th></tr>\n",
       "\t<tr><th></th><th scope=col>&lt;int&gt;</th><th scope=col>&lt;fct&gt;</th><th scope=col>&lt;int&gt;</th><th scope=col>&lt;int&gt;</th></tr>\n",
       "</thead>\n",
       "<tbody>\n",
       "\t<tr><th scope=row>1</th><td>  5</td><td>girl</td><td>3837</td><td> 5</td></tr>\n",
       "\t<tr><th scope=row>2</th><td>104</td><td>girl</td><td>3334</td><td>64</td></tr>\n",
       "\t<tr><th scope=row>3</th><td>118</td><td>boy </td><td>3554</td><td>78</td></tr>\n",
       "</tbody>\n",
       "</table>\n"
      ],
      "text/latex": [
       "A data.frame: 3 × 4\n",
       "\\begin{tabular}{r|llll}\n",
       "  & birth & gender & weight & minutes\\\\\n",
       "  & <int> & <fct> & <int> & <int>\\\\\n",
       "\\hline\n",
       "\t1 &   5 & girl & 3837 &  5\\\\\n",
       "\t2 & 104 & girl & 3334 & 64\\\\\n",
       "\t3 & 118 & boy  & 3554 & 78\\\\\n",
       "\\end{tabular}\n"
      ],
      "text/markdown": [
       "\n",
       "A data.frame: 3 × 4\n",
       "\n",
       "| <!--/--> | birth &lt;int&gt; | gender &lt;fct&gt; | weight &lt;int&gt; | minutes &lt;int&gt; |\n",
       "|---|---|---|---|---|\n",
       "| 1 |   5 | girl | 3837 |  5 |\n",
       "| 2 | 104 | girl | 3334 | 64 |\n",
       "| 3 | 118 | boy  | 3554 | 78 |\n",
       "\n"
      ],
      "text/plain": [
       "  birth gender weight minutes\n",
       "1   5   girl   3837    5     \n",
       "2 104   girl   3334   64     \n",
       "3 118   boy    3554   78     "
      ]
     },
     "metadata": {},
     "output_type": "display_data"
    },
    {
     "data": {
      "text/html": [
       "<table class=\"dataframe\">\n",
       "<caption>A data.frame: 2 × 4</caption>\n",
       "<thead>\n",
       "\t<tr><th></th><th scope=col>birth</th><th scope=col>gender</th><th scope=col>weight</th><th scope=col>minutes</th></tr>\n",
       "\t<tr><th></th><th scope=col>&lt;int&gt;</th><th scope=col>&lt;fct&gt;</th><th scope=col>&lt;int&gt;</th><th scope=col>&lt;int&gt;</th></tr>\n",
       "</thead>\n",
       "<tbody>\n",
       "\t<tr><th scope=row>43</th><td>2327</td><td>girl</td><td>3542</td><td>1407</td></tr>\n",
       "\t<tr><th scope=row>44</th><td>2355</td><td>girl</td><td>3278</td><td>1435</td></tr>\n",
       "</tbody>\n",
       "</table>\n"
      ],
      "text/latex": [
       "A data.frame: 2 × 4\n",
       "\\begin{tabular}{r|llll}\n",
       "  & birth & gender & weight & minutes\\\\\n",
       "  & <int> & <fct> & <int> & <int>\\\\\n",
       "\\hline\n",
       "\t43 & 2327 & girl & 3542 & 1407\\\\\n",
       "\t44 & 2355 & girl & 3278 & 1435\\\\\n",
       "\\end{tabular}\n"
      ],
      "text/markdown": [
       "\n",
       "A data.frame: 2 × 4\n",
       "\n",
       "| <!--/--> | birth &lt;int&gt; | gender &lt;fct&gt; | weight &lt;int&gt; | minutes &lt;int&gt; |\n",
       "|---|---|---|---|---|\n",
       "| 43 | 2327 | girl | 3542 | 1407 |\n",
       "| 44 | 2355 | girl | 3278 | 1435 |\n",
       "\n"
      ],
      "text/plain": [
       "   birth gender weight minutes\n",
       "43 2327  girl   3542   1407   \n",
       "44 2355  girl   3278   1435   "
      ]
     },
     "metadata": {},
     "output_type": "display_data"
    }
   ],
   "source": [
    "file_path <- \"../data/babyboom.dat.txt\"\n",
    "babyboom = read.table(file_path,  sep = \"\", fill = TRUE )\n",
    "\n",
    "# fill = True -- na в пустые колонки\n",
    "\n",
    "# Задание названий столбцов\n",
    "colnames(babyboom) <- c(\"birth\", \"gender\", \"weight\", \"minutes\")\n",
    "\n",
    "babyboom$gender = factor(babyboom$gender, labels = c(\"girl\", \"boy\"))\n",
    "\n",
    "\n",
    "head(babyboom, 3)\n",
    "tail(babyboom, 2)"
   ]
  },
  {
   "cell_type": "markdown",
   "metadata": {},
   "source": [
    "## Check Normality oh weight of babies (for both boys and girls, for boys and for girls separately)\n",
    "    1. Visual checking (density and histogram)\n",
    "    2. QQ - plot\n",
    "    3. Shapiro-Wilk test\n",
    "    4. Kolmogorov-Simrnov test \n",
    "    5. Peasron "
   ]
  },
  {
   "cell_type": "markdown",
   "metadata": {},
   "source": [
    "### 1. Visual checking (density and histogram)"
   ]
  },
  {
   "cell_type": "code",
   "execution_count": 3,
   "metadata": {
    "vscode": {
     "languageId": "r"
    }
   },
   "outputs": [
    {
     "data": {
      "image/png": "[encoded data removed]",
      "text/plain": [
       "plot without title"
      ]
     },
     "metadata": {
      "image/png": {
       "height": 420,
       "width": 420
      }
     },
     "output_type": "display_data"
    }
   ],
   "source": [
    "library(ggplot2)\n",
    "ggplot(babyboom, aes(x = weight, fill = gender))+\n",
    "    geom_density( alpha = 0.5)"
   ]
  },
  {
   "cell_type": "code",
   "execution_count": 97,
   "metadata": {
    "vscode": {
     "languageId": "r"
    }
   },
   "outputs": [
    {
     "name": "stderr",
     "output_type": "stream",
     "text": [
      "\u001b[1m\u001b[22m`stat_bin()` using `bins = 30`. Pick better value with `binwidth`.\n",
      "\u001b[1m\u001b[22m`stat_bin()` using `bins = 30`. Pick better value with `binwidth`.\n"
     ]
    },
    {
     "data": {
      "image/png": "[encoded data removed]",
      "text/plain": [
       "plot without title"
      ]
     },
     "metadata": {
      "image/png": {
       "height": 420,
       "width": 420
      }
     },
     "output_type": "display_data"
    }
   ],
   "source": [
    "library(ggplot2)\n",
    "\n",
    "# Создаем гистограмму с количеством минут по гендеру\n",
    "ggplot(babyboom, aes(x = weight, fill = gender)) +\n",
    "    geom_histogram(aes(y = after_stat(count)), position = \"identity\", alpha = 0.5) +  # Гистограмма по гендеру\n",
    "    geom_histogram(aes(y = after_stat(count)), color = \"black\", linewidth = 0.3, \n",
    "                   fill = NA,data = babyboom) +  # Общая гистограмма\n",
    "    labs(title = \"Histogram of weight distribution\",\n",
    "         x = \"Weight\",\n",
    "         y = \"Amount\") +\n",
    "    theme_minimal()\n",
    "\n",
    "\n"
   ]
  },
  {
   "cell_type": "markdown",
   "metadata": {},
   "source": [
    "### 2. QQ - plot"
   ]
  },
  {
   "cell_type": "code",
   "execution_count": 5,
   "metadata": {
    "vscode": {
     "languageId": "r"
    }
   },
   "outputs": [
    {
     "data": {
      "image/png": "[encoded data removed]",
      "text/plain": [
       "plot without title"
      ]
     },
     "metadata": {
      "image/png": {
       "height": 420,
       "width": 420
      }
     },
     "output_type": "display_data"
    },
    {
     "data": {
      "image/png": "[encoded data removed]",
      "text/plain": [
       "plot without title"
      ]
     },
     "metadata": {
      "image/png": {
       "height": 420,
       "width": 420
      }
     },
     "output_type": "display_data"
    }
   ],
   "source": [
    "library(ggplot2)\n",
    "ggplot(babyboom, aes(sample=weight))+\n",
    "    stat_qq()+\n",
    "    stat_qq_line() # norm\n",
    "\n",
    "ggplot(babyboom, aes(sample=weight, color = gender))+\n",
    "    stat_qq()+\n",
    "    stat_qq_line() # norm\n"
   ]
  },
  {
   "cell_type": "markdown",
   "metadata": {},
   "source": [
    "### 3. Shapiro-Wilk test"
   ]
  },
  {
   "cell_type": "code",
   "execution_count": 6,
   "metadata": {
    "vscode": {
     "languageId": "r"
    }
   },
   "outputs": [
    {
     "name": "stdout",
     "output_type": "stream",
     "text": [
      "\n",
      "\tShapiro-Wilk normality test\n",
      "\n",
      "data:  babyboom$weight\n",
      "W = 0.89872, p-value = 0.0009944\n",
      "\n",
      "\n",
      "\tShapiro-Wilk normality test\n",
      "\n",
      "data:  subset(babyboom, gender == \"boy\")$weight\n",
      "W = 0.94747, p-value = 0.2022\n",
      "\n",
      "\n",
      "\tShapiro-Wilk normality test\n",
      "\n",
      "data:  subset(babyboom, gender == \"girl\")$weight\n",
      "W = 0.87028, p-value = 0.01798\n",
      "\n"
     ]
    }
   ],
   "source": [
    "# Shapiro-wilk\n",
    "shapiro_test_result_for_all = shapiro.test(babyboom$weight)\n",
    "print(shapiro_test_result_for_all)\n",
    "\n",
    "# Shapiro-wilk\n",
    "shapiro_test_result_for_boys = shapiro.test(subset(babyboom, gender == \"boy\")$weight)\n",
    "print(shapiro_test_result_for_boys)\n",
    "\n",
    "# Shapiro-wilk\n",
    "shapiro_test_result_for_girls = shapiro.test(subset(babyboom, gender == \"girl\")$weight)\n",
    "print(shapiro_test_result_for_girls)"
   ]
  },
  {
   "cell_type": "markdown",
   "metadata": {},
   "source": [
    "### 4. Kolmogorov-Smirnov test"
   ]
  },
  {
   "cell_type": "markdown",
   "metadata": {},
   "source": [
    "$D_n = \\sup_x|F_n(x) - F(x)|$\n",
    "\n",
    "\n",
    "This dataset has ties (повторяющиеся значения), so use jitter() to add some noise."
   ]
  },
  {
   "cell_type": "code",
   "execution_count": 7,
   "metadata": {
    "vscode": {
     "languageId": "r"
    }
   },
   "outputs": [
    {
     "data": {
      "text/plain": [
       "\n",
       "\tExact one-sample Kolmogorov-Smirnov test\n",
       "\n",
       "data:  jitter(babyboom$weight)\n",
       "D = 0.18348, p-value = 0.09072\n",
       "alternative hypothesis: two-sided\n"
      ]
     },
     "metadata": {},
     "output_type": "display_data"
    },
    {
     "data": {
      "text/plain": [
       "\n",
       "\tExact one-sample Kolmogorov-Smirnov test\n",
       "\n",
       "data:  jitter(subset(babyboom, gender == \"boy\")$weight)\n",
       "D = 0.15545, p-value = 0.507\n",
       "alternative hypothesis: two-sided\n"
      ]
     },
     "metadata": {},
     "output_type": "display_data"
    },
    {
     "data": {
      "text/plain": [
       "\n",
       "\tExact one-sample Kolmogorov-Smirnov test\n",
       "\n",
       "data:  jitter(subset(babyboom, gender == \"girl\")$weight)\n",
       "D = 0.21404, p-value = 0.3329\n",
       "alternative hypothesis: two-sided\n"
      ]
     },
     "metadata": {},
     "output_type": "display_data"
    }
   ],
   "source": [
    "ks.test(jitter(babyboom$weight), 'pnorm', mean(babyboom$weight), sd(babyboom$weight) )\n",
    "\n",
    "\n",
    "ks.test(jitter(subset(babyboom, gender == 'boy')$weight), 'pnorm', mean(subset(babyboom, gender == 'boy')$weight), sd(subset(babyboom, gender == 'boy')$weight) )\n",
    "\n",
    "ks.test(jitter(subset(babyboom, gender == 'girl')$weight), 'pnorm', mean(subset(babyboom, gender == 'girl')$weight), sd(subset(babyboom, gender == 'girl')$weight) )\n"
   ]
  },
  {
   "cell_type": "markdown",
   "metadata": {},
   "source": [
    "### 5. Pearson Chi squared test"
   ]
  },
  {
   "cell_type": "code",
   "execution_count": 8,
   "metadata": {
    "vscode": {
     "languageId": "r"
    }
   },
   "outputs": [
    {
     "data": {
      "text/plain": [
       "\n",
       "\tPearson chi-square normality test\n",
       "\n",
       "data:  babyboom$weight\n",
       "P = 20.091, p-value = 0.005377\n"
      ]
     },
     "metadata": {},
     "output_type": "display_data"
    },
    {
     "data": {
      "text/plain": [
       "\n",
       "\tPearson chi-square normality test\n",
       "\n",
       "data:  subset(babyboom, gender == \"boy\")$weight\n",
       "P = 2.9231, p-value = 0.7118\n"
      ]
     },
     "metadata": {},
     "output_type": "display_data"
    },
    {
     "data": {
      "text/plain": [
       "\n",
       "\tPearson chi-square normality test\n",
       "\n",
       "data:  subset(babyboom, gender == \"girl\")$weight\n",
       "P = 7.6667, p-value = 0.1046\n"
      ]
     },
     "metadata": {},
     "output_type": "display_data"
    }
   ],
   "source": [
    "library(nortest)\n",
    "pearson.test(babyboom$weight)\n",
    "pearson.test(subset(babyboom, gender == 'boy')$weight)\n",
    "pearson.test(subset(babyboom, gender == 'girl')$weight)\n",
    "\n"
   ]
  },
  {
   "cell_type": "markdown",
   "metadata": {},
   "source": [
    "## Check the hipothesis of the Mean for boys and girls \n",
    "\n",
    "Mean (suppose that distr of weight is normal)\n",
    "\n",
    "    1. to check mean first check variances are equal or not (значимо ли дисперсии отличаются)\n",
    "        - F-test\n",
    "        - fligner test (2-sides)\n",
    "    2. to check the equality of means use t-test"
   ]
  },
  {
   "cell_type": "code",
   "execution_count": 9,
   "metadata": {
    "vscode": {
     "languageId": "r"
    }
   },
   "outputs": [
    {
     "data": {
      "text/plain": [
       "\n",
       "\tF test to compare two variances\n",
       "\n",
       "data:  subset(babyboom, gender == \"boy\")$weight and subset(babyboom, gender == \"girl\")$weight\n",
       "F = 0.45933, num df = 25, denom df = 17, p-value = 0.07526\n",
       "alternative hypothesis: true ratio of variances is not equal to 1\n",
       "95 percent confidence interval:\n",
       " 0.1802395 1.0839460\n",
       "sample estimates:\n",
       "ratio of variances \n",
       "         0.4593257 \n"
      ]
     },
     "metadata": {},
     "output_type": "display_data"
    }
   ],
   "source": [
    "# we have to check the varians are equal or not first\n",
    "\n",
    "var.test(x = subset(babyboom, gender == \"boy\")$weight, y = subset(babyboom, gender == \"girl\")$weight, ratio=1, alternative = \"two.sided\")\n",
    "\n",
    "# дисперсии весов мальчиков и девочек не отличаются статистически значимо по F тесту"
   ]
  },
  {
   "cell_type": "code",
   "execution_count": 10,
   "metadata": {
    "vscode": {
     "languageId": "r"
    }
   },
   "outputs": [
    {
     "name": "stdout",
     "output_type": "stream",
     "text": [
      "\n",
      "\tFligner-Killeen test of homogeneity of variances\n",
      "\n",
      "data:  weight by gender\n",
      "Fligner-Killeen:med chi-squared = 1.0872, df = 1, p-value = 0.2971\n",
      "\n"
     ]
    }
   ],
   "source": [
    "# Тест Флигнера-Килена для проверки равенства дисперсий\n",
    "fligner_test_result <- fligner.test(weight ~ gender, data = babyboom)\n",
    "print(fligner_test_result)\n"
   ]
  },
  {
   "cell_type": "code",
   "execution_count": 11,
   "metadata": {
    "vscode": {
     "languageId": "r"
    }
   },
   "outputs": [
    {
     "name": "stdout",
     "output_type": "stream",
     "text": [
      "\n",
      "\tTwo Sample t-test\n",
      "\n",
      "data:  subset(babyboom, gender == \"boy\")$weight and subset(babyboom, gender == \"girl\")$weight\n",
      "t = 1.5229, df = 42, p-value = 0.1353\n",
      "alternative hypothesis: true difference in means is not equal to 0\n",
      "95 percent confidence interval:\n",
      " -78.97791 564.70440\n",
      "sample estimates:\n",
      "mean of x mean of y \n",
      " 3375.308  3132.444 \n",
      "\n"
     ]
    }
   ],
   "source": [
    "# Выполнение t-теста, предполагая равенство дисперсий\n",
    "student_test <- t.test(\n",
    "  x = subset(babyboom, gender == \"boy\")$weight,\n",
    "  y = subset(babyboom, gender == \"girl\")$weight,\n",
    "  alternative = \"two.sided\",  # Двусторонний тест\n",
    "  mu = 0,                      # Проверяем, равны ли средние\n",
    "  paired = FALSE,              # Не парный тест\n",
    "  var.equal = TRUE,           # Предполагаем равенство дисперсий\n",
    "  conf.level = 0.95           # 95% доверительный интервал\n",
    ")\n",
    "\n",
    "print(student_test)\n",
    "\n",
    "# According to the results of the test, the means of the samples do not differ significantly"
   ]
  },
  {
   "cell_type": "markdown",
   "metadata": {},
   "source": [
    "According to the results of the test, the means of the samples do not differ significantly."
   ]
  },
  {
   "cell_type": "markdown",
   "metadata": {},
   "source": [
    "### Check whether median are equal\n",
    "    - Mann-Whitney U test\n",
    "    - Moods median ...."
   ]
  },
  {
   "cell_type": "code",
   "execution_count": 12,
   "metadata": {
    "vscode": {
     "languageId": "r"
    }
   },
   "outputs": [
    {
     "name": "stderr",
     "output_type": "stream",
     "text": [
      "Warning message in wilcox.test.default(x = subset(babyboom, gender == \"boy\")$weight, :\n",
      "“cannot compute exact p-value with ties”\n"
     ]
    },
    {
     "data": {
      "text/plain": [
       "\n",
       "\tWilcoxon rank sum test with continuity correction\n",
       "\n",
       "data:  subset(babyboom, gender == \"boy\")$weight and subset(babyboom, gender == \"girl\")$weight\n",
       "W = 273.5, p-value = 0.3519\n",
       "alternative hypothesis: true location shift is not equal to 0\n"
      ]
     },
     "metadata": {},
     "output_type": "display_data"
    }
   ],
   "source": [
    "# Mann-Whitney U test\n",
    "wilcox.test(\n",
    "    x = subset(babyboom, gender == \"boy\")$weight,\n",
    "    y = subset(babyboom, gender == \"girl\")$weight,\n",
    "    alternative = \"two.sided\", \n",
    "    paired = FALSE, \n",
    "    exact = NULL)\n"
   ]
  },
  {
   "cell_type": "markdown",
   "metadata": {},
   "source": [
    "## Test the hypothesis if the variance of the weight of girls is the same as the weight of boys\n",
    "\n",
    "    For comparing variances for not normal distributed samples we use Levene's test\n"
   ]
  },
  {
   "cell_type": "code",
   "execution_count": 13,
   "metadata": {
    "vscode": {
     "languageId": "r"
    }
   },
   "outputs": [
    {
     "name": "stderr",
     "output_type": "stream",
     "text": [
      "Warning message:\n",
      "“package ‘car’ was built under R version 4.3.3”\n",
      "Loading required package: carData\n",
      "\n",
      "Warning message:\n",
      "“package ‘carData’ was built under R version 4.3.3”\n"
     ]
    },
    {
     "name": "stdout",
     "output_type": "stream",
     "text": [
      "Levene's Test for Homogeneity of Variance (center = median)\n",
      "      Df F value Pr(>F)\n",
      "group  1  1.8154 0.1851\n",
      "      42               \n"
     ]
    }
   ],
   "source": [
    "library(car)\n",
    "library(carData)\n",
    "\n",
    "# Создаем датафрейм для теста\n",
    "babyboom_data <- data.frame(\n",
    "    weight = babyboom$weight,\n",
    "    gender = babyboom$gender\n",
    ")\n",
    "\n",
    "# Выполняем Levene's test\n",
    "levene_result <- leveneTest(weight ~ gender, data = babyboom_data)\n",
    "print(levene_result)\n",
    "\n",
    "\n",
    "# в выводе:\n",
    "# Df (Degrees of Freedom)\n",
    "# F value\n",
    "# Pr(>F) p-value = 0.1851 => дисперсии не отличаются статистически значимо"
   ]
  },
  {
   "cell_type": "markdown",
   "metadata": {},
   "source": [
    "## Test the hypothesis if the time between birthtime is distributed by exponential distribution\n",
    "\n",
    "    1. Kolmogorov-Smirnov test\n",
    "    2. Cramer–von Mises test\n",
    "    3."
   ]
  },
  {
   "cell_type": "markdown",
   "metadata": {},
   "source": [
    "### 1. Kolmogorov-Smirnov test"
   ]
  },
  {
   "cell_type": "code",
   "execution_count": 14,
   "metadata": {
    "vscode": {
     "languageId": "r"
    }
   },
   "outputs": [
    {
     "name": "stdout",
     "output_type": "stream",
     "text": [
      "\n",
      "\tExact one-sample Kolmogorov-Smirnov test\n",
      "\n",
      "data:  babyboom$birth\n",
      "D = 0.99326, p-value < 2.2e-16\n",
      "alternative hypothesis: two-sided\n",
      "\n"
     ]
    }
   ],
   "source": [
    "# колмогоров смирнов тест (чувствителен к размеру)\n",
    "ks_test = ks.test(\n",
    "    x = babyboom$birth, \n",
    "    \"pexp\",\n",
    "    alternative = \"two.sided\", \n",
    "    exact = TRUE)\n",
    "print(ks_test)\n"
   ]
  },
  {
   "cell_type": "markdown",
   "metadata": {
    "vscode": {
     "languageId": "r"
    }
   },
   "source": [
    "### 2. Cramer–von Mises test"
   ]
  },
  {
   "cell_type": "code",
   "execution_count": 15,
   "metadata": {
    "vscode": {
     "languageId": "r"
    }
   },
   "outputs": [
    {
     "name": "stderr",
     "output_type": "stream",
     "text": [
      "\n",
      "Attaching package: ‘goftest’\n",
      "\n",
      "\n",
      "The following objects are masked from ‘package:nortest’:\n",
      "\n",
      "    ad.test, cvm.test\n",
      "\n",
      "\n"
     ]
    },
    {
     "name": "stdout",
     "output_type": "stream",
     "text": [
      "\n",
      "\tCramer-von Mises test of goodness-of-fit\n",
      "\tNull hypothesis: exponential distribution\n",
      "\twith parameter rate = 0.000771604938271605\n",
      "\tParameters assumed to be fixed\n",
      "\n",
      "data:  babyboom$birth\n",
      "omega2 = 0.74311, p-value = 0.009663\n",
      "\n"
     ]
    }
   ],
   "source": [
    "library(goftest)\n",
    "\n",
    "babyboom$birth <- as.numeric(babyboom$birth)\n",
    "\n",
    "# Выполнение теста Крамера-Вона-Мизеса\n",
    "cvm_test_result <- cvm.test(babyboom$birth, \"pexp\", rate = 1 / mean(babyboom$birth, na.rm = TRUE))  # Измените rate на нужное значение\n",
    "\n",
    "# Вывод результатов теста\n",
    "print(cvm_test_result)\n"
   ]
  },
  {
   "cell_type": "markdown",
   "metadata": {},
   "source": [
    "## Test the hypothesis if the births per hour for each hour is distributed by Poisson distribution \n",
    "(Протестировать гипотезу о том, что количество родов в час для каждого часа распределено по закону Пуассона.)"
   ]
  },
  {
   "cell_type": "code",
   "execution_count": 25,
   "metadata": {
    "vscode": {
     "languageId": "r"
    }
   },
   "outputs": [
    {
     "name": "stdout",
     "output_type": "stream",
     "text": [
      " [1]    5  104  118  155  257  405  407  422  431  708  735  812  814  909 1035\n",
      "[16] 1049 1053 1133 1209 1256 1305 1406 1407 1433 1446 1514 1631 1657 1742 1807\n",
      "[31] 1825 1854 1909 1947 1949 1951 2010 2037 2051 2104 2123 2217 2327 2355\n",
      " [1]    5   64   78  115  177  245  247  262  271  428  455  492  494  549  635\n",
      "[16]  649  653  693  729  776  785  846  847  873  886  914  991 1017 1062 1087\n",
      "[31] 1105 1134 1149 1187 1189 1191 1210 1237 1251 1264 1283 1337 1407 1435\n"
     ]
    }
   ],
   "source": [
    "print(babyboom$birth)\n",
    "print(babyboom$minutes)\n"
   ]
  },
  {
   "cell_type": "markdown",
   "metadata": {},
   "source": [
    "birth это время в формате int. час:минуты (xx:xx) тогда нам нужны только часы. \n",
    "\n",
    "тогда лучше взять переменную minutes. это переменная количества минут после полуночи."
   ]
  },
  {
   "cell_type": "code",
   "execution_count": 31,
   "metadata": {
    "vscode": {
     "languageId": "r"
    }
   },
   "outputs": [
    {
     "name": "stdout",
     "output_type": "stream",
     "text": [
      "$breaks\n",
      " [1]    0   60  120  180  240  300  360  420  480  540  600  660  720  780  840\n",
      "[16]  900  960 1020 1080 1140 1200 1260 1320 1380 1440\n",
      "\n",
      "$counts\n",
      " [1] 1 3 1 0 4 0 0 2 2 1 3 1 2 1 4 1 2 1 3 4 3 2 1 2\n",
      "\n",
      "$density\n",
      " [1] 0.0003787879 0.0011363636 0.0003787879 0.0000000000 0.0015151515\n",
      " [6] 0.0000000000 0.0000000000 0.0007575758 0.0007575758 0.0003787879\n",
      "[11] 0.0011363636 0.0003787879 0.0007575758 0.0003787879 0.0015151515\n",
      "[16] 0.0003787879 0.0007575758 0.0003787879 0.0011363636 0.0015151515\n",
      "[21] 0.0011363636 0.0007575758 0.0003787879 0.0007575758\n",
      "\n",
      "$mids\n",
      " [1]   30   90  150  210  270  330  390  450  510  570  630  690  750  810  870\n",
      "[16]  930  990 1050 1110 1170 1230 1290 1350 1410\n",
      "\n",
      "$xname\n",
      "[1] \"babyboom$minutes\"\n",
      "\n",
      "$equidist\n",
      "[1] TRUE\n",
      "\n",
      "attr(,\"class\")\n",
      "[1] \"histogram\"\n"
     ]
    }
   ],
   "source": [
    "frequency_data = hist(babyboom$minutes, breaks = seq(0, 1440, by=60), plot = FALSE)\n",
    "print(frequency_data)"
   ]
  },
  {
   "cell_type": "code",
   "execution_count": 34,
   "metadata": {
    "vscode": {
     "languageId": "r"
    }
   },
   "outputs": [
    {
     "data": {
      "text/html": [
       "44"
      ],
      "text/latex": [
       "44"
      ],
      "text/markdown": [
       "44"
      ],
      "text/plain": [
       "[1] 44"
      ]
     },
     "metadata": {},
     "output_type": "display_data"
    }
   ],
   "source": [
    "sum(frequency_data$counts) "
   ]
  },
  {
   "cell_type": "code",
   "execution_count": 36,
   "metadata": {
    "vscode": {
     "languageId": "r"
    }
   },
   "outputs": [
    {
     "name": "stderr",
     "output_type": "stream",
     "text": [
      "Warning message in summary.goodfit(fit):\n",
      "“Chi-squared approximation may be incorrect”\n"
     ]
    },
    {
     "name": "stdout",
     "output_type": "stream",
     "text": [
      "\n",
      "\t Goodness-of-fit test for poisson distribution\n",
      "\n",
      "              X^2 df P(> X^2)\n",
      "Pearson 0.3368567  3 0.952954\n"
     ]
    }
   ],
   "source": [
    "library(vcd)\n",
    "\n",
    "fit = goodfit(frequency_data$counts, type = \"poisson\", method = \"MinChisq\")\n",
    "summary(fit)"
   ]
  },
  {
   "cell_type": "markdown",
   "metadata": {},
   "source": [
    "# Euroweight\n",
    "------------------------------------------------------------------\n",
    "VARIABLE DESCRIPTIONS:\n",
    "\n",
    "Columns:\n",
    "- 1 - 8  ID   this is the case number\n",
    "- 9 - 16 weight weight of the euro coin in grams\n",
    "- 17 batch number of the package\n",
    "------------------------------------------------------------------\n",
    "\n",
    "\n",
    "2. For dataset “Euroweight”:\n",
    "   - Test the weight of coins for normality (all coins and coins in packages).\n",
    "   - Test the hypotheses that the mean of the weight of coins is the same in different packages.\n",
    "\n",
    " "
   ]
  },
  {
   "cell_type": "code",
   "execution_count": 37,
   "metadata": {
    "vscode": {
     "languageId": "r"
    }
   },
   "outputs": [
    {
     "data": {
      "text/html": [
       "<table class=\"dataframe\">\n",
       "<caption>A data.frame: 3 × 3</caption>\n",
       "<thead>\n",
       "\t<tr><th></th><th scope=col>ID</th><th scope=col>weight</th><th scope=col>batch</th></tr>\n",
       "\t<tr><th></th><th scope=col>&lt;int&gt;</th><th scope=col>&lt;dbl&gt;</th><th scope=col>&lt;fct&gt;</th></tr>\n",
       "</thead>\n",
       "<tbody>\n",
       "\t<tr><th scope=row>1</th><td>1</td><td>7.512</td><td>1</td></tr>\n",
       "\t<tr><th scope=row>2</th><td>2</td><td>7.502</td><td>1</td></tr>\n",
       "\t<tr><th scope=row>3</th><td>3</td><td>7.461</td><td>1</td></tr>\n",
       "</tbody>\n",
       "</table>\n"
      ],
      "text/latex": [
       "A data.frame: 3 × 3\n",
       "\\begin{tabular}{r|lll}\n",
       "  & ID & weight & batch\\\\\n",
       "  & <int> & <dbl> & <fct>\\\\\n",
       "\\hline\n",
       "\t1 & 1 & 7.512 & 1\\\\\n",
       "\t2 & 2 & 7.502 & 1\\\\\n",
       "\t3 & 3 & 7.461 & 1\\\\\n",
       "\\end{tabular}\n"
      ],
      "text/markdown": [
       "\n",
       "A data.frame: 3 × 3\n",
       "\n",
       "| <!--/--> | ID &lt;int&gt; | weight &lt;dbl&gt; | batch &lt;fct&gt; |\n",
       "|---|---|---|---|\n",
       "| 1 | 1 | 7.512 | 1 |\n",
       "| 2 | 2 | 7.502 | 1 |\n",
       "| 3 | 3 | 7.461 | 1 |\n",
       "\n"
      ],
      "text/plain": [
       "  ID weight batch\n",
       "1 1  7.512  1    \n",
       "2 2  7.502  1    \n",
       "3 3  7.461  1    "
      ]
     },
     "metadata": {},
     "output_type": "display_data"
    },
    {
     "data": {
      "text/html": [
       "<table class=\"dataframe\">\n",
       "<caption>A data.frame: 2 × 3</caption>\n",
       "<thead>\n",
       "\t<tr><th></th><th scope=col>ID</th><th scope=col>weight</th><th scope=col>batch</th></tr>\n",
       "\t<tr><th></th><th scope=col>&lt;int&gt;</th><th scope=col>&lt;dbl&gt;</th><th scope=col>&lt;fct&gt;</th></tr>\n",
       "</thead>\n",
       "<tbody>\n",
       "\t<tr><th scope=row>1999</th><td>1999</td><td>7.547</td><td>8</td></tr>\n",
       "\t<tr><th scope=row>2000</th><td>2000</td><td>7.494</td><td>8</td></tr>\n",
       "</tbody>\n",
       "</table>\n"
      ],
      "text/latex": [
       "A data.frame: 2 × 3\n",
       "\\begin{tabular}{r|lll}\n",
       "  & ID & weight & batch\\\\\n",
       "  & <int> & <dbl> & <fct>\\\\\n",
       "\\hline\n",
       "\t1999 & 1999 & 7.547 & 8\\\\\n",
       "\t2000 & 2000 & 7.494 & 8\\\\\n",
       "\\end{tabular}\n"
      ],
      "text/markdown": [
       "\n",
       "A data.frame: 2 × 3\n",
       "\n",
       "| <!--/--> | ID &lt;int&gt; | weight &lt;dbl&gt; | batch &lt;fct&gt; |\n",
       "|---|---|---|---|\n",
       "| 1999 | 1999 | 7.547 | 8 |\n",
       "| 2000 | 2000 | 7.494 | 8 |\n",
       "\n"
      ],
      "text/plain": [
       "     ID   weight batch\n",
       "1999 1999 7.547  8    \n",
       "2000 2000 7.494  8    "
      ]
     },
     "metadata": {},
     "output_type": "display_data"
    }
   ],
   "source": [
    "file_path <- \"../data/euroweight.dat.txt\"\n",
    "euroweight = read.table(file_path,  sep = \"\", fill = TRUE )\n",
    "\n",
    "# fill = True -- na в пустые колонки\n",
    "\n",
    "# Задание названий столбцов\n",
    "colnames(euroweight) <- c(\"ID\", \"weight\", \"batch\")\n",
    "euroweight$batch = factor(euroweight$batch)\n",
    "\n",
    "\n",
    "\n",
    "head(euroweight, 3)\n",
    "tail(euroweight, 2)"
   ]
  },
  {
   "cell_type": "markdown",
   "metadata": {},
   "source": [
    "## Test the weight of coins for normality (all coins and coins in packages).\n",
    "    1. Histogram\n",
    "    2. Shapiro test\n",
    "    3. Kolmogorov - Smirnov test"
   ]
  },
  {
   "cell_type": "markdown",
   "metadata": {},
   "source": [
    "### 1. Histogram"
   ]
  },
  {
   "cell_type": "code",
   "execution_count": 98,
   "metadata": {
    "vscode": {
     "languageId": "r"
    }
   },
   "outputs": [
    {
     "name": "stderr",
     "output_type": "stream",
     "text": [
      "\u001b[1m\u001b[22m`stat_bin()` using `bins = 30`. Pick better value with `binwidth`.\n",
      "\u001b[1m\u001b[22m`stat_bin()` using `bins = 30`. Pick better value with `binwidth`.\n"
     ]
    },
    {
     "data": {
      "image/png": "[encoded data removed]",
      "text/plain": [
       "plot without title"
      ]
     },
     "metadata": {
      "image/png": {
       "height": 420,
       "width": 420
      }
     },
     "output_type": "display_data"
    }
   ],
   "source": [
    "library(ggplot2)\n",
    "\n",
    "# Создаем гистограмму с количеством минут по гендеру\n",
    "ggplot(euroweight, aes(x = weight, fill = batch)) +\n",
    "    geom_histogram(aes(y = after_stat(count)), position = \"identity\", alpha = 0.5) +  # Гистограмма по гендеру\n",
    "    geom_histogram(aes(y = after_stat(count)), color = \"black\", linewidth = 0.3, \n",
    "                   fill = NA,data = euroweight) +  # Общая гистограмма\n",
    "    labs(title = \"Histogram of weight distribution\",\n",
    "         x = \"Weight of coin\",\n",
    "         y = \"Amount\") +\n",
    "    theme_minimal()\n"
   ]
  },
  {
   "cell_type": "markdown",
   "metadata": {},
   "source": [
    "### 2. Shapiro test"
   ]
  },
  {
   "cell_type": "code",
   "execution_count": 43,
   "metadata": {
    "vscode": {
     "languageId": "r"
    }
   },
   "outputs": [
    {
     "data": {
      "text/plain": [
       "\n",
       "\tShapiro-Wilk normality test\n",
       "\n",
       "data:  euroweight$weight\n",
       "W = 0.97547, p-value < 2.2e-16\n"
      ]
     },
     "metadata": {},
     "output_type": "display_data"
    }
   ],
   "source": [
    "shapiro.test(euroweight$weight)"
   ]
  },
  {
   "cell_type": "code",
   "execution_count": 113,
   "metadata": {
    "vscode": {
     "languageId": "r"
    }
   },
   "outputs": [
    {
     "name": "stdout",
     "output_type": "stream",
     "text": [
      "\u001b[90m# A tibble: 8 × 4\u001b[39m\n",
      "  batch shapiro_test  p_value statistic\n",
      "  \u001b[3m\u001b[90m<fct>\u001b[39m\u001b[23m \u001b[3m\u001b[90m<list>\u001b[39m\u001b[23m          \u001b[3m\u001b[90m<dbl>\u001b[39m\u001b[23m     \u001b[3m\u001b[90m<dbl>\u001b[39m\u001b[23m\n",
      "\u001b[90m1\u001b[39m 1     \u001b[90m<htest>\u001b[39m      6.83\u001b[90me\u001b[39m\u001b[31m- 1\u001b[39m     0.996\n",
      "\u001b[90m2\u001b[39m 2     \u001b[90m<htest>\u001b[39m      1.22\u001b[90me\u001b[39m\u001b[31m- 1\u001b[39m     0.991\n",
      "\u001b[90m3\u001b[39m 3     \u001b[90m<htest>\u001b[39m      4.09\u001b[90me\u001b[39m\u001b[31m-14\u001b[39m     0.863\n",
      "\u001b[90m4\u001b[39m 4     \u001b[90m<htest>\u001b[39m      6.83\u001b[90me\u001b[39m\u001b[31m- 1\u001b[39m     0.996\n",
      "\u001b[90m5\u001b[39m 5     \u001b[90m<htest>\u001b[39m      1.29\u001b[90me\u001b[39m\u001b[31m- 1\u001b[39m     0.991\n",
      "\u001b[90m6\u001b[39m 6     \u001b[90m<htest>\u001b[39m      6.76\u001b[90me\u001b[39m\u001b[31m- 3\u001b[39m     0.984\n",
      "\u001b[90m7\u001b[39m 7     \u001b[90m<htest>\u001b[39m      1.12\u001b[90me\u001b[39m\u001b[31m- 1\u001b[39m     0.991\n",
      "\u001b[90m8\u001b[39m 8     \u001b[90m<htest>\u001b[39m      6.83\u001b[90me\u001b[39m\u001b[31m- 9\u001b[39m     0.937\n"
     ]
    }
   ],
   "source": [
    "# Используем dplyr и purrr для группового тестирования\n",
    "library(dplyr)\n",
    "library(purrr)\n",
    "\n",
    "results <- euroweight %>% \n",
    "group_by(batch) %>%  # Группируем по фактору\n",
    "summarise(\n",
    "    shapiro_test = list(shapiro.test(weight)),  # Применяем тест к каждой группе (список списков)\n",
    "    p_value = sapply(shapiro_test, function(x) x$p.value),# Извлекаем p-value из каждого результата\n",
    "    statistic = map_dbl(shapiro_test, ~ .x$statistic)\n",
    ")\n",
    "\n",
    "\n",
    "print(results)"
   ]
  },
  {
   "cell_type": "markdown",
   "metadata": {},
   "source": [
    "### 3. Kolmogorov - Smirnov test"
   ]
  },
  {
   "cell_type": "code",
   "execution_count": null,
   "metadata": {
    "vscode": {
     "languageId": "r"
    }
   },
   "outputs": [
    {
     "data": {
      "text/plain": [
       "\n",
       "\tAsymptotic one-sample Kolmogorov-Smirnov test\n",
       "\n",
       "data:  jitter(euroweight$weight)\n",
       "D = 0.021153, p-value = 0.3325\n",
       "alternative hypothesis: two-sided\n"
      ]
     },
     "metadata": {},
     "output_type": "display_data"
    }
   ],
   "source": [
    "ks.test(jitter(euroweight$weight), 'pnorm', mean(euroweight$weight), sd(euroweight$weight) )\n",
    "\n",
    "\n"
   ]
  },
  {
   "cell_type": "markdown",
   "metadata": {},
   "source": [
    "## Test the hypotheses that the mean of the weight of coins is the same in different packages.\n"
   ]
  },
  {
   "cell_type": "code",
   "execution_count": 116,
   "metadata": {
    "vscode": {
     "languageId": "r"
    }
   },
   "outputs": [
    {
     "data": {
      "text/plain": [
       "\n",
       "\tPairwise comparisons using t tests with pooled SD \n",
       "\n",
       "data:  euroweight$weight and euroweight$batch \n",
       "\n",
       "  1       2       3       4       5       6       7      \n",
       "2 1.00000 -       -       -       -       -       -      \n",
       "3 0.01455 0.00014 -       -       -       -       -      \n",
       "4 0.00285 0.11938 3.2e-11 -       -       -       -      \n",
       "5 0.00203 0.10225 1.7e-11 1.00000 -       -       -      \n",
       "6 1.00000 0.11938 0.47138 3.9e-06 2.4e-06 -       -      \n",
       "7 1.00000 1.00000 0.00017 0.11019 0.09317 0.11942 -      \n",
       "8 1.00000 0.32960 0.18828 4.6e-05 3.0e-05 1.00000 0.33590\n",
       "\n",
       "P value adjustment method: holm "
      ]
     },
     "metadata": {},
     "output_type": "display_data"
    }
   ],
   "source": [
    "\n",
    "pairwise.t.test(\n",
    "    euroweight$weight, # зависимая перменная\n",
    "    euroweight$batch, # группирующая переменная\n",
    "    p.adjust.method = \"holm\")\n"
   ]
  },
  {
   "cell_type": "markdown",
   "metadata": {},
   "source": [
    "# Iris\n",
    "---------------------------------------------------------------\n",
    "Attribute Information:\n",
    "   1. sepal length in cm\n",
    "   2. sepal (чашелистик) width in cm\n",
    "   3. petal (лепесток) length in cm\n",
    "   4. petal width in cm\n",
    "   5. class: \n",
    "      -- Iris Setosa\n",
    "      -- Iris Versicolour\n",
    "      -- Iris Virginica\n",
    "--------------------------------------------------------------\n",
    "3. For dataset “iris.txt” (read description in file “iris_description.txt’):\n",
    "   - Test the normality of length of flowers grouping them by the type of iris.\n",
    "   - Test the hypotheses about similarity of distributions of characteristics of flowers of different types.\n",
    "   - Test the hypotheses if the means and variances of the characteristics of flowers of different types are equal.\n"
   ]
  },
  {
   "cell_type": "code",
   "execution_count": 123,
   "metadata": {
    "vscode": {
     "languageId": "r"
    }
   },
   "outputs": [
    {
     "data": {
      "text/html": [
       "<table class=\"dataframe\">\n",
       "<caption>A data.frame: 3 × 5</caption>\n",
       "<thead>\n",
       "\t<tr><th></th><th scope=col>sepal_length</th><th scope=col>sepal_width</th><th scope=col>petal_length</th><th scope=col>petal_width</th><th scope=col>class</th></tr>\n",
       "\t<tr><th></th><th scope=col>&lt;dbl&gt;</th><th scope=col>&lt;dbl&gt;</th><th scope=col>&lt;dbl&gt;</th><th scope=col>&lt;dbl&gt;</th><th scope=col>&lt;fct&gt;</th></tr>\n",
       "</thead>\n",
       "<tbody>\n",
       "\t<tr><th scope=row>1</th><td>5.1</td><td>3.5</td><td>1.4</td><td>0.2</td><td>Iris-setosa</td></tr>\n",
       "\t<tr><th scope=row>2</th><td>4.9</td><td>3.0</td><td>1.4</td><td>0.2</td><td>Iris-setosa</td></tr>\n",
       "\t<tr><th scope=row>3</th><td>4.7</td><td>3.2</td><td>1.3</td><td>0.2</td><td>Iris-setosa</td></tr>\n",
       "</tbody>\n",
       "</table>\n"
      ],
      "text/latex": [
       "A data.frame: 3 × 5\n",
       "\\begin{tabular}{r|lllll}\n",
       "  & sepal\\_length & sepal\\_width & petal\\_length & petal\\_width & class\\\\\n",
       "  & <dbl> & <dbl> & <dbl> & <dbl> & <fct>\\\\\n",
       "\\hline\n",
       "\t1 & 5.1 & 3.5 & 1.4 & 0.2 & Iris-setosa\\\\\n",
       "\t2 & 4.9 & 3.0 & 1.4 & 0.2 & Iris-setosa\\\\\n",
       "\t3 & 4.7 & 3.2 & 1.3 & 0.2 & Iris-setosa\\\\\n",
       "\\end{tabular}\n"
      ],
      "text/markdown": [
       "\n",
       "A data.frame: 3 × 5\n",
       "\n",
       "| <!--/--> | sepal_length &lt;dbl&gt; | sepal_width &lt;dbl&gt; | petal_length &lt;dbl&gt; | petal_width &lt;dbl&gt; | class &lt;fct&gt; |\n",
       "|---|---|---|---|---|---|\n",
       "| 1 | 5.1 | 3.5 | 1.4 | 0.2 | Iris-setosa |\n",
       "| 2 | 4.9 | 3.0 | 1.4 | 0.2 | Iris-setosa |\n",
       "| 3 | 4.7 | 3.2 | 1.3 | 0.2 | Iris-setosa |\n",
       "\n"
      ],
      "text/plain": [
       "  sepal_length sepal_width petal_length petal_width class      \n",
       "1 5.1          3.5         1.4          0.2         Iris-setosa\n",
       "2 4.9          3.0         1.4          0.2         Iris-setosa\n",
       "3 4.7          3.2         1.3          0.2         Iris-setosa"
      ]
     },
     "metadata": {},
     "output_type": "display_data"
    },
    {
     "data": {
      "text/html": [
       "<table class=\"dataframe\">\n",
       "<caption>A data.frame: 2 × 5</caption>\n",
       "<thead>\n",
       "\t<tr><th></th><th scope=col>sepal_length</th><th scope=col>sepal_width</th><th scope=col>petal_length</th><th scope=col>petal_width</th><th scope=col>class</th></tr>\n",
       "\t<tr><th></th><th scope=col>&lt;dbl&gt;</th><th scope=col>&lt;dbl&gt;</th><th scope=col>&lt;dbl&gt;</th><th scope=col>&lt;dbl&gt;</th><th scope=col>&lt;fct&gt;</th></tr>\n",
       "</thead>\n",
       "<tbody>\n",
       "\t<tr><th scope=row>149</th><td>6.2</td><td>3.4</td><td>5.4</td><td>2.3</td><td>Iris-virginica</td></tr>\n",
       "\t<tr><th scope=row>150</th><td>5.9</td><td>3.0</td><td>5.1</td><td>1.8</td><td>Iris-virginica</td></tr>\n",
       "</tbody>\n",
       "</table>\n"
      ],
      "text/latex": [
       "A data.frame: 2 × 5\n",
       "\\begin{tabular}{r|lllll}\n",
       "  & sepal\\_length & sepal\\_width & petal\\_length & petal\\_width & class\\\\\n",
       "  & <dbl> & <dbl> & <dbl> & <dbl> & <fct>\\\\\n",
       "\\hline\n",
       "\t149 & 6.2 & 3.4 & 5.4 & 2.3 & Iris-virginica\\\\\n",
       "\t150 & 5.9 & 3.0 & 5.1 & 1.8 & Iris-virginica\\\\\n",
       "\\end{tabular}\n"
      ],
      "text/markdown": [
       "\n",
       "A data.frame: 2 × 5\n",
       "\n",
       "| <!--/--> | sepal_length &lt;dbl&gt; | sepal_width &lt;dbl&gt; | petal_length &lt;dbl&gt; | petal_width &lt;dbl&gt; | class &lt;fct&gt; |\n",
       "|---|---|---|---|---|---|\n",
       "| 149 | 6.2 | 3.4 | 5.4 | 2.3 | Iris-virginica |\n",
       "| 150 | 5.9 | 3.0 | 5.1 | 1.8 | Iris-virginica |\n",
       "\n"
      ],
      "text/plain": [
       "    sepal_length sepal_width petal_length petal_width class         \n",
       "149 6.2          3.4         5.4          2.3         Iris-virginica\n",
       "150 5.9          3.0         5.1          1.8         Iris-virginica"
      ]
     },
     "metadata": {},
     "output_type": "display_data"
    }
   ],
   "source": [
    "file_path <- \"../data/iris.txt\"\n",
    "iris = read.table(file_path,  sep = \",\", fill = TRUE )\n",
    "\n",
    "# fill = True -- na в пустые колонки\n",
    "\n",
    "# Задание названий столбцов\n",
    "colnames(iris) <- c(\"sepal_length\", \"sepal_width\", \"petal_length\", \"petal_width\", \"class\")\n",
    "iris$class = factor(iris$class)\n",
    "\n",
    "\n",
    "\n",
    "head(iris, 3)\n",
    "tail(iris, 2)"
   ]
  },
  {
   "cell_type": "markdown",
   "metadata": {},
   "source": [
    "## Test the normality of length of flowers grouping them by the type of iris.\n"
   ]
  },
  {
   "cell_type": "code",
   "execution_count": 124,
   "metadata": {
    "vscode": {
     "languageId": "r"
    }
   },
   "outputs": [
    {
     "name": "stdout",
     "output_type": "stream",
     "text": [
      "\u001b[90m# A tibble: 3 × 4\u001b[39m\n",
      "  class           shapiro_test p_value statistic\n",
      "  \u001b[3m\u001b[90m<fct>\u001b[39m\u001b[23m           \u001b[3m\u001b[90m<list>\u001b[39m\u001b[23m         \u001b[3m\u001b[90m<dbl>\u001b[39m\u001b[23m     \u001b[3m\u001b[90m<dbl>\u001b[39m\u001b[23m\n",
      "\u001b[90m1\u001b[39m Iris-setosa     \u001b[90m<htest>\u001b[39m        0.460     0.978\n",
      "\u001b[90m2\u001b[39m Iris-versicolor \u001b[90m<htest>\u001b[39m        0.465     0.978\n",
      "\u001b[90m3\u001b[39m Iris-virginica  \u001b[90m<htest>\u001b[39m        0.258     0.971\n"
     ]
    }
   ],
   "source": [
    "# Используем dplyr и purrr для группового тестирования\n",
    "library(dplyr)\n",
    "library(purrr)\n",
    "\n",
    "results <- iris %>% \n",
    "group_by(class) %>%  # Группируем по фактору\n",
    "summarise(\n",
    "    shapiro_test = list(shapiro.test(sepal_length)),  # Применяем тест к каждой группе (список списков)\n",
    "    p_value = sapply(shapiro_test, function(x) x$p.value),# Извлекаем p-value из каждого результата\n",
    "    statistic = map_dbl(shapiro_test, ~ .x$statistic)\n",
    ")\n",
    "\n",
    "\n",
    "print(results)"
   ]
  },
  {
   "cell_type": "markdown",
   "metadata": {},
   "source": [
    "## Test the hypotheses about similarity of distributions of characteristics of flowers of different types.\n"
   ]
  },
  {
   "cell_type": "code",
   "execution_count": 139,
   "metadata": {
    "vscode": {
     "languageId": "r"
    }
   },
   "outputs": [
    {
     "data": {
      "text/plain": [
       "\n",
       "\tPairwise comparisons using Wilcoxon rank sum test with continuity correction \n",
       "\n",
       "data:  iris$sepal_length and iris$class \n",
       "\n",
       "                Iris-setosa Iris-versicolor\n",
       "Iris-versicolor 1.7e-13     -              \n",
       "Iris-virginica  < 2e-16     5.9e-07        \n",
       "\n",
       "P value adjustment method: holm "
      ]
     },
     "metadata": {},
     "output_type": "display_data"
    },
    {
     "data": {
      "text/plain": [
       "\n",
       "\tPairwise comparisons using Wilcoxon rank sum test with continuity correction \n",
       "\n",
       "data:  iris$petal_length and iris$class \n",
       "\n",
       "                Iris-setosa Iris-versicolor\n",
       "Iris-versicolor <2e-16      -              \n",
       "Iris-virginica  <2e-16      <2e-16         \n",
       "\n",
       "P value adjustment method: holm "
      ]
     },
     "metadata": {},
     "output_type": "display_data"
    },
    {
     "data": {
      "text/plain": [
       "\n",
       "\tPairwise comparisons using Wilcoxon rank sum test with continuity correction \n",
       "\n",
       "data:  iris$sepal_width and iris$class \n",
       "\n",
       "                Iris-setosa Iris-versicolor\n",
       "Iris-versicolor 9.0e-13     -              \n",
       "Iris-virginica  2.4e-08     0.0046         \n",
       "\n",
       "P value adjustment method: holm "
      ]
     },
     "metadata": {},
     "output_type": "display_data"
    },
    {
     "data": {
      "text/plain": [
       "\n",
       "\tPairwise comparisons using Wilcoxon rank sum test with continuity correction \n",
       "\n",
       "data:  iris$petal_width and iris$class \n",
       "\n",
       "                Iris-setosa Iris-versicolor\n",
       "Iris-versicolor <2e-16      -              \n",
       "Iris-virginica  <2e-16      <2e-16         \n",
       "\n",
       "P value adjustment method: holm "
      ]
     },
     "metadata": {},
     "output_type": "display_data"
    }
   ],
   "source": [
    "pairwise.wilcox.test(\n",
    "    iris$sepal_length,\n",
    "    iris$class)\n",
    "\n",
    "pairwise.wilcox.test(\n",
    "    iris$petal_length,\n",
    "    iris$class)\n",
    "\n",
    "pairwise.wilcox.test(\n",
    "    iris$sepal_width,\n",
    "    iris$class)\n",
    "\n",
    "pairwise.wilcox.test(\n",
    "    iris$petal_width,\n",
    "    iris$class)"
   ]
  },
  {
   "cell_type": "markdown",
   "metadata": {},
   "source": [
    "## Test the hypotheses if the means and variances of the characteristics of flowers of different types are equal."
   ]
  },
  {
   "cell_type": "code",
   "execution_count": 151,
   "metadata": {
    "vscode": {
     "languageId": "r"
    }
   },
   "outputs": [
    {
     "data": {
      "text/plain": [
       "\n",
       "\tFligner-Killeen test of homogeneity of variances\n",
       "\n",
       "data:  iris$sepal_length by iris$class\n",
       "Fligner-Killeen:med chi-squared = 11.618, df = 2, p-value = 0.003\n"
      ]
     },
     "metadata": {},
     "output_type": "display_data"
    },
    {
     "data": {
      "text/plain": [
       "\n",
       "\tPairwise comparisons using t tests with pooled SD \n",
       "\n",
       "data:  iris$sepal_length and iris$class \n",
       "\n",
       "                Iris-setosa Iris-versicolor\n",
       "Iris-versicolor 1.8e-15     -              \n",
       "Iris-virginica  < 2e-16     2.8e-09        \n",
       "\n",
       "P value adjustment method: holm "
      ]
     },
     "metadata": {},
     "output_type": "display_data"
    }
   ],
   "source": [
    "fligner.test(iris$sepal_length ~ iris$class)\n",
    "\n",
    "pairwise.t.test(\n",
    "    iris$sepal_length, \n",
    "    iris$class,\n",
    "    var.equal = FALSE)\n"
   ]
  },
  {
   "cell_type": "code",
   "execution_count": 150,
   "metadata": {
    "vscode": {
     "languageId": "r"
    }
   },
   "outputs": [
    {
     "data": {
      "text/plain": [
       "\n",
       "\tFligner-Killeen test of homogeneity of variances\n",
       "\n",
       "data:  iris$sepal_width by iris$class\n",
       "Fligner-Killeen:med chi-squared = 1.0138, df = 2, p-value = 0.6023\n"
      ]
     },
     "metadata": {},
     "output_type": "display_data"
    },
    {
     "data": {
      "text/plain": [
       "\n",
       "\tPairwise comparisons using t tests with pooled SD \n",
       "\n",
       "data:  iris$sepal_width and iris$class \n",
       "\n",
       "                Iris-setosa Iris-versicolor\n",
       "Iris-versicolor < 2e-16     -              \n",
       "Iris-virginica  2.1e-09     0.0032         \n",
       "\n",
       "P value adjustment method: holm "
      ]
     },
     "metadata": {},
     "output_type": "display_data"
    }
   ],
   "source": [
    "fligner.test(iris$sepal_width ~ iris$class)\n",
    "\n",
    "pairwise.t.test(\n",
    "    iris$sepal_width, \n",
    "    iris$class,\n",
    "    var.equal = FALSE)\n"
   ]
  },
  {
   "cell_type": "code",
   "execution_count": 153,
   "metadata": {
    "vscode": {
     "languageId": "r"
    }
   },
   "outputs": [
    {
     "data": {
      "text/plain": [
       "\n",
       "\tFligner-Killeen test of homogeneity of variances\n",
       "\n",
       "data:  iris$petal_length by iris$class\n",
       "Fligner-Killeen:med chi-squared = 35.148, df = 2, p-value = 2.332e-08\n"
      ]
     },
     "metadata": {},
     "output_type": "display_data"
    },
    {
     "data": {
      "text/plain": [
       "\n",
       "\tPairwise comparisons using t tests with pooled SD \n",
       "\n",
       "data:  iris$petal_length and iris$class \n",
       "\n",
       "                Iris-setosa Iris-versicolor\n",
       "Iris-versicolor <2e-16      -              \n",
       "Iris-virginica  <2e-16      <2e-16         \n",
       "\n",
       "P value adjustment method: holm "
      ]
     },
     "metadata": {},
     "output_type": "display_data"
    }
   ],
   "source": [
    "fligner.test(iris$petal_length ~ iris$class)\n",
    "\n",
    "pairwise.t.test(\n",
    "    iris$petal_length, \n",
    "    iris$class,\n",
    "    var.equal = FALSE)\n"
   ]
  },
  {
   "cell_type": "code",
   "execution_count": 154,
   "metadata": {
    "vscode": {
     "languageId": "r"
    }
   },
   "outputs": [
    {
     "data": {
      "text/plain": [
       "\n",
       "\tFligner-Killeen test of homogeneity of variances\n",
       "\n",
       "data:  iris$petal_width by iris$class\n",
       "Fligner-Killeen:med chi-squared = 29.025, df = 2, p-value = 4.982e-07\n"
      ]
     },
     "metadata": {},
     "output_type": "display_data"
    },
    {
     "data": {
      "text/plain": [
       "\n",
       "\tPairwise comparisons using t tests with pooled SD \n",
       "\n",
       "data:  iris$petal_width and iris$class \n",
       "\n",
       "                Iris-setosa Iris-versicolor\n",
       "Iris-versicolor <2e-16      -              \n",
       "Iris-virginica  <2e-16      <2e-16         \n",
       "\n",
       "P value adjustment method: holm "
      ]
     },
     "metadata": {},
     "output_type": "display_data"
    }
   ],
   "source": [
    "fligner.test(iris$petal_width ~ iris$class)\n",
    "\n",
    "pairwise.t.test(\n",
    "    iris$petal_width, \n",
    "    iris$class,\n",
    "    var.equal = FALSE)\n"
   ]
  },
  {
   "cell_type": "markdown",
   "metadata": {},
   "source": [
    "# Height\n",
    "\n",
    "----------------------------------------\n",
    "\n",
    "VARIABLE DESCRIPTION:\n",
    "- HtFt\t- height of football players\n",
    "- HtBk   - heght of basketball players\n",
    "_____________________________________\n",
    "4. For dataset “height.xls”:\n",
    "   - Test the normality of heights of football and basketball players.\n",
    "   - Test the equity of means and variances of the heights of football and basketball players.\n",
    "   - Test if the distributions of the heights of football and basketball players are the same.\n",
    "\n"
   ]
  },
  {
   "cell_type": "code",
   "execution_count": 55,
   "metadata": {
    "vscode": {
     "languageId": "r"
    }
   },
   "outputs": [
    {
     "data": {
      "text/html": [
       "<table class=\"dataframe\">\n",
       "<caption>A tibble: 3 × 2</caption>\n",
       "<thead>\n",
       "\t<tr><th scope=col>HtFt</th><th scope=col>HtBk</th></tr>\n",
       "\t<tr><th scope=col>&lt;dbl&gt;</th><th scope=col>&lt;dbl&gt;</th></tr>\n",
       "</thead>\n",
       "<tbody>\n",
       "\t<tr><td>6.33</td><td>6.08</td></tr>\n",
       "\t<tr><td>6.50</td><td>6.58</td></tr>\n",
       "\t<tr><td>6.50</td><td>6.25</td></tr>\n",
       "</tbody>\n",
       "</table>\n"
      ],
      "text/latex": [
       "A tibble: 3 × 2\n",
       "\\begin{tabular}{ll}\n",
       " HtFt & HtBk\\\\\n",
       " <dbl> & <dbl>\\\\\n",
       "\\hline\n",
       "\t 6.33 & 6.08\\\\\n",
       "\t 6.50 & 6.58\\\\\n",
       "\t 6.50 & 6.25\\\\\n",
       "\\end{tabular}\n"
      ],
      "text/markdown": [
       "\n",
       "A tibble: 3 × 2\n",
       "\n",
       "| HtFt &lt;dbl&gt; | HtBk &lt;dbl&gt; |\n",
       "|---|---|\n",
       "| 6.33 | 6.08 |\n",
       "| 6.50 | 6.58 |\n",
       "| 6.50 | 6.25 |\n",
       "\n"
      ],
      "text/plain": [
       "  HtFt HtBk\n",
       "1 6.33 6.08\n",
       "2 6.50 6.58\n",
       "3 6.50 6.25"
      ]
     },
     "metadata": {},
     "output_type": "display_data"
    },
    {
     "data": {
      "text/html": [
       "<table class=\"dataframe\">\n",
       "<caption>A tibble: 2 × 2</caption>\n",
       "<thead>\n",
       "\t<tr><th scope=col>HtFt</th><th scope=col>HtBk</th></tr>\n",
       "\t<tr><th scope=col>&lt;dbl&gt;</th><th scope=col>&lt;dbl&gt;</th></tr>\n",
       "</thead>\n",
       "<tbody>\n",
       "\t<tr><td>6.50</td><td>NA</td></tr>\n",
       "\t<tr><td>5.83</td><td>NA</td></tr>\n",
       "</tbody>\n",
       "</table>\n"
      ],
      "text/latex": [
       "A tibble: 2 × 2\n",
       "\\begin{tabular}{ll}\n",
       " HtFt & HtBk\\\\\n",
       " <dbl> & <dbl>\\\\\n",
       "\\hline\n",
       "\t 6.50 & NA\\\\\n",
       "\t 5.83 & NA\\\\\n",
       "\\end{tabular}\n"
      ],
      "text/markdown": [
       "\n",
       "A tibble: 2 × 2\n",
       "\n",
       "| HtFt &lt;dbl&gt; | HtBk &lt;dbl&gt; |\n",
       "|---|---|\n",
       "| 6.50 | NA |\n",
       "| 5.83 | NA |\n",
       "\n"
      ],
      "text/plain": [
       "  HtFt HtBk\n",
       "1 6.50 NA  \n",
       "2 5.83 NA  "
      ]
     },
     "metadata": {},
     "output_type": "display_data"
    }
   ],
   "source": [
    "library(readxl)\n",
    "\n",
    "file_path <- \"../data/height.xlsx\"\n",
    "height = read_excel(file_path)\n",
    "\n",
    "\n",
    "\n",
    "\n",
    "head(height, 3)\n",
    "tail(height, 2)"
   ]
  },
  {
   "cell_type": "markdown",
   "metadata": {},
   "source": [
    "## Test the normality of heights of football and basketball players.\n"
   ]
  },
  {
   "cell_type": "code",
   "execution_count": 77,
   "metadata": {
    "vscode": {
     "languageId": "r"
    }
   },
   "outputs": [
    {
     "name": "stdout",
     "output_type": "stream",
     "text": [
      "\n",
      "\tShapiro-Wilk normality test\n",
      "\n",
      "data:  height$HtFt\n",
      "W = 0.93655, p-value = 0.01609\n",
      "\n",
      "\n",
      "\tShapiro-Wilk normality test\n",
      "\n",
      "data:  height$HtBk\n",
      "W = 0.96839, p-value = 0.3197\n",
      "\n"
     ]
    },
    {
     "name": "stderr",
     "output_type": "stream",
     "text": [
      "Warning message:\n",
      "“\u001b[1m\u001b[22mRemoved 5 rows containing non-finite outside the scale range (`stat_bin()`).”\n"
     ]
    },
    {
     "data": {
      "image/png": "[encoded data removed]",
      "text/plain": [
       "plot without title"
      ]
     },
     "metadata": {
      "image/png": {
       "height": 420,
       "width": 420
      }
     },
     "output_type": "display_data"
    },
    {
     "data": {
      "image/png": "[encoded data removed]",
      "text/plain": [
       "plot without title"
      ]
     },
     "metadata": {
      "image/png": {
       "height": 420,
       "width": 420
      }
     },
     "output_type": "display_data"
    }
   ],
   "source": [
    "print(shapiro.test(height$HtFt))\n",
    "\n",
    "print(shapiro.test(height$HtBk))\n",
    "\n",
    "\n",
    "library(ggplot2)\n",
    "ggplot(height, aes(x = HtFt))+\n",
    "    geom_histogram(fill = \"blue\", col = \"white\", binwidth = 0.08)\n",
    "ggplot(height, aes(x = HtBk))+\n",
    "    geom_histogram(fill = \"blue\", col = \"white\", binwidth = 0.08)\n"
   ]
  },
  {
   "cell_type": "markdown",
   "metadata": {},
   "source": [
    "## Test the equity of means and variances of the heights of football and basketball players.\n"
   ]
  },
  {
   "cell_type": "code",
   "execution_count": 86,
   "metadata": {
    "vscode": {
     "languageId": "r"
    }
   },
   "outputs": [
    {
     "name": "stdout",
     "output_type": "stream",
     "text": [
      "\n",
      "\tFligner-Killeen test of homogeneity of variances\n",
      "\n",
      "data:  height$HtFt and height$HtBk\n",
      "Fligner-Killeen:med chi-squared = 10.802, df = 14, p-value = 0.7015\n",
      "\n"
     ]
    },
    {
     "name": "stdout",
     "output_type": "stream",
     "text": [
      "\n",
      "\tTwo Sample t-test\n",
      "\n",
      "data:  height$HtFt and height$HtBk\n",
      "t = -3.6841, df = 83, p-value = 0.0004078\n",
      "alternative hypothesis: true difference in means is not equal to 0\n",
      "95 percent confidence interval:\n",
      " -0.4224820 -0.1262403\n",
      "sample estimates:\n",
      "mean of x mean of y \n",
      " 6.178889  6.453250 \n",
      "\n"
     ]
    }
   ],
   "source": [
    "# Тест Флигнера-Килена для проверки равенства дисперсий\n",
    "fligner_test_result <- fligner.test(height$HtFt, height$HtBk)\n",
    "print(fligner_test_result)\n",
    "\n",
    "# Т-тест для проверки равенства средних\n",
    "# Выполнение t-теста, предполагая равенство дисперсий\n",
    "student_test <- t.test(\n",
    "    x = height$HtFt,\n",
    "    y = height$HtBk,\n",
    "    alternative = \"two.sided\",  # Двусторонний тест\n",
    "    mu = 0,                      # Проверяем, равны ли средние\n",
    "    paired = FALSE,              # Не парный тест\n",
    "    var.equal = TRUE,           # Предполагаем равенство дисперсий\n",
    "    conf.level = 0.95           # 95% доверительный интервал\n",
    ")\n",
    "print(student_test)\n"
   ]
  },
  {
   "cell_type": "markdown",
   "metadata": {},
   "source": [
    "## Test if the distributions of the heights of football and basketball players are the same."
   ]
  },
  {
   "cell_type": "code",
   "execution_count": 132,
   "metadata": {
    "vscode": {
     "languageId": "r"
    }
   },
   "outputs": [
    {
     "name": "stdout",
     "output_type": "stream",
     "text": [
      "\n",
      "\tWilcoxon rank sum exact test\n",
      "\n",
      "data:  jitter(height$HtFt) and jitter(height$HtBk)\n",
      "W = 513, p-value = 0.0005413\n",
      "alternative hypothesis: true location shift is not equal to 0\n",
      "\n"
     ]
    }
   ],
   "source": [
    "wilcox_test = wilcox.test(jitter(height$HtFt),jitter(height$HtBk))\n",
    "print(wilcox_test)"
   ]
  },
  {
   "cell_type": "markdown",
   "metadata": {},
   "source": [
    "# Surgery\n",
    "\n",
    "5. For dataset “sugery.xlsx”:\n",
    "   - Test the hypothesis that the operation is successful with probability 0.7. By success we mean that “V right” before operation is less than “V right” after operation and at the same time “V left” before operation is less than “V left” after operation.\n"
   ]
  },
  {
   "cell_type": "code",
   "execution_count": null,
   "metadata": {
    "vscode": {
     "languageId": "r"
    }
   },
   "outputs": [
    {
     "data": {
      "text/html": [
       "<table class=\"dataframe\">\n",
       "<caption>A tibble: 3 × 4</caption>\n",
       "<thead>\n",
       "\t<tr><th scope=col>Before V right</th><th scope=col>Before V left</th><th scope=col>After V right</th><th scope=col>After V left</th></tr>\n",
       "\t<tr><th scope=col>&lt;dbl&gt;</th><th scope=col>&lt;dbl&gt;</th><th scope=col>&lt;dbl&gt;</th><th scope=col>&lt;dbl&gt;</th></tr>\n",
       "</thead>\n",
       "<tbody>\n",
       "\t<tr><td>7.2</td><td>6.7</td><td>12.0</td><td>13.1</td></tr>\n",
       "\t<tr><td>1.2</td><td>1.2</td><td> 4.5</td><td> 4.2</td></tr>\n",
       "\t<tr><td>6.7</td><td>7.3</td><td>15.3</td><td>14.9</td></tr>\n",
       "</tbody>\n",
       "</table>\n"
      ],
      "text/latex": [
       "A tibble: 3 × 4\n",
       "\\begin{tabular}{llll}\n",
       " Before V right & Before V left & After V right & After V left\\\\\n",
       " <dbl> & <dbl> & <dbl> & <dbl>\\\\\n",
       "\\hline\n",
       "\t 7.2 & 6.7 & 12.0 & 13.1\\\\\n",
       "\t 1.2 & 1.2 &  4.5 &  4.2\\\\\n",
       "\t 6.7 & 7.3 & 15.3 & 14.9\\\\\n",
       "\\end{tabular}\n"
      ],
      "text/markdown": [
       "\n",
       "A tibble: 3 × 4\n",
       "\n",
       "| Before V right &lt;dbl&gt; | Before V left &lt;dbl&gt; | After V right &lt;dbl&gt; | After V left &lt;dbl&gt; |\n",
       "|---|---|---|---|\n",
       "| 7.2 | 6.7 | 12.0 | 13.1 |\n",
       "| 1.2 | 1.2 |  4.5 |  4.2 |\n",
       "| 6.7 | 7.3 | 15.3 | 14.9 |\n",
       "\n"
      ],
      "text/plain": [
       "  Before V right Before V left After V right After V left\n",
       "1 7.2            6.7           12.0          13.1        \n",
       "2 1.2            1.2            4.5           4.2        \n",
       "3 6.7            7.3           15.3          14.9        "
      ]
     },
     "metadata": {},
     "output_type": "display_data"
    },
    {
     "data": {
      "text/html": [
       "<table class=\"dataframe\">\n",
       "<caption>A tibble: 2 × 4</caption>\n",
       "<thead>\n",
       "\t<tr><th scope=col>Before V right</th><th scope=col>Before V left</th><th scope=col>After V right</th><th scope=col>After V left</th></tr>\n",
       "\t<tr><th scope=col>&lt;dbl&gt;</th><th scope=col>&lt;dbl&gt;</th><th scope=col>&lt;dbl&gt;</th><th scope=col>&lt;dbl&gt;</th></tr>\n",
       "</thead>\n",
       "<tbody>\n",
       "\t<tr><td>11.7</td><td> 8.3</td><td>11.7</td><td> 9.3</td></tr>\n",
       "\t<tr><td>11.4</td><td>11.5</td><td>14.8</td><td>16.3</td></tr>\n",
       "</tbody>\n",
       "</table>\n"
      ],
      "text/latex": [
       "A tibble: 2 × 4\n",
       "\\begin{tabular}{llll}\n",
       " Before V right & Before V left & After V right & After V left\\\\\n",
       " <dbl> & <dbl> & <dbl> & <dbl>\\\\\n",
       "\\hline\n",
       "\t 11.7 &  8.3 & 11.7 &  9.3\\\\\n",
       "\t 11.4 & 11.5 & 14.8 & 16.3\\\\\n",
       "\\end{tabular}\n"
      ],
      "text/markdown": [
       "\n",
       "A tibble: 2 × 4\n",
       "\n",
       "| Before V right &lt;dbl&gt; | Before V left &lt;dbl&gt; | After V right &lt;dbl&gt; | After V left &lt;dbl&gt; |\n",
       "|---|---|---|---|\n",
       "| 11.7 |  8.3 | 11.7 |  9.3 |\n",
       "| 11.4 | 11.5 | 14.8 | 16.3 |\n",
       "\n"
      ],
      "text/plain": [
       "  Before V right Before V left After V right After V left\n",
       "1 11.7            8.3          11.7           9.3        \n",
       "2 11.4           11.5          14.8          16.3        "
      ]
     },
     "metadata": {},
     "output_type": "display_data"
    }
   ],
   "source": [
    "library(readxl)\n",
    "\n",
    "file_path <- \"../data/surgery.xlsx\"\n",
    "surgery = read_excel(file_path)\n",
    "\n",
    "surgery = na.omit(surgery)# оставим только завершенные строки\n",
    "\n",
    "\n",
    "head(surgery, 3)\n",
    "tail(surgery, 2)"
   ]
  },
  {
   "cell_type": "markdown",
   "metadata": {},
   "source": [
    "## Test the hypothesis that the operation is successful with probability 0.7. <- Binomial test\n",
    "By success we mean that “V right” before operation is less than “V right” after operation and at the same time “V left” before operation is less than “V left” after operation."
   ]
  },
  {
   "cell_type": "markdown",
   "metadata": {},
   "source": [
    "H0: $p=p_0 , p_0=0.7$\n",
    "\n",
    "H1: $p=p_1 , p_1\\neq0.7$\n",
    "\n",
    "(depends on $\\hat{p}$:\n",
    "\n",
    "[V_left_(before sugery) < V_left_(after sugery)] +\n",
    "\n",
    "[V_right_(before sugery) < V_right_(after sugery)] =\n",
    "\n",
    "= success = $\\hat{p}$)\n",
    "\n",
    "1. count success cases\n",
    "2. count all cases\n"
   ]
  },
  {
   "cell_type": "code",
   "execution_count": 161,
   "metadata": {
    "vscode": {
     "languageId": "r"
    }
   },
   "outputs": [
    {
     "data": {
      "text/html": [
       "<table class=\"dataframe\">\n",
       "<caption>A data.frame: 2 × 2</caption>\n",
       "<thead>\n",
       "\t<tr><th scope=col>temp</th><th scope=col>Freq</th></tr>\n",
       "\t<tr><th scope=col>&lt;fct&gt;</th><th scope=col>&lt;int&gt;</th></tr>\n",
       "</thead>\n",
       "<tbody>\n",
       "\t<tr><td>FALSE</td><td>18</td></tr>\n",
       "\t<tr><td>TRUE </td><td>69</td></tr>\n",
       "</tbody>\n",
       "</table>\n"
      ],
      "text/latex": [
       "A data.frame: 2 × 2\n",
       "\\begin{tabular}{ll}\n",
       " temp & Freq\\\\\n",
       " <fct> & <int>\\\\\n",
       "\\hline\n",
       "\t FALSE & 18\\\\\n",
       "\t TRUE  & 69\\\\\n",
       "\\end{tabular}\n"
      ],
      "text/markdown": [
       "\n",
       "A data.frame: 2 × 2\n",
       "\n",
       "| temp &lt;fct&gt; | Freq &lt;int&gt; |\n",
       "|---|---|\n",
       "| FALSE | 18 |\n",
       "| TRUE  | 69 |\n",
       "\n"
      ],
      "text/plain": [
       "  temp  Freq\n",
       "1 FALSE 18  \n",
       "2 TRUE  69  "
      ]
     },
     "metadata": {},
     "output_type": "display_data"
    }
   ],
   "source": [
    "temp = \n",
    "    sugery$`Before V right` < sugery$`After V right` & \n",
    "    sugery$`Before V left` < sugery$`After V left`\n",
    "\n",
    "as.data.frame(table(temp)) # success and not success cases"
   ]
  },
  {
   "cell_type": "code",
   "execution_count": 160,
   "metadata": {
    "vscode": {
     "languageId": "r"
    }
   },
   "outputs": [
    {
     "data": {
      "text/plain": [
       "\n",
       "\tExact binomial test\n",
       "\n",
       "data:  69 and 87\n",
       "number of successes = 69, number of trials = 87, p-value = 0.06129\n",
       "alternative hypothesis: true probability of success is not equal to 0.7\n",
       "95 percent confidence interval:\n",
       " 0.6928684 0.8725251\n",
       "sample estimates:\n",
       "probability of success \n",
       "             0.7931034 \n"
      ]
     },
     "metadata": {},
     "output_type": "display_data"
    }
   ],
   "source": [
    "binom.test(\n",
    "    x = 69, # количество успешных собыйтий из общего числа испытаний\n",
    "    n = 87, # общее количество испытаний\n",
    "    p = 0.7 # гипотетическая вероятность успеха\n",
    "    )\n"
   ]
  }
 ],
 "metadata": {
  "kernelspec": {
   "display_name": "R",
   "language": "R",
   "name": "ir"
  },
  "language_info": {
   "codemirror_mode": "r",
   "file_extension": ".r",
   "mimetype": "text/x-r-source",
   "name": "R",
   "pygments_lexer": "r",
   "version": "4.3.1"
  }
 },
 "nbformat": 4,
 "nbformat_minor": 2
}
